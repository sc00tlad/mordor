{
 "cells": [
  {
   "cell_type": "markdown",
   "id": "b2ce31d1",
   "metadata": {},
   "source": [
    "# Lsass Memory Dump via Syscalls"
   ]
  },
  {
   "cell_type": "markdown",
   "id": "8a3d0b75",
   "metadata": {},
   "source": [
    "## Metadata"
   ]
  },
  {
   "cell_type": "markdown",
   "id": "cb4929df",
   "metadata": {},
   "source": [
    "\n",
    "|                   |    |\n",
    "|:------------------|:---|\n",
    "| Contributors      | Roberto Rodriguez @Cyb3rWard0g |\n",
    "| Creation Date     | 2020/10/18 |\n",
    "| Modification Date | 2020/10/18 |\n",
    "| Tactics           | [TA0006](https://attack.mitre.org/tactics/TA0006) |\n",
    "| Techniques        | [T1003.001](https://attack.mitre.org/techniques/T1003/001) |\n",
    "| Tags              | art.7ae7102c-a099-45c8-b985-4c7a2d05790d |"
   ]
  },
  {
   "cell_type": "markdown",
   "id": "895c276c",
   "metadata": {},
   "source": [
    "## Dataset Description\n",
    "This dataset represents adversaries using system calls (syscalls) and API unhooking to dump the memoty contents of lsass."
   ]
  },
  {
   "cell_type": "markdown",
   "id": "4a94725d",
   "metadata": {},
   "source": [
    "## Datasets Downloads"
   ]
  },
  {
   "cell_type": "markdown",
   "id": "bbedc788",
   "metadata": {},
   "source": [
    "\n",
    "| Type | Link   |\n",
    "|:-------------|:-------|\n",
    "| Host | [https://raw.githubusercontent.com/OTRF/Security-Datasets/master/datasets/atomic/windows/credential_access/host/cmd_lsass_memory_dumpert_syscalls.zip](https://raw.githubusercontent.com/OTRF/Security-Datasets/master/datasets/atomic/windows/credential_access/host/cmd_lsass_memory_dumpert_syscalls.zip) |"
   ]
  },
  {
   "cell_type": "markdown",
   "id": "7c3eb816",
   "metadata": {},
   "source": [
    "## Simulation Metadata"
   ]
  },
  {
   "cell_type": "markdown",
   "id": "20c6f6c0",
   "metadata": {},
   "source": [
    "### Tools"
   ]
  },
  {
   "cell_type": "markdown",
   "id": "215afe3a",
   "metadata": {},
   "source": [
    "\n",
    "| type | Name | Module |\n",
    "|:-----|:-----|--------|\n",
    "| Manual | Cmd | [Cmd](https://github.com/redcanaryco/atomic-red-team/blob/master/atomics/T1003.001/T1003.001.md#atomic-test-4---dump-lsassexe-memory-using-direct-system-calls-and-api-unhooking) |"
   ]
  },
  {
   "cell_type": "markdown",
   "id": "a2c3ad84",
   "metadata": {},
   "source": [
    "## Adversary View\n",
    "```\n",
    "C:\\Users\\wardog\\Desktop>Outflank-Dumpert.exe\n",
    "________          __    _____.__                 __\n",
    "\\_____  \\  __ ___/  |__/ ____\\  | _____    ____ |  | __\n",
    "  /   |   \\|  |  \\   __\\   __\\|  | \\__  \\  /    \\|  |/ /\n",
    "/    |    \\  |  /|  |  |  |  |  |__/ __ \\|   |  \\    <\n",
    "\\_______  /____/ |__|  |__|  |____(____  /___|  /__|_ \\\n",
    "        \\/                             \\/     \\/     \\/\n",
    "                                  Dumpert\n",
    "                              By Cneeliz @Outflank 2019\n",
    "\n",
    "[1] Checking OS version details:\n",
    "        [+] Operating System is Windows 10 or Server 2016, build number 18363\n",
    "        [+] Mapping version specific System calls.\n",
    "[2] Checking Process details:\n",
    "        [+] Process ID of lsass.exe is: 756\n",
    "        [+] NtReadVirtualMemory function pointer at: 0x00007FFB929DC890\n",
    "        [+] NtReadVirtualMemory System call nr is: 0x3f\n",
    "        [+] Unhooking NtReadVirtualMemory.\n",
    "[3] Create memorydump file:\n",
    "        [+] Open a process handle.\n",
    "        [+] Dump lsass.exe memory to: \\??\\C:\\windows\\Temp\\dumpert.dmp\n",
    "        [+] Dump succesful.\n",
    "\n",
    "C:\\Users\\wardog\\Desktop>\n",
    "```"
   ]
  },
  {
   "cell_type": "markdown",
   "id": "09e148db",
   "metadata": {},
   "source": [
    "## Explore Datasets"
   ]
  },
  {
   "cell_type": "markdown",
   "id": "4c951fb9",
   "metadata": {},
   "source": [
    "### Download & Decompress Dataset"
   ]
  },
  {
   "cell_type": "code",
   "execution_count": null,
   "id": "e430f8a8",
   "metadata": {},
   "outputs": [],
   "source": [
    "import requests\n",
    "from zipfile import ZipFile\n",
    "from io import BytesIO\n",
    "\n",
    "url = https://raw.githubusercontent.com/OTRF/Security-Datasets/master/datasets/atomic/windows/credential_access/host/cmd_lsass_memory_dumpert_syscalls.zip\n",
    "zipFileRequest = requests.get(url)\n",
    "zipFile = ZipFile(BytesIO(zipFileRequest.content))\n",
    "datasetJSONPath = zipFile.extract(zipFile.namelist()[0])"
   ]
  },
  {
   "cell_type": "markdown",
   "id": "0a43a022",
   "metadata": {},
   "source": [
    "### Read JSON File"
   ]
  },
  {
   "cell_type": "code",
   "execution_count": null,
   "id": "886b82bc",
   "metadata": {},
   "outputs": [],
   "source": [
    "from pandas.io import json\n",
    "\n",
    "df = json.read_json(path_or_buf=datasetJSONPath, lines=True)"
   ]
  },
  {
   "cell_type": "markdown",
   "id": "047e3f7c",
   "metadata": {},
   "source": [
    "### Access Security Events"
   ]
  },
  {
   "cell_type": "code",
   "execution_count": null,
   "id": "4d136546",
   "metadata": {},
   "outputs": [],
   "source": [
    "df.groupby(['Channel']).size().sort_values(ascending=False)"
   ]
  },
  {
   "cell_type": "markdown",
   "id": "479a412f",
   "metadata": {},
   "source": [
    "## References\n",
    "* [https://github.com/redcanaryco/atomic-red-team/blob/master/atomics/T1003.001/T1003.001.md#atomic-test-4---dump-lsassexe-memory-using-direct-system-calls-and-api-unhooking](https://github.com/redcanaryco/atomic-red-team/blob/master/atomics/T1003.001/T1003.001.md#atomic-test-4---dump-lsassexe-memory-using-direct-system-calls-and-api-unhooking) \n",
    "* [https://github.com/outflanknl/Dumpert](https://github.com/outflanknl/Dumpert) \n",
    "* [https://outflank.nl/blog/2019/06/19/red-team-tactics-combining-direct-system-calls-and-srdi-to-bypass-av-edr/](https://outflank.nl/blog/2019/06/19/red-team-tactics-combining-direct-system-calls-and-srdi-to-bypass-av-edr/) "
   ]
  }
 ],
 "metadata": {},
 "nbformat": 4,
 "nbformat_minor": 5
}
