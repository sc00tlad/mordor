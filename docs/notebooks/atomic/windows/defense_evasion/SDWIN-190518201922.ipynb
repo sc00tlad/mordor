{
 "cells": [
  {
   "cell_type": "markdown",
   "id": "10a12d09",
   "metadata": {},
   "source": [
    "# Empire WDigest Downgrade"
   ]
  },
  {
   "cell_type": "markdown",
   "id": "24f1c9c7",
   "metadata": {},
   "source": [
    "## Metadata"
   ]
  },
  {
   "cell_type": "markdown",
   "id": "e95ca534",
   "metadata": {},
   "source": [
    "\n",
    "|                   |    |\n",
    "|:------------------|:---|\n",
    "| Contributors      | Roberto Rodriguez @Cyb3rWard0g |\n",
    "| Creation Date     | 2019/05/18 |\n",
    "| Modification Date | 2020/09/20 |\n",
    "| Tactics           | [TA0005](https://attack.mitre.org/tactics/TA0005) |\n",
    "| Techniques        | [T1112](https://attack.mitre.org/techniques/T1112) |\n",
    "| Tags              | Registry Modification,Windows Registry WDigest |"
   ]
  },
  {
   "cell_type": "markdown",
   "id": "a420a80e",
   "metadata": {},
   "source": [
    "## Dataset Description\n",
    "This dataset represents adversaries setting the UseLogonCredential property value from HKLM:\\SYSTEM\\CurrentControlSet\\Control\\SecurityProviders\\WDigest key to 1 to enable plain text passwords."
   ]
  },
  {
   "cell_type": "markdown",
   "id": "872d179a",
   "metadata": {},
   "source": [
    "## Datasets Downloads"
   ]
  },
  {
   "cell_type": "markdown",
   "id": "5ade17bc",
   "metadata": {},
   "source": [
    "\n",
    "| Type | Link   |\n",
    "|:-------------|:-------|\n",
    "| Host | [https://raw.githubusercontent.com/OTRF/Security-Datasets/master/datasets/atomic/windows/defense_evasion/host/empire_wdigest_downgrade.tar.gz](https://raw.githubusercontent.com/OTRF/Security-Datasets/master/datasets/atomic/windows/defense_evasion/host/empire_wdigest_downgrade.tar.gz) |"
   ]
  },
  {
   "cell_type": "markdown",
   "id": "5645d965",
   "metadata": {},
   "source": [
    "## Simulation Metadata"
   ]
  },
  {
   "cell_type": "markdown",
   "id": "5650205e",
   "metadata": {},
   "source": [
    "### Tools"
   ]
  },
  {
   "cell_type": "markdown",
   "id": "10de5df9",
   "metadata": {},
   "source": [
    "\n",
    "| type | Name | Module |\n",
    "|:-----|:-----|--------|\n",
    "| C2 | Empire | [wdigest_downgrade](https://github.com/EmpireProject/Empire/blob/dev/lib/modules/powershell/management/wdigest_downgrade.py) |"
   ]
  },
  {
   "cell_type": "markdown",
   "id": "0a418bc9",
   "metadata": {},
   "source": [
    "## Adversary View\n",
    "```\n",
    "None\n",
    "```"
   ]
  },
  {
   "cell_type": "markdown",
   "id": "9a68f34a",
   "metadata": {},
   "source": [
    "## Explore Datasets"
   ]
  },
  {
   "cell_type": "markdown",
   "id": "02231860",
   "metadata": {},
   "source": [
    "### Download & Decompress Dataset"
   ]
  },
  {
   "cell_type": "code",
   "execution_count": null,
   "id": "7d55eb37",
   "metadata": {},
   "outputs": [],
   "source": [
    "import requests\n",
    "from zipfile import ZipFile\n",
    "from io import BytesIO\n",
    "\n",
    "url = https://raw.githubusercontent.com/OTRF/Security-Datasets/master/datasets/atomic/windows/defense_evasion/host/empire_wdigest_downgrade.tar.gz\n",
    "zipFileRequest = requests.get(url)\n",
    "zipFile = ZipFile(BytesIO(zipFileRequest.content))\n",
    "datasetJSONPath = zipFile.extract(zipFile.namelist()[0])"
   ]
  },
  {
   "cell_type": "markdown",
   "id": "ace89386",
   "metadata": {},
   "source": [
    "### Read JSON File"
   ]
  },
  {
   "cell_type": "code",
   "execution_count": null,
   "id": "15c2bfda",
   "metadata": {},
   "outputs": [],
   "source": [
    "from pandas.io import json\n",
    "\n",
    "df = json.read_json(path_or_buf=datasetJSONPath, lines=True)"
   ]
  },
  {
   "cell_type": "markdown",
   "id": "a19ac3cc",
   "metadata": {},
   "source": [
    "### Access Security Events"
   ]
  },
  {
   "cell_type": "code",
   "execution_count": null,
   "id": "0bb1e0b3",
   "metadata": {},
   "outputs": [],
   "source": [
    "df.groupby(['Channel']).size().sort_values(ascending=False)"
   ]
  },
  {
   "cell_type": "markdown",
   "id": "46d8b505",
   "metadata": {},
   "source": [
    "## References\n",
    "* [https://powersploit.readthedocs.io/en/latest/CodeExecution/Invoke-ReflectivePEInjection/](https://powersploit.readthedocs.io/en/latest/CodeExecution/Invoke-ReflectivePEInjection/) \n",
    "* [https://github.com/PowerShellEmpire/PowerTools/tree/master/PowerPick#psinjectps1](https://github.com/PowerShellEmpire/PowerTools/tree/master/PowerPick#psinjectps1) "
   ]
  }
 ],
 "metadata": {},
 "nbformat": 4,
 "nbformat_minor": 5
}
