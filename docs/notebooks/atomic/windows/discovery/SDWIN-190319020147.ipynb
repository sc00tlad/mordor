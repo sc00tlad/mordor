{
 "cells": [
  {
   "cell_type": "markdown",
   "id": "d69f0767",
   "metadata": {},
   "source": [
    "# Empire Net Local Administrators Group"
   ]
  },
  {
   "cell_type": "markdown",
   "id": "2768a535",
   "metadata": {},
   "source": [
    "## Metadata"
   ]
  },
  {
   "cell_type": "markdown",
   "id": "1a3acbd7",
   "metadata": {},
   "source": [
    "\n",
    "|                   |    |\n",
    "|:------------------|:---|\n",
    "| Contributors      | Roberto Rodriguez @Cyb3rWard0g |\n",
    "| Creation Date     | 2019/03/19 |\n",
    "| Modification Date | 2020/09/20 |\n",
    "| Tactics           | [TA0007](https://attack.mitre.org/tactics/TA0007) |\n",
    "| Techniques        | [T1069.001](https://attack.mitre.org/techniques/T1069/001) |\n",
    "| Tags              | Local Administrators Group Enumeration |"
   ]
  },
  {
   "cell_type": "markdown",
   "id": "a559bb82",
   "metadata": {},
   "source": [
    "## Dataset Description\n",
    "This dataset represents adversaries enumerating members of the local Administratrors group via the net.exe utility"
   ]
  },
  {
   "cell_type": "markdown",
   "id": "f0429da3",
   "metadata": {},
   "source": [
    "## Datasets Downloads"
   ]
  },
  {
   "cell_type": "markdown",
   "id": "97d6be14",
   "metadata": {},
   "source": [
    "\n",
    "| Type | Link   |\n",
    "|:-------------|:-------|\n",
    "| Host | [https://raw.githubusercontent.com/OTRF/Security-Datasets/master/datasets/atomic/windows/discovery/host/empire_shell_net_localgroup_administrators.zip](https://raw.githubusercontent.com/OTRF/Security-Datasets/master/datasets/atomic/windows/discovery/host/empire_shell_net_localgroup_administrators.zip) |"
   ]
  },
  {
   "cell_type": "markdown",
   "id": "110c9e9c",
   "metadata": {},
   "source": [
    "## Simulation Metadata"
   ]
  },
  {
   "cell_type": "markdown",
   "id": "661c5625",
   "metadata": {},
   "source": [
    "### Tools"
   ]
  },
  {
   "cell_type": "markdown",
   "id": "f3375696",
   "metadata": {},
   "source": [
    "\n",
    "| type | Name | Module |\n",
    "|:-----|:-----|--------|\n",
    "| C2 | Empire | [shell](net localgroup Administrators) |"
   ]
  },
  {
   "cell_type": "markdown",
   "id": "74124732",
   "metadata": {},
   "source": [
    "## Adversary View\n",
    "```\n",
    "(Empire: 1EHYPBVC) > agents\n",
    "\n",
    "[*] Active agents:\n",
    "\n",
    "Name     La Internal IP     Machine Name      Username                Process            PID    Delay    Last Seen            Listener\n",
    "----     -- -----------     ------------      --------                -------            ---    -----    ---------            ----------------\n",
    "4SUZ8X62 ps 172.18.39.5     WORKSTATION5      *THESHIRE\\pgustavo      powershell         4092   5/0.0    2020-09-21 21:59:29  http            \n",
    "1EHYPBVC ps 172.18.39.5     WORKSTATION5      *THESHIRE\\pgustavo      powershell         7456   5/0.0    2020-09-21 23:18:05  http            \n",
    "\n",
    "(Empire: agents) > interact 1EHYPBVC\n",
    "(Empire: 1EHYPBVC) > shell net localgroup Administrators\n",
    "[*] Tasked 1EHYPBVC to run TASK_SHELL\n",
    "[*] Agent 1EHYPBVC tasked with task ID 2\n",
    "(Empire: 1EHYPBVC) > \n",
    "Alias name     Administrators\n",
    "Comment        Administrators have complete and unrestricted access to the computer/domain\n",
    "\n",
    "Members\n",
    "\n",
    "-------------------------------------------------------------------------------\n",
    "THESHIRE\\Domain Admins\n",
    "wardog\n",
    "The command completed successfully.\n",
    "\n",
    "\n",
    "..Command execution completed.\n",
    "\n",
    "(Empire: 1EHYPBVC) >\n",
    "```"
   ]
  },
  {
   "cell_type": "markdown",
   "id": "34ecc719",
   "metadata": {},
   "source": [
    "## Explore Datasets"
   ]
  },
  {
   "cell_type": "markdown",
   "id": "56e8a208",
   "metadata": {},
   "source": [
    "### Download & Decompress Dataset"
   ]
  },
  {
   "cell_type": "code",
   "execution_count": null,
   "id": "42a47c95",
   "metadata": {},
   "outputs": [],
   "source": [
    "import requests\n",
    "from zipfile import ZipFile\n",
    "from io import BytesIO\n",
    "\n",
    "url = https://raw.githubusercontent.com/OTRF/Security-Datasets/master/datasets/atomic/windows/discovery/host/empire_shell_net_localgroup_administrators.zip\n",
    "zipFileRequest = requests.get(url)\n",
    "zipFile = ZipFile(BytesIO(zipFileRequest.content))\n",
    "datasetJSONPath = zipFile.extract(zipFile.namelist()[0])"
   ]
  },
  {
   "cell_type": "markdown",
   "id": "f534e6e0",
   "metadata": {},
   "source": [
    "### Read JSON File"
   ]
  },
  {
   "cell_type": "code",
   "execution_count": null,
   "id": "2ea4d02e",
   "metadata": {},
   "outputs": [],
   "source": [
    "from pandas.io import json\n",
    "\n",
    "df = json.read_json(path_or_buf=datasetJSONPath, lines=True)"
   ]
  },
  {
   "cell_type": "markdown",
   "id": "3525397a",
   "metadata": {},
   "source": [
    "### Access Security Events"
   ]
  },
  {
   "cell_type": "code",
   "execution_count": null,
   "id": "39977fa6",
   "metadata": {},
   "outputs": [],
   "source": [
    "df.groupby(['Channel']).size().sort_values(ascending=False)"
   ]
  },
  {
   "cell_type": "markdown",
   "id": "b1ba36fc",
   "metadata": {},
   "source": [
    "## References\n",
    "* [https://github.com/redcanaryco/atomic-red-team/blob/master/atomics/T1027.001/T1027.001.md#atomic-test-1---pad-binary-to-change-hash---linuxmacos-dd](https://github.com/redcanaryco/atomic-red-team/blob/master/atomics/T1027.001/T1027.001.md#atomic-test-1---pad-binary-to-change-hash---linuxmacos-dd) "
   ]
  }
 ],
 "metadata": {},
 "nbformat": 4,
 "nbformat_minor": 5
}
