{
 "cells": [
  {
   "cell_type": "markdown",
   "id": "9d7a163a",
   "metadata": {},
   "source": [
    "# Empire Net Local Users"
   ]
  },
  {
   "cell_type": "markdown",
   "id": "42baada0",
   "metadata": {},
   "source": [
    "## Metadata"
   ]
  },
  {
   "cell_type": "markdown",
   "id": "bb2d882f",
   "metadata": {},
   "source": [
    "\n",
    "|                   |    |\n",
    "|:------------------|:---|\n",
    "| Contributors      | Roberto Rodriguez @Cyb3rWard0g |\n",
    "| Creation Date     | 2019/03/19 |\n",
    "| Modification Date | 2020/09/20 |\n",
    "| Tactics           | [TA0007](https://attack.mitre.org/tactics/TA0007) |\n",
    "| Techniques        | [T1087.001](https://attack.mitre.org/techniques/T1087/001) |\n",
    "| Tags              | Local Users Enumeration |"
   ]
  },
  {
   "cell_type": "markdown",
   "id": "db11c4e4",
   "metadata": {},
   "source": [
    "## Dataset Description\n",
    "This dataset represents adversaries enumerating all local users on an endpoint"
   ]
  },
  {
   "cell_type": "markdown",
   "id": "9076bdbd",
   "metadata": {},
   "source": [
    "## Datasets Downloads"
   ]
  },
  {
   "cell_type": "markdown",
   "id": "cb3136dc",
   "metadata": {},
   "source": [
    "\n",
    "| Type | Link   |\n",
    "|:-------------|:-------|\n",
    "| Host | [https://raw.githubusercontent.com/OTRF/Security-Datasets/master/datasets/atomic/windows/discovery/host/empire_shell_net_local_users.zip](https://raw.githubusercontent.com/OTRF/Security-Datasets/master/datasets/atomic/windows/discovery/host/empire_shell_net_local_users.zip) |"
   ]
  },
  {
   "cell_type": "markdown",
   "id": "7614189c",
   "metadata": {},
   "source": [
    "## Simulation Metadata"
   ]
  },
  {
   "cell_type": "markdown",
   "id": "82a9db0f",
   "metadata": {},
   "source": [
    "### Tools"
   ]
  },
  {
   "cell_type": "markdown",
   "id": "dfbcfb70",
   "metadata": {},
   "source": [
    "\n",
    "| type | Name | Module |\n",
    "|:-----|:-----|--------|\n",
    "| C2 | Empire | [shell](net user) |"
   ]
  },
  {
   "cell_type": "markdown",
   "id": "1623296c",
   "metadata": {},
   "source": [
    "## Adversary View\n",
    "```\n",
    "(Empire: 1EHYPBVC) > agents\n",
    "\n",
    "[*] Active agents:\n",
    "\n",
    "Name     La Internal IP     Machine Name      Username                Process            PID    Delay    Last Seen            Listener\n",
    "----     -- -----------     ------------      --------                -------            ---    -----    ---------            ----------------\n",
    "4SUZ8X62 ps 172.18.39.5     WORKSTATION5      *THESHIRE\\pgustavo      powershell         4092   5/0.0    2020-09-21 21:59:29  http            \n",
    "1EHYPBVC ps 172.18.39.5     WORKSTATION5      *THESHIRE\\pgustavo      powershell         7456   5/0.0    2020-09-21 23:25:39  http            \n",
    "\n",
    "(Empire: agents) > interact 1EHYPBVC\n",
    "(Empire: 1EHYPBVC) > shell net user\n",
    "[*] Tasked 1EHYPBVC to run TASK_SHELL\n",
    "[*] Agent 1EHYPBVC tasked with task ID 3\n",
    "(Empire: 1EHYPBVC) > \n",
    "User accounts for \\\\WORKSTATION5\n",
    "\n",
    "-------------------------------------------------------------------------------\n",
    "DefaultAccount           Guest                    wardog                   \n",
    "WDAGUtilityAccount       \n",
    "The command completed successfully.\n",
    "\n",
    "..Command execution completed.\n",
    "\n",
    "(Empire: 1EHYPBVC) > \n",
    "```"
   ]
  },
  {
   "cell_type": "markdown",
   "id": "a7a1accd",
   "metadata": {},
   "source": [
    "## Explore Datasets"
   ]
  },
  {
   "cell_type": "markdown",
   "id": "963e3c03",
   "metadata": {},
   "source": [
    "### Download & Decompress Dataset"
   ]
  },
  {
   "cell_type": "code",
   "execution_count": null,
   "id": "f819c72e",
   "metadata": {},
   "outputs": [],
   "source": [
    "import requests\n",
    "from zipfile import ZipFile\n",
    "from io import BytesIO\n",
    "\n",
    "url = https://raw.githubusercontent.com/OTRF/Security-Datasets/master/datasets/atomic/windows/discovery/host/empire_shell_net_local_users.zip\n",
    "zipFileRequest = requests.get(url)\n",
    "zipFile = ZipFile(BytesIO(zipFileRequest.content))\n",
    "datasetJSONPath = zipFile.extract(zipFile.namelist()[0])"
   ]
  },
  {
   "cell_type": "markdown",
   "id": "2d0e3958",
   "metadata": {},
   "source": [
    "### Read JSON File"
   ]
  },
  {
   "cell_type": "code",
   "execution_count": null,
   "id": "5a4102e7",
   "metadata": {},
   "outputs": [],
   "source": [
    "from pandas.io import json\n",
    "\n",
    "df = json.read_json(path_or_buf=datasetJSONPath, lines=True)"
   ]
  },
  {
   "cell_type": "markdown",
   "id": "0052d518",
   "metadata": {},
   "source": [
    "### Access Security Events"
   ]
  },
  {
   "cell_type": "code",
   "execution_count": null,
   "id": "150b3140",
   "metadata": {},
   "outputs": [],
   "source": [
    "df.groupby(['Channel']).size().sort_values(ascending=False)"
   ]
  },
  {
   "cell_type": "markdown",
   "id": "a8df824c",
   "metadata": {},
   "source": [
    "## References\n",
    "* [https://docs.microsoft.com/en-us/windows/win32/netmgmt/user-functions](https://docs.microsoft.com/en-us/windows/win32/netmgmt/user-functions) "
   ]
  }
 ],
 "metadata": {},
 "nbformat": 4,
 "nbformat_minor": 5
}
