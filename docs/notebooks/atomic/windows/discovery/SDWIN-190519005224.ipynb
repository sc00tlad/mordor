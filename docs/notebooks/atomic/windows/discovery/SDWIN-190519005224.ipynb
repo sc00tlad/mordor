{
 "cells": [
  {
   "cell_type": "markdown",
   "id": "8c3bcc79",
   "metadata": {},
   "source": [
    "# Empire Remote Get Session"
   ]
  },
  {
   "cell_type": "markdown",
   "id": "b4c0075b",
   "metadata": {},
   "source": [
    "## Metadata"
   ]
  },
  {
   "cell_type": "markdown",
   "id": "0b700df2",
   "metadata": {},
   "source": [
    "\n",
    "|                   |    |\n",
    "|:------------------|:---|\n",
    "| Contributors      | Roberto Rodriguez @Cyb3rWard0g |\n",
    "| Creation Date     | 2019/05/19 |\n",
    "| Modification Date | 2019/09/20 |\n",
    "| Tactics           | [TA0007](https://attack.mitre.org/tactics/TA0007) |\n",
    "| Techniques        | [T1049](https://attack.mitre.org/techniques/T1049) |\n",
    "| Tags              | RPC NetSessEnum,SMB Srvsvc |"
   ]
  },
  {
   "cell_type": "markdown",
   "id": "f1464cd7",
   "metadata": {},
   "source": [
    "## Dataset Description\n",
    "This dataset represents adversaries leveraging RPC SRVSVC and the method NetSessEnum over SMB to query remote hosts for active sessions"
   ]
  },
  {
   "cell_type": "markdown",
   "id": "b63375e8",
   "metadata": {},
   "source": [
    "## Datasets Downloads"
   ]
  },
  {
   "cell_type": "markdown",
   "id": "eaefa351",
   "metadata": {},
   "source": [
    "\n",
    "| Type | Link   |\n",
    "|:-------------|:-------|\n",
    "| Host | [https://raw.githubusercontent.com/OTRF/Security-Datasets/master/datasets/atomic/windows/discovery/host/empire_getsession_dcerpc_smb_srvsvc_NetSessEnum.zip](https://raw.githubusercontent.com/OTRF/Security-Datasets/master/datasets/atomic/windows/discovery/host/empire_getsession_dcerpc_smb_srvsvc_NetSessEnum.zip) |\n",
    "| Network | [https://raw.githubusercontent.com/OTRF/Security-Datasets/master/datasets/atomic/windows/discovery/network/empire_getsession_dcerpc_smb_srvsvc_NetSessEnum.zip](https://raw.githubusercontent.com/OTRF/Security-Datasets/master/datasets/atomic/windows/discovery/network/empire_getsession_dcerpc_smb_srvsvc_NetSessEnum.zip) |"
   ]
  },
  {
   "cell_type": "markdown",
   "id": "7ec7698c",
   "metadata": {},
   "source": [
    "## Simulation Metadata"
   ]
  },
  {
   "cell_type": "markdown",
   "id": "694d4cae",
   "metadata": {},
   "source": [
    "### Tools"
   ]
  },
  {
   "cell_type": "markdown",
   "id": "0696d281",
   "metadata": {},
   "source": [
    "\n",
    "| type | Name | Module |\n",
    "|:-----|:-----|--------|\n",
    "| C2 | Empire | [get_session](https://raw.githubusercontent.com/EmpireProject/Empire/dev/data/module_source/situational_awareness/network/powerview.ps1) |"
   ]
  },
  {
   "cell_type": "markdown",
   "id": "4ff8eefb",
   "metadata": {},
   "source": [
    "## Adversary View\n",
    "```\n",
    "(Empire: WE8XYD3K) > agents\n",
    "\n",
    "[*] Active agents:\n",
    "\n",
    "Name     La Internal IP     Machine Name      Username                Process            PID    Delay    Last Seen            Listener\n",
    "----     -- -----------     ------------      --------                -------            ---    -----    ---------            ----------------\n",
    "WE8XYD3K ps 172.18.39.5     WORKSTATION5      *THESHIRE\\pgustavo      powershell         5972   5/0.0    2020-09-22 07:44:38  http            \n",
    "\n",
    "(Empire: agents) > interact WE8XYD3K\n",
    "(Empire: WE8XYD3K) > usemodule situational_awareness/network/powerview/get_session\n",
    "(Empire: powershell/situational_awareness/network/powerview/get_session) > info\n",
    "\n",
    "              Name: Get-NetSession\n",
    "            Module: powershell/situational_awareness/network/powerview/get_session\n",
    "        NeedsAdmin: False\n",
    "        OpsecSafe: True\n",
    "          Language: powershell\n",
    "MinLanguageVersion: 2\n",
    "        Background: True\n",
    "  OutputExtension: None\n",
    "\n",
    "Authors:\n",
    "  @harmj0y\n",
    "\n",
    "Description:\n",
    "  Execute the NetSessionEnum Win32API call to query a given\n",
    "  host for active sessions on the host. Part of PowerView.\n",
    "\n",
    "Comments:\n",
    "  https://github.com/PowerShellMafia/PowerSploit/blob/dev/Reco\n",
    "  n/\n",
    "\n",
    "Options:\n",
    "\n",
    "  Name         Required    Value                     Description\n",
    "  ----         --------    -------                   -----------\n",
    "  Agent        True        WE8XYD3K                  Agent to run module on.                 \n",
    "  ComputerName False       localhost                 The hostname or IP to query for local   \n",
    "                                                    group users.                            \n",
    "\n",
    "(Empire: powershell/situational_awareness/network/powerview/get_session) > set ComputerName MORDORDC\n",
    "(Empire: powershell/situational_awareness/network/powerview/get_session) > execute\n",
    "[*] Tasked WE8XYD3K to run TASK_CMD_JOB\n",
    "[*] Agent WE8XYD3K tasked with task ID 2\n",
    "[*] Tasked agent WE8XYD3K to run module powershell/situational_awareness/network/powerview/get_session\n",
    "(Empire: powershell/situational_awareness/network/powerview/get_session) > \n",
    "Job started: DV248X\n",
    "\n",
    "CName         UserName Time IdleTime ComputerName\n",
    "-----         -------- ---- -------- ------------\n",
    "\\\\172.18.39.5 pgustavo    0        0 MORDORDC    \n",
    "\n",
    "Get-NetSession completed!\n",
    "\n",
    "(Empire: powershell/situational_awareness/network/powerview/get_session) > \n",
    "```"
   ]
  },
  {
   "cell_type": "markdown",
   "id": "5303daa3",
   "metadata": {},
   "source": [
    "## Explore Datasets"
   ]
  },
  {
   "cell_type": "markdown",
   "id": "7b50f96a",
   "metadata": {},
   "source": [
    "### Download & Decompress Dataset"
   ]
  },
  {
   "cell_type": "code",
   "execution_count": null,
   "id": "5399919e",
   "metadata": {},
   "outputs": [],
   "source": [
    "import requests\n",
    "from zipfile import ZipFile\n",
    "from io import BytesIO\n",
    "\n",
    "url = https://raw.githubusercontent.com/OTRF/Security-Datasets/master/datasets/atomic/windows/discovery/host/empire_getsession_dcerpc_smb_srvsvc_NetSessEnum.zip\n",
    "zipFileRequest = requests.get(url)\n",
    "zipFile = ZipFile(BytesIO(zipFileRequest.content))\n",
    "datasetJSONPath = zipFile.extract(zipFile.namelist()[0])"
   ]
  },
  {
   "cell_type": "markdown",
   "id": "ec0c810a",
   "metadata": {},
   "source": [
    "### Read JSON File"
   ]
  },
  {
   "cell_type": "code",
   "execution_count": null,
   "id": "d5d5992c",
   "metadata": {},
   "outputs": [],
   "source": [
    "from pandas.io import json\n",
    "\n",
    "df = json.read_json(path_or_buf=datasetJSONPath, lines=True)"
   ]
  },
  {
   "cell_type": "markdown",
   "id": "9af75922",
   "metadata": {},
   "source": [
    "### Access Security Events"
   ]
  },
  {
   "cell_type": "code",
   "execution_count": null,
   "id": "0d2a32aa",
   "metadata": {},
   "outputs": [],
   "source": [
    "df.groupby(['Channel']).size().sort_values(ascending=False)"
   ]
  },
  {
   "cell_type": "markdown",
   "id": "73bbdf96",
   "metadata": {},
   "source": [
    "## References\n",
    "* [https://www.elastic.co/blog/ten-process-injection-techniques-technical-survey-common-and-trending-process](https://www.elastic.co/blog/ten-process-injection-techniques-technical-survey-common-and-trending-process) "
   ]
  }
 ],
 "metadata": {},
 "nbformat": 4,
 "nbformat_minor": 5
}
