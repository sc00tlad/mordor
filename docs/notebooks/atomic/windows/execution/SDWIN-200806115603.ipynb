{
 "cells": [
  {
   "cell_type": "markdown",
   "id": "b180e786",
   "metadata": {},
   "source": [
    "# Covenant PowerShell Remoting Command"
   ]
  },
  {
   "cell_type": "markdown",
   "id": "5112952e",
   "metadata": {},
   "source": [
    "## Metadata"
   ]
  },
  {
   "cell_type": "markdown",
   "id": "30f40958",
   "metadata": {},
   "source": [
    "\n",
    "|                   |    |\n",
    "|:------------------|:---|\n",
    "| Contributors      | Roberto Rodriguez @Cyb3rWard0g |\n",
    "| Creation Date     | 2020/08/06 |\n",
    "| Modification Date | 2020/09/20 |\n",
    "| Tactics           | [TA0002](https://attack.mitre.org/tactics/TA0002),[TA0008](https://attack.mitre.org/tactics/TA0008) |\n",
    "| Techniques        | [T1021.006](https://attack.mitre.org/techniques/T1021/006) |\n",
    "| Tags              | PowerShell Remoting |"
   ]
  },
  {
   "cell_type": "markdown",
   "id": "69ac4a70",
   "metadata": {},
   "source": [
    "## Dataset Description\n",
    "This dataset represents adversaries executing malicious code on remote hosts using PowerShell Remoting (WinRM)."
   ]
  },
  {
   "cell_type": "markdown",
   "id": "8cff83a1",
   "metadata": {},
   "source": [
    "## Datasets Downloads"
   ]
  },
  {
   "cell_type": "markdown",
   "id": "567253a8",
   "metadata": {},
   "source": [
    "\n",
    "| Type | Link   |\n",
    "|:-------------|:-------|\n",
    "| Host | [https://raw.githubusercontent.com/OTRF/Security-Datasets/master/datasets/atomic/windows/lateral_movement/host/covenant_psremoting_command.zip](https://raw.githubusercontent.com/OTRF/Security-Datasets/master/datasets/atomic/windows/lateral_movement/host/covenant_psremoting_command.zip) |\n",
    "| Network | [https://raw.githubusercontent.com/OTRF/Security-Datasets/master/datasets/atomic/windows/lateral_movement/network/covenant_psremoting_command.zip](https://raw.githubusercontent.com/OTRF/Security-Datasets/master/datasets/atomic/windows/lateral_movement/network/covenant_psremoting_command.zip) |"
   ]
  },
  {
   "cell_type": "markdown",
   "id": "0b08613d",
   "metadata": {},
   "source": [
    "## Simulation Metadata"
   ]
  },
  {
   "cell_type": "markdown",
   "id": "412d1643",
   "metadata": {},
   "source": [
    "### Tools"
   ]
  },
  {
   "cell_type": "markdown",
   "id": "cc369587",
   "metadata": {},
   "source": [
    "\n",
    "| type | Name | Module |\n",
    "|:-----|:-----|--------|\n",
    "| C2 | Covenant | [PowerShellRemotingCommand](https://github.com/cobbr/Covenant/blob/master/Covenant/Data/Tasks/SharpSploit.LateralMovement.yaml) |"
   ]
  },
  {
   "cell_type": "markdown",
   "id": "0180c494",
   "metadata": {},
   "source": [
    "## Adversary View\n",
    "```\n",
    "[08/06/2020 15:56:13 UTC] PowerShellRemotingCommand completed\n",
    "\n",
    "(wardog) > PowerShellRemotingCommand /computername:\"WORKSTATION6\" /command:\"get-process\" /domain:\"theshire.local\" /username:\"pgustavo\" /password:\"W1n1!2019\"\n",
    "\n",
    "Handles  NPM(K)    PM(K)      WS(K)     CPU(s)     Id  SI ProcessName                     PSComputerName                \n",
    "\n",
    "-------  ------    -----      -----     ------     --  -- -----------                     --------------                \n",
    "\n",
    "    259      17     4712      24656       0.58   7996   2 ApplicationFrameHost            WORKSTATION6                  \n",
    "\n",
    "    118       7     6396      10664       0.03   1356   0 conhost                         WORKSTATION6                  \n",
    "\n",
    "    612      22     1720       4900       0.69    524   0 csrss                           WORKSTATION6                  \n",
    "\n",
    "    168      11     1544       4164       0.06    604   1 csrss                           WORKSTATION6                  \n",
    "\n",
    "    401      14     1664       5168       6.94   2528   2 csrss                           WORKSTATION6                  \n",
    "\n",
    "    384      15     3648      13620       5.97   2888   2 ctfmon                          WORKSTATION6                  \n",
    "\n",
    "    135       8     2016      12064       0.19   4952   2 dllhost                         WORKSTATION6                  \n",
    "\n",
    "    235      22     5100      14172       0.33   5028   2 dllhost                         WORKSTATION6                  \n",
    "\n",
    "    242      16     3776      12940       0.33   7864   2 dllhost                         WORKSTATION6                  \n",
    "\n",
    "    665      24    17888      38728       0.27    588   1 dwm                             WORKSTATION6                  \n",
    "\n",
    "    721      32    31996      69820      19.36   2512   2 dwm                             WORKSTATION6                  \n",
    "\n",
    "  1961      75    43016     122660      26.72   4156   2 explorer                        WORKSTATION6                  \n",
    "\n",
    "    32       5     1188       2072       0.03    880   1 fontdrvhost                     WORKSTATION6                  \n",
    "\n",
    "    32       5     1260       2172       0.08    884   0 fontdrvhost                     WORKSTATION6                  \n",
    "\n",
    "    32       7     3092       5864       0.75   4084   2 fontdrvhost                     WORKSTATION6                  \n",
    "\n",
    "      0       0       60          8                 0   0 Idle                            WORKSTATION6                  \n",
    "\n",
    "    632      34    17136      49032       0.48    608   1 LogonUI                         WORKSTATION6\n",
    "```"
   ]
  },
  {
   "cell_type": "markdown",
   "id": "14e4a36c",
   "metadata": {},
   "source": [
    "## Explore Datasets"
   ]
  },
  {
   "cell_type": "markdown",
   "id": "4367750c",
   "metadata": {},
   "source": [
    "### Download & Decompress Dataset"
   ]
  },
  {
   "cell_type": "code",
   "execution_count": null,
   "id": "3609b5d6",
   "metadata": {},
   "outputs": [],
   "source": [
    "import requests\n",
    "from zipfile import ZipFile\n",
    "from io import BytesIO\n",
    "\n",
    "url = https://raw.githubusercontent.com/OTRF/Security-Datasets/master/datasets/atomic/windows/lateral_movement/host/covenant_psremoting_command.zip\n",
    "zipFileRequest = requests.get(url)\n",
    "zipFile = ZipFile(BytesIO(zipFileRequest.content))\n",
    "datasetJSONPath = zipFile.extract(zipFile.namelist()[0])"
   ]
  },
  {
   "cell_type": "markdown",
   "id": "36a62803",
   "metadata": {},
   "source": [
    "### Read JSON File"
   ]
  },
  {
   "cell_type": "code",
   "execution_count": null,
   "id": "2886d4bf",
   "metadata": {},
   "outputs": [],
   "source": [
    "from pandas.io import json\n",
    "\n",
    "df = json.read_json(path_or_buf=datasetJSONPath, lines=True)"
   ]
  },
  {
   "cell_type": "markdown",
   "id": "47ee1f9c",
   "metadata": {},
   "source": [
    "### Access Security Events"
   ]
  },
  {
   "cell_type": "code",
   "execution_count": null,
   "id": "6696d4d2",
   "metadata": {},
   "outputs": [],
   "source": [
    "df.groupby(['Channel']).size().sort_values(ascending=False)"
   ]
  },
  {
   "cell_type": "markdown",
   "id": "c4c37439",
   "metadata": {},
   "source": [
    "## References\n",
    "* [https://blog.f-secure.com/endpoint-detection-of-remote-service-creation-and-psexec/](https://blog.f-secure.com/endpoint-detection-of-remote-service-creation-and-psexec/) "
   ]
  }
 ],
 "metadata": {},
 "nbformat": 4,
 "nbformat_minor": 5
}
