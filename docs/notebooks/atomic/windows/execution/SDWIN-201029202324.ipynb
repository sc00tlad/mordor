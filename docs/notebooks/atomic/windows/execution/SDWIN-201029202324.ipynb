{
 "cells": [
  {
   "cell_type": "markdown",
   "id": "825c6742",
   "metadata": {},
   "source": [
    "# SharpView PCRE.NET"
   ]
  },
  {
   "cell_type": "markdown",
   "id": "a38edb04",
   "metadata": {},
   "source": [
    "## Metadata"
   ]
  },
  {
   "cell_type": "markdown",
   "id": "4f49c646",
   "metadata": {},
   "source": [
    "\n",
    "|                   |    |\n",
    "|:------------------|:---|\n",
    "| Contributors      | Roberto Rodriguez @Cyb3rWard0g |\n",
    "| Creation Date     | 2020/10/29 |\n",
    "| Modification Date | 2020/10/29 |\n",
    "| Tactics           | [TA0002](https://attack.mitre.org/tactics/TA0002) |\n",
    "| Techniques        | [T1059](https://attack.mitre.org/techniques/T1059) |\n",
    "| Tags              | None |"
   ]
  },
  {
   "cell_type": "markdown",
   "id": "3727cfba",
   "metadata": {},
   "source": [
    "## Dataset Description\n",
    "This dataset represents a threat actor leveraging SharpView and specific functions such as Get-ObjectAcl creating files and loading dlls related to PCRE.NET use."
   ]
  },
  {
   "cell_type": "markdown",
   "id": "686f03af",
   "metadata": {},
   "source": [
    "## Datasets Downloads"
   ]
  },
  {
   "cell_type": "markdown",
   "id": "c642a687",
   "metadata": {},
   "source": [
    "\n",
    "| Type | Link   |\n",
    "|:-------------|:-------|\n",
    "| Host | [https://raw.githubusercontent.com/OTRF/Security-Datasets/master/datasets/atomic/windows/execution/host/cmd_sharpview_pcre_net.zip](https://raw.githubusercontent.com/OTRF/Security-Datasets/master/datasets/atomic/windows/execution/host/cmd_sharpview_pcre_net.zip) |"
   ]
  },
  {
   "cell_type": "markdown",
   "id": "63c1d69d",
   "metadata": {},
   "source": [
    "## Simulation Metadata"
   ]
  },
  {
   "cell_type": "markdown",
   "id": "2bd21d53",
   "metadata": {},
   "source": [
    "### Tools"
   ]
  },
  {
   "cell_type": "markdown",
   "id": "5c3b9284",
   "metadata": {},
   "source": [
    "\n",
    "| type | Name | Module |\n",
    "|:-----|:-----|--------|\n",
    "| Manual | Cmd | [Cmd](None) |"
   ]
  },
  {
   "cell_type": "markdown",
   "id": "60be3359",
   "metadata": {},
   "source": [
    "## Adversary View\n",
    "```\n",
    "C:\\ProgramData>SharpView.exe Get-ObjectAcl -SamAccountName \"Domain Admins\"\n",
    "[Get-DomainSearcher] search base: LDAP://MORDORDC.THESHIRE.LOCAL/DC=THESHIRE,DC=LOCAL\n",
    "[Get-DomainObjectAcl] Get-DomainObjectAcl filter string: (&(|(|(samAccountName=Domain Admins)(name=Domain Admins)(displayname=Domain Admins))))\n",
    "ObjectDN                       : CN=Domain Admins,CN=Users,DC=theshire,DC=local\n",
    "ObjectAceFlags                 : ObjectAceTypePresent, InheritedObjectAceTypePresent\n",
    "ObjectAceType                  : 4c164200-20c0-11d0-a768-00aa006e0529\n",
    "InheritedObjectAceType         : 4828cc14-1437-45bc-9b07-ad6f015e5f28\n",
    "BinaryLength                   : 60\n",
    "AceQualifier                   : AccessAllowed\n",
    "IsCallback                     : False\n",
    "OpaqueLength                   : 0\n",
    "AccessMask                     : 16\n",
    "SecurityIdentifier             : S-1-5-32-554\n",
    "AceType                        : AccessAllowedObject\n",
    "AceFlags                       : None\n",
    "IsInherited                    : False\n",
    "InheritanceFlags               : None\n",
    "PropagationFlags               : None\n",
    "AuditFlags                     : None\n",
    "ObjectSID                      : S-1-5-21-3140987116-517580383-2541594433-512\n",
    "ActiveDirectoryRights          : ReadProperty\n",
    "..\n",
    ".....\n",
    "```"
   ]
  },
  {
   "cell_type": "markdown",
   "id": "61fb637d",
   "metadata": {},
   "source": [
    "## Explore Datasets"
   ]
  },
  {
   "cell_type": "markdown",
   "id": "5de9987c",
   "metadata": {},
   "source": [
    "### Download & Decompress Dataset"
   ]
  },
  {
   "cell_type": "code",
   "execution_count": null,
   "id": "614299ca",
   "metadata": {},
   "outputs": [],
   "source": [
    "import requests\n",
    "from zipfile import ZipFile\n",
    "from io import BytesIO\n",
    "\n",
    "url = https://raw.githubusercontent.com/OTRF/Security-Datasets/master/datasets/atomic/windows/execution/host/cmd_sharpview_pcre_net.zip\n",
    "zipFileRequest = requests.get(url)\n",
    "zipFile = ZipFile(BytesIO(zipFileRequest.content))\n",
    "datasetJSONPath = zipFile.extract(zipFile.namelist()[0])"
   ]
  },
  {
   "cell_type": "markdown",
   "id": "02173ba2",
   "metadata": {},
   "source": [
    "### Read JSON File"
   ]
  },
  {
   "cell_type": "code",
   "execution_count": null,
   "id": "1782756b",
   "metadata": {},
   "outputs": [],
   "source": [
    "from pandas.io import json\n",
    "\n",
    "df = json.read_json(path_or_buf=datasetJSONPath, lines=True)"
   ]
  },
  {
   "cell_type": "markdown",
   "id": "a5a55cae",
   "metadata": {},
   "source": [
    "### Access Security Events"
   ]
  },
  {
   "cell_type": "code",
   "execution_count": null,
   "id": "73ef108d",
   "metadata": {},
   "outputs": [],
   "source": [
    "df.groupby(['Channel']).size().sort_values(ascending=False)"
   ]
  },
  {
   "cell_type": "markdown",
   "id": "b1fda334",
   "metadata": {},
   "source": [
    "## References\n",
    "* [https://github.com/tevora-threat/SharpView](https://github.com/tevora-threat/SharpView) \n",
    "* [https://twitter.com/rbmaslen/status/1321859647091970051](https://twitter.com/rbmaslen/status/1321859647091970051) \n",
    "* [https://twitter.com/tifkin_/status/1321916444557365248](https://twitter.com/tifkin_/status/1321916444557365248) "
   ]
  }
 ],
 "metadata": {},
 "nbformat": 4,
 "nbformat_minor": 5
}
