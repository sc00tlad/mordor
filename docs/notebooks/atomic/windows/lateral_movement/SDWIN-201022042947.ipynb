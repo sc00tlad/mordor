{
 "cells": [
  {
   "cell_type": "markdown",
   "id": "2b3c5d78",
   "metadata": {},
   "source": [
    "# PurpleSharp Active Directory Playbook I"
   ]
  },
  {
   "cell_type": "markdown",
   "id": "8eb32825",
   "metadata": {},
   "source": [
    "## Metadata"
   ]
  },
  {
   "cell_type": "markdown",
   "id": "bbdb471a",
   "metadata": {},
   "source": [
    "\n",
    "|                   |    |\n",
    "|:------------------|:---|\n",
    "| Contributors      | Roberto Rodriguez @Cyb3rWard0g,Mauricio Velazco @mvelazco |\n",
    "| Creation Date     | 2020/10/22 |\n",
    "| Modification Date | 2020/10/22 |\n",
    "| Tactics           | [TA0006](https://attack.mitre.org/tactics/TA0006),[TA0007](https://attack.mitre.org/tactics/TA0007),[TA0008](https://attack.mitre.org/tactics/TA0008) |\n",
    "| Techniques        | [T1110.003](https://attack.mitre.org/techniques/T1110/003),[T1558.003](https://attack.mitre.org/techniques/T1558/003),[T1135](https://attack.mitre.org/techniques/T1135),[T1021.006](https://attack.mitre.org/techniques/T1021/006) |\n",
    "| Tags              | None |"
   ]
  },
  {
   "cell_type": "markdown",
   "id": "352af0a4",
   "metadata": {},
   "source": [
    "## Dataset Description\n",
    "This dataset represents threat actors performing a few techniques in Active Directory to brute force passwords, request Kerberos ticket-granting service (TGS) service tickets from all SPNs, test access to remote network shares, and move laterally over Windows Remote Management (WinRM)."
   ]
  },
  {
   "cell_type": "markdown",
   "id": "8866fb67",
   "metadata": {},
   "source": [
    "## Datasets Downloads"
   ]
  },
  {
   "cell_type": "markdown",
   "id": "629ad61b",
   "metadata": {},
   "source": [
    "\n",
    "| Type | Link   |\n",
    "|:-------------|:-------|\n",
    "| Host | [https://raw.githubusercontent.com/OTRF/Security-Datasets/master/datasets/atomic/windows/lateral_movement/host/purplesharp_ad_playbook_I.zip](https://raw.githubusercontent.com/OTRF/Security-Datasets/master/datasets/atomic/windows/lateral_movement/host/purplesharp_ad_playbook_I.zip) |\n",
    "| Network | [https://raw.githubusercontent.com/OTRF/Security-Datasets/master/datasets/atomic/windows/lateral_movement/network/purplesharp_ad_playbook_I.zip](https://raw.githubusercontent.com/OTRF/Security-Datasets/master/datasets/atomic/windows/lateral_movement/network/purplesharp_ad_playbook_I.zip) |"
   ]
  },
  {
   "cell_type": "markdown",
   "id": "e38712d2",
   "metadata": {},
   "source": [
    "## Simulation Metadata"
   ]
  },
  {
   "cell_type": "markdown",
   "id": "7965db02",
   "metadata": {},
   "source": [
    "### Tools"
   ]
  },
  {
   "cell_type": "markdown",
   "id": "705fe426",
   "metadata": {},
   "source": [
    "\n",
    "| type | Name | Module |\n",
    "|:-----|:-----|--------|\n",
    "| Manual | Cmd | [Cmd](https://github.com/mvelazc0/PurpleSharp) |"
   ]
  },
  {
   "cell_type": "markdown",
   "id": "0c98df9e",
   "metadata": {},
   "source": [
    "## Adversary View\n",
    "```\n",
    "c:\\Users\\pgustavo\\Downloads>PurpleSharp.exe /t T1110.003,T1558.003,T1135,T1021.006\n",
    "10/22/2020 04:29:52 [*]  Starting T1110.003 Simulation on WORKSTATION5\n",
    "10/22/2020 04:29:52 [*]  Simulator running from c:\\Users\\pgustavo\\Downloads\\PurpleSharp.exe with PID:7520 as THESHIRE\\pgustavo\n",
    "10/22/2020 04:29:52 [*]  Local Domain Brute Force using the LogonUser Win32 API function\n",
    "[*] Targeting domain neighbor users\n",
    "[*] Using LogonServer MORDORDC.theshire.local for LDAP queries\n",
    "[*] Querying for active domain users with badPwdCount <= 3..\n",
    "10/22/2020 04:29:53 [*]  Obtained 7 user accounts\n",
    "10/22/2020 04:29:53 [*]  Tried to authenticate as lrodriguez (NTLM). Error Code:1326\n",
    "10/22/2020 04:29:53 [*]  Tried to authenticate as pgustavo (NTLM). Error Code:1326\n",
    "10/22/2020 04:29:53 [*]  Tried to authenticate as sysmonsvc (NTLM). Error Code:1326\n",
    "10/22/2020 04:29:53 [*]  Tried to authenticate as sbeavers (NTLM). Error Code:1326\n",
    "10/22/2020 04:29:53 [*]  Tried to authenticate as mscott (NTLM). Error Code:1326\n",
    "10/22/2020 04:29:53 [*]  Tried to authenticate as pbeesly (NTLM). Error Code:1326\n",
    "10/22/2020 04:29:53 [*]  Tried to authenticate as nxlogsvc (NTLM). Error Code:1326\n",
    "10/22/2020 04:29:53 [*]  Simulation Finished\n",
    "10/22/2020 04:29:53 [*]  Starting T1558.003 Simulation on WORKSTATION5\n",
    "10/22/2020 04:29:53 [*]  Simulator running from c:\\Users\\pgustavo\\Downloads\\PurpleSharp.exe with PID:7520 as THESHIRE\\pgustavo\n",
    "10/22/2020 04:29:54 [*]  Obtained service ticket and hash for SPN Sysmon/theshire.local (sysmonsvc)\n",
    "10/22/2020 04:29:54 [*]  Obtained service ticket and hash for SPN Nxlog/theshire.local (nxlogsvc)\n",
    "10/22/2020 04:29:54 [*]  Obtained service ticket and hash for SPN Defense/theshire.local (defensesvc)\n",
    "10/22/2020 04:29:54 [*]  Obtained service ticket and hash for SPN OTR/theshire.local (otrsvc)\n",
    "10/22/2020 04:29:54 [*]  Obtained service ticket and hash for SPN Ring/theshire.local (mordorsvc)\n",
    "10/22/2020 04:29:54 [*]  Simulation Finished\n",
    "10/22/2020 04:29:54 [*]  Starting T1135 Simulation on WORKSTATION5\n",
    "10/22/2020 04:29:54 [*]  Simulator running from c:\\Users\\pgustavo\\Downloads\\PurpleSharp.exe with PID:7520 as THESHIRE\\pgustavo\n",
    "10/22/2020 04:29:54 [*]  Using the Win32 API NetShareEnum function to execute this technique\n",
    "[*] Obtaining domain neighbor targets ...\n",
    "[*] Using MORDORDC.theshire.local for LDAP queries\n",
    "10/22/2020 04:29:54 [*]  Obtained 4 target computers\n",
    "10/22/2020 04:29:54 [*]  Successfully enumerated shares on WEC.theshire.local as THESHIRE\\pgustavo\n",
    "10/22/2020 04:29:54 [*]  Successfully enumerated shares on WORKSTATION6.theshire.local as THESHIRE\\pgustavo\n",
    "10/22/2020 04:29:54 [*]  Successfully enumerated shares on MORDORDC.theshire.local as THESHIRE\\pgustavo\n",
    "10/22/2020 04:29:54 [*]  Successfully enumerated shares on WORKSTATION7.theshire.local as THESHIRE\\pgustavo\n",
    "10/22/2020 04:29:54 [*]  Simulation Finished\n",
    "10/22/2020 04:29:54 [*]  Starting T1021.006 Simulation on WORKSTATION5\n",
    "10/22/2020 04:29:54 [*]  Simulator running from c:\\Users\\pgustavo\\Downloads\\PurpleSharp.exe with PID:7520 as THESHIRE\\pgustavo\n",
    "10/22/2020 04:29:54 [*]  Using the System.Management.Automation .NET namespace to execute this technique\n",
    "10/22/2020 04:29:54 [*]  Querying LDAP for random targets...\n",
    "[*] Obtaining domain neighbor targets ...\n",
    "[*] Using MORDORDC.theshire.local for LDAP queries\n",
    "10/22/2020 04:29:54 [*]  Obtained 4 target computers\n",
    "10/22/2020 04:29:59 [*]  Started a process using WinRM on WORKSTATION7\n",
    "10/22/2020 04:30:00 [*]  Started a process using WinRM on WEC\n",
    "10/22/2020 04:30:00 [*]  Started a process using WinRM on WORKSTATION6\n",
    "10/22/2020 04:30:01 [*]  Started a process using WinRM on MORDORDC\n",
    "10/22/2020 04:30:01 [*]  Simulation Finished\n",
    "10/22/2020 04:30:01 [*]  Playbook Finished\n",
    "\n",
    "c:\\Users\\pgustavo\\Downloads>\n",
    "```"
   ]
  },
  {
   "cell_type": "markdown",
   "id": "dc0897fd",
   "metadata": {},
   "source": [
    "## Explore Datasets"
   ]
  },
  {
   "cell_type": "markdown",
   "id": "608931fa",
   "metadata": {},
   "source": [
    "### Download & Decompress Dataset"
   ]
  },
  {
   "cell_type": "code",
   "execution_count": null,
   "id": "c0a2d87c",
   "metadata": {},
   "outputs": [],
   "source": [
    "import requests\n",
    "from zipfile import ZipFile\n",
    "from io import BytesIO\n",
    "\n",
    "url = https://raw.githubusercontent.com/OTRF/Security-Datasets/master/datasets/atomic/windows/lateral_movement/host/purplesharp_ad_playbook_I.zip\n",
    "zipFileRequest = requests.get(url)\n",
    "zipFile = ZipFile(BytesIO(zipFileRequest.content))\n",
    "datasetJSONPath = zipFile.extract(zipFile.namelist()[0])"
   ]
  },
  {
   "cell_type": "markdown",
   "id": "6db5d1cd",
   "metadata": {},
   "source": [
    "### Read JSON File"
   ]
  },
  {
   "cell_type": "code",
   "execution_count": null,
   "id": "2d84cac0",
   "metadata": {},
   "outputs": [],
   "source": [
    "from pandas.io import json\n",
    "\n",
    "df = json.read_json(path_or_buf=datasetJSONPath, lines=True)"
   ]
  },
  {
   "cell_type": "markdown",
   "id": "86075f3b",
   "metadata": {},
   "source": [
    "### Access Security Events"
   ]
  },
  {
   "cell_type": "code",
   "execution_count": null,
   "id": "4e84e6ca",
   "metadata": {},
   "outputs": [],
   "source": [
    "df.groupby(['Channel']).size().sort_values(ascending=False)"
   ]
  },
  {
   "cell_type": "markdown",
   "id": "afbff3bf",
   "metadata": {},
   "source": [
    "## References\n",
    "* [https://github.com/mvelazc0/PurpleSharp](https://github.com/mvelazc0/PurpleSharp) "
   ]
  }
 ],
 "metadata": {},
 "nbformat": 4,
 "nbformat_minor": 5
}
